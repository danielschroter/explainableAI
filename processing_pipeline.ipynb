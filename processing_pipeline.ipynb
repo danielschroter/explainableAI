{
 "cells": [
  {
   "cell_type": "code",
   "execution_count": 2,
   "metadata": {},
   "outputs": [
    {
     "name": "stderr",
     "output_type": "stream",
     "text": [
      "[nltk_data] Downloading package punkt to\n",
      "[nltk_data]     C:\\Users\\dschr\\AppData\\Roaming\\nltk_data...\n",
      "[nltk_data]   Package punkt is already up-to-date!\n"
     ]
    }
   ],
   "source": [
    "import nltk\n",
    "nltk.download('punkt')\n",
    "from nltk.tokenize import word_tokenize\n",
    "import numpy as np"
   ]
  },
  {
   "cell_type": "code",
   "execution_count": 4,
   "metadata": {},
   "outputs": [],
   "source": [
    "import pandas as pd"
   ]
  },
  {
   "cell_type": "code",
   "execution_count": 5,
   "metadata": {},
   "outputs": [],
   "source": [
    "def cosine(u, v):\n",
    "    return np.dot(u, v) / (np.linalg.norm(u) * np.linalg.norm(v))"
   ]
  },
  {
   "cell_type": "code",
   "execution_count": 6,
   "metadata": {},
   "outputs": [],
   "source": [
    "# You have to adjust the \n",
    "df_arguments = pd.read_csv(\"../KPA_2021_shared_task/kpm_data/arguments_train.csv\")\n",
    "df_keypoints = pd.read_csv(\"../KPA_2021_shared_task/kpm_data/key_points_train.csv\")\n",
    "df_labels = pd.read_csv(\"../KPA_2021_shared_task/kpm_data/labels_train.csv\")"
   ]
  },
  {
   "cell_type": "code",
   "execution_count": 7,
   "metadata": {},
   "outputs": [
    {
     "data": {
      "text/html": [
       "<div>\n",
       "<style scoped>\n",
       "    .dataframe tbody tr th:only-of-type {\n",
       "        vertical-align: middle;\n",
       "    }\n",
       "\n",
       "    .dataframe tbody tr th {\n",
       "        vertical-align: top;\n",
       "    }\n",
       "\n",
       "    .dataframe thead th {\n",
       "        text-align: right;\n",
       "    }\n",
       "</style>\n",
       "<table border=\"1\" class=\"dataframe\">\n",
       "  <thead>\n",
       "    <tr style=\"text-align: right;\">\n",
       "      <th></th>\n",
       "      <th>arg_id</th>\n",
       "      <th>argument</th>\n",
       "      <th>topic</th>\n",
       "      <th>stance</th>\n",
       "    </tr>\n",
       "  </thead>\n",
       "  <tbody>\n",
       "    <tr>\n",
       "      <th>0</th>\n",
       "      <td>arg_0_0</td>\n",
       "      <td>`people reach their limit when it comes to the...</td>\n",
       "      <td>Assisted suicide should be a criminal offence</td>\n",
       "      <td>-1</td>\n",
       "    </tr>\n",
       "    <tr>\n",
       "      <th>1</th>\n",
       "      <td>arg_0_1</td>\n",
       "      <td>A patient should be able to decide when they h...</td>\n",
       "      <td>Assisted suicide should be a criminal offence</td>\n",
       "      <td>-1</td>\n",
       "    </tr>\n",
       "    <tr>\n",
       "      <th>2</th>\n",
       "      <td>arg_0_2</td>\n",
       "      <td>a person has the right to end their suffering ...</td>\n",
       "      <td>Assisted suicide should be a criminal offence</td>\n",
       "      <td>-1</td>\n",
       "    </tr>\n",
       "    <tr>\n",
       "      <th>3</th>\n",
       "      <td>arg_0_3</td>\n",
       "      <td>a person should have the dignity to choose how...</td>\n",
       "      <td>Assisted suicide should be a criminal offence</td>\n",
       "      <td>-1</td>\n",
       "    </tr>\n",
       "    <tr>\n",
       "      <th>4</th>\n",
       "      <td>arg_0_4</td>\n",
       "      <td>a person should have the right to be able to c...</td>\n",
       "      <td>Assisted suicide should be a criminal offence</td>\n",
       "      <td>-1</td>\n",
       "    </tr>\n",
       "  </tbody>\n",
       "</table>\n",
       "</div>"
      ],
      "text/plain": [
       "    arg_id                                           argument  \\\n",
       "0  arg_0_0  `people reach their limit when it comes to the...   \n",
       "1  arg_0_1  A patient should be able to decide when they h...   \n",
       "2  arg_0_2  a person has the right to end their suffering ...   \n",
       "3  arg_0_3  a person should have the dignity to choose how...   \n",
       "4  arg_0_4  a person should have the right to be able to c...   \n",
       "\n",
       "                                           topic  stance  \n",
       "0  Assisted suicide should be a criminal offence      -1  \n",
       "1  Assisted suicide should be a criminal offence      -1  \n",
       "2  Assisted suicide should be a criminal offence      -1  \n",
       "3  Assisted suicide should be a criminal offence      -1  \n",
       "4  Assisted suicide should be a criminal offence      -1  "
      ]
     },
     "execution_count": 7,
     "metadata": {},
     "output_type": "execute_result"
    }
   ],
   "source": [
    "df_arguments.head()"
   ]
  },
  {
   "cell_type": "code",
   "execution_count": 6,
   "metadata": {},
   "outputs": [],
   "source": [
    "key_points = df_keypoints['key_point']"
   ]
  },
  {
   "cell_type": "code",
   "execution_count": 7,
   "metadata": {},
   "outputs": [],
   "source": [
    "from sentence_transformers import SentenceTransformer\n",
    "sbert_model = SentenceTransformer('bert-base-nli-mean-tokens')"
   ]
  },
  {
   "cell_type": "code",
   "execution_count": 8,
   "metadata": {},
   "outputs": [],
   "source": [
    "key_point_embeddings = sbert_model.encode(key_points)"
   ]
  },
  {
   "cell_type": "code",
   "execution_count": 9,
   "metadata": {},
   "outputs": [],
   "source": [
    "query_arg = df_arguments[\"argument\"][]1\n",
    "query_arg_id = df_arguments[\"arg_id\"][1]"
   ]
  },
  {
   "cell_type": "code",
   "execution_count": 11,
   "metadata": {},
   "outputs": [
    {
     "name": "stdout",
     "output_type": "stream",
     "text": [
      "arg_0_1\n"
     ]
    }
   ],
   "source": [
    "print(query_arg_id)"
   ]
  },
  {
   "cell_type": "code",
   "execution_count": 13,
   "metadata": {},
   "outputs": [],
   "source": [
    "query_vec = sbert_model.encode([query_arg])[0]"
   ]
  },
  {
   "cell_type": "code",
   "execution_count": 16,
   "metadata": {},
   "outputs": [],
   "source": [
    "l_arg = []\n",
    "l_sim = []\n",
    "for kp in key_points:\n",
    "  sim = cosine(query_vec, sbert_model.encode([kp])[0])\n",
    "  l_arg.append(kp)\n",
    "  l_sim.append(sim)\n",
    "  # print(\"Sentence = \", sent, \"; similarity = \", sim)\n",
    "    \n",
    "result = pd.DataFrame({\"key_point\": l_arg, \"similarity\": l_sim})"
   ]
  },
  {
   "cell_type": "code",
   "execution_count": 17,
   "metadata": {},
   "outputs": [
    {
     "data": {
      "text/html": [
       "<div>\n",
       "<style scoped>\n",
       "    .dataframe tbody tr th:only-of-type {\n",
       "        vertical-align: middle;\n",
       "    }\n",
       "\n",
       "    .dataframe tbody tr th {\n",
       "        vertical-align: top;\n",
       "    }\n",
       "\n",
       "    .dataframe thead th {\n",
       "        text-align: right;\n",
       "    }\n",
       "</style>\n",
       "<table border=\"1\" class=\"dataframe\">\n",
       "  <thead>\n",
       "    <tr style=\"text-align: right;\">\n",
       "      <th></th>\n",
       "      <th>key_point</th>\n",
       "      <th>similarity</th>\n",
       "    </tr>\n",
       "  </thead>\n",
       "  <tbody>\n",
       "    <tr>\n",
       "      <th>0</th>\n",
       "      <td>Assisted suicide gives dignity to the person t...</td>\n",
       "      <td>0.518209</td>\n",
       "    </tr>\n",
       "    <tr>\n",
       "      <th>1</th>\n",
       "      <td>Assisted suicide reduces suffering</td>\n",
       "      <td>0.526782</td>\n",
       "    </tr>\n",
       "    <tr>\n",
       "      <th>2</th>\n",
       "      <td>People should have the freedom to choose to en...</td>\n",
       "      <td>0.633044</td>\n",
       "    </tr>\n",
       "    <tr>\n",
       "      <th>3</th>\n",
       "      <td>The terminally ill would benefit from assisted...</td>\n",
       "      <td>0.557968</td>\n",
       "    </tr>\n",
       "    <tr>\n",
       "      <th>4</th>\n",
       "      <td>Assisted suicide allows people to solicit some...</td>\n",
       "      <td>0.462178</td>\n",
       "    </tr>\n",
       "  </tbody>\n",
       "</table>\n",
       "</div>"
      ],
      "text/plain": [
       "                                           key_point  similarity\n",
       "0  Assisted suicide gives dignity to the person t...    0.518209\n",
       "1                 Assisted suicide reduces suffering    0.526782\n",
       "2  People should have the freedom to choose to en...    0.633044\n",
       "3  The terminally ill would benefit from assisted...    0.557968\n",
       "4  Assisted suicide allows people to solicit some...    0.462178"
      ]
     },
     "execution_count": 17,
     "metadata": {},
     "output_type": "execute_result"
    }
   ],
   "source": [
    "result.head()"
   ]
  },
  {
   "cell_type": "code",
   "execution_count": 20,
   "metadata": {},
   "outputs": [
    {
     "name": "stdout",
     "output_type": "stream",
     "text": [
      "kp_13_4\n"
     ]
    }
   ],
   "source": [
    "most_similar_kp = result.loc[result['similarity'].idxmax()]\n",
    "most_similar_kp_id = df_keypoints[df_keypoints[\"key_point\"]==most_similar_kp[\"key_point\"]][\"key_point_id\"].iloc[0]\n",
    "print(most_similar_kp_id)"
   ]
  },
  {
   "cell_type": "code",
   "execution_count": 22,
   "metadata": {},
   "outputs": [
    {
     "name": "stdout",
     "output_type": "stream",
     "text": [
      "kp_0_2\n"
     ]
    }
   ],
   "source": [
    "correct_kp = df_labels[df_labels[\"arg_id\"]==query_arg_id]\n",
    "correct_kp = correct_kp[correct_kp[\"label\"]==1][\"key_point_id\"].iloc[0]\n",
    "print(correct_kp)"
   ]
  },
  {
   "cell_type": "code",
   "execution_count": null,
   "metadata": {},
   "outputs": [],
   "source": []
  },
  {
   "cell_type": "code",
   "execution_count": 25,
   "metadata": {},
   "outputs": [
    {
     "name": "stdout",
     "output_type": "stream",
     "text": [
      "Query:  A patient should be able to decide when they have had enough \"care\".\n",
      "Key_point is:  The parents should decide for their child\n",
      "Matching: False\n"
     ]
    }
   ],
   "source": [
    "print(\"Query: \", query_arg)\n",
    "print(\"Key_point is: \", most_similar_kp[\"key_point\"])\n",
    "if correct_kp == most_similar_kp_id:\n",
    "    print(\"Matching: Correct\")\n",
    "else:\n",
    "    print(\"Matching: False\")"
   ]
  }
 ],
 "metadata": {
  "kernelspec": {
   "display_name": "keypointanalysis",
   "language": "python",
   "name": "keypointanalysis"
  },
  "language_info": {
   "codemirror_mode": {
    "name": "ipython",
    "version": 3
   },
   "file_extension": ".py",
   "mimetype": "text/x-python",
   "name": "python",
   "nbconvert_exporter": "python",
   "pygments_lexer": "ipython3",
   "version": "3.8.12"
  },
  "varInspector": {
   "cols": {
    "lenName": 16,
    "lenType": 16,
    "lenVar": 40
   },
   "kernels_config": {
    "python": {
     "delete_cmd_postfix": "",
     "delete_cmd_prefix": "del ",
     "library": "var_list.py",
     "varRefreshCmd": "print(var_dic_list())"
    },
    "r": {
     "delete_cmd_postfix": ") ",
     "delete_cmd_prefix": "rm(",
     "library": "var_list.r",
     "varRefreshCmd": "cat(var_dic_list()) "
    }
   },
   "types_to_exclude": [
    "module",
    "function",
    "builtin_function_or_method",
    "instance",
    "_Feature"
   ],
   "window_display": false
  }
 },
 "nbformat": 4,
 "nbformat_minor": 4
}
