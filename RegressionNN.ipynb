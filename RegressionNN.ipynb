{
 "cells": [
  {
   "cell_type": "code",
   "execution_count": 60,
   "outputs": [],
   "source": [
    "import nltk\n",
    "import numpy as np\n",
    "import pandas as pd\n",
    "from tensorflow import keras\n",
    "from tensorflow.keras.layers import Dense\n",
    "from sentence_transformers import SentenceTransformer\n",
    "\n",
    "sbert_model = SentenceTransformer('bert-base-nli-mean-tokens')"
   ],
   "metadata": {
    "collapsed": false,
    "pycharm": {
     "name": "#%%\n"
    }
   }
  },
  {
   "cell_type": "code",
   "execution_count": 61,
   "outputs": [],
   "source": [
    "def cosine(u, v):\n",
    "    return np.dot(u, v) / (np.linalg.norm(u) * np.linalg.norm(v))"
   ],
   "metadata": {
    "collapsed": false,
    "pycharm": {
     "name": "#%%\n"
    }
   }
  },
  {
   "cell_type": "code",
   "execution_count": 62,
   "outputs": [],
   "source": [
    "# You have to adjust the\n",
    "df_arguments = pd.read_csv(\"kpm_data/arguments_train.csv\")\n",
    "df_keypoints = pd.read_csv(\"kpm_data/key_points_train.csv\")\n",
    "df_labels = pd.read_csv(\"kpm_data/labels_train.csv\")"
   ],
   "metadata": {
    "collapsed": false,
    "pycharm": {
     "name": "#%%\n"
    }
   }
  },
  {
   "cell_type": "code",
   "execution_count": 63,
   "outputs": [
    {
     "data": {
      "text/plain": "          arg_id                                           argument  \\\n0        arg_0_0  `people reach their limit when it comes to the...   \n1        arg_0_1  A patient should be able to decide when they h...   \n2        arg_0_2  a person has the right to end their suffering ...   \n3        arg_0_3  a person should have the dignity to choose how...   \n4        arg_0_4  a person should have the right to be able to c...   \n...          ...                                                ...   \n5578  arg_27_218  we should subsidize vocational education to en...   \n5579  arg_27_219  We should subsidize vocational education to su...   \n5580  arg_27_220  While many who graduate from universities stru...   \n5581  arg_27_221  with the rising cost of college tuition vocati...   \n5582  arg_27_222  yes, we should subsidize vocational education ...   \n\n                                              topic  stance  \n0     Assisted suicide should be a criminal offence      -1  \n1     Assisted suicide should be a criminal offence      -1  \n2     Assisted suicide should be a criminal offence      -1  \n3     Assisted suicide should be a criminal offence      -1  \n4     Assisted suicide should be a criminal offence      -1  \n...                                             ...     ...  \n5578       We should subsidize vocational education       1  \n5579       We should subsidize vocational education       1  \n5580       We should subsidize vocational education       1  \n5581       We should subsidize vocational education       1  \n5582       We should subsidize vocational education       1  \n\n[5583 rows x 4 columns]",
      "text/html": "<div>\n<style scoped>\n    .dataframe tbody tr th:only-of-type {\n        vertical-align: middle;\n    }\n\n    .dataframe tbody tr th {\n        vertical-align: top;\n    }\n\n    .dataframe thead th {\n        text-align: right;\n    }\n</style>\n<table border=\"1\" class=\"dataframe\">\n  <thead>\n    <tr style=\"text-align: right;\">\n      <th></th>\n      <th>arg_id</th>\n      <th>argument</th>\n      <th>topic</th>\n      <th>stance</th>\n    </tr>\n  </thead>\n  <tbody>\n    <tr>\n      <th>0</th>\n      <td>arg_0_0</td>\n      <td>`people reach their limit when it comes to the...</td>\n      <td>Assisted suicide should be a criminal offence</td>\n      <td>-1</td>\n    </tr>\n    <tr>\n      <th>1</th>\n      <td>arg_0_1</td>\n      <td>A patient should be able to decide when they h...</td>\n      <td>Assisted suicide should be a criminal offence</td>\n      <td>-1</td>\n    </tr>\n    <tr>\n      <th>2</th>\n      <td>arg_0_2</td>\n      <td>a person has the right to end their suffering ...</td>\n      <td>Assisted suicide should be a criminal offence</td>\n      <td>-1</td>\n    </tr>\n    <tr>\n      <th>3</th>\n      <td>arg_0_3</td>\n      <td>a person should have the dignity to choose how...</td>\n      <td>Assisted suicide should be a criminal offence</td>\n      <td>-1</td>\n    </tr>\n    <tr>\n      <th>4</th>\n      <td>arg_0_4</td>\n      <td>a person should have the right to be able to c...</td>\n      <td>Assisted suicide should be a criminal offence</td>\n      <td>-1</td>\n    </tr>\n    <tr>\n      <th>...</th>\n      <td>...</td>\n      <td>...</td>\n      <td>...</td>\n      <td>...</td>\n    </tr>\n    <tr>\n      <th>5578</th>\n      <td>arg_27_218</td>\n      <td>we should subsidize vocational education to en...</td>\n      <td>We should subsidize vocational education</td>\n      <td>1</td>\n    </tr>\n    <tr>\n      <th>5579</th>\n      <td>arg_27_219</td>\n      <td>We should subsidize vocational education to su...</td>\n      <td>We should subsidize vocational education</td>\n      <td>1</td>\n    </tr>\n    <tr>\n      <th>5580</th>\n      <td>arg_27_220</td>\n      <td>While many who graduate from universities stru...</td>\n      <td>We should subsidize vocational education</td>\n      <td>1</td>\n    </tr>\n    <tr>\n      <th>5581</th>\n      <td>arg_27_221</td>\n      <td>with the rising cost of college tuition vocati...</td>\n      <td>We should subsidize vocational education</td>\n      <td>1</td>\n    </tr>\n    <tr>\n      <th>5582</th>\n      <td>arg_27_222</td>\n      <td>yes, we should subsidize vocational education ...</td>\n      <td>We should subsidize vocational education</td>\n      <td>1</td>\n    </tr>\n  </tbody>\n</table>\n<p>5583 rows × 4 columns</p>\n</div>"
     },
     "execution_count": 63,
     "metadata": {},
     "output_type": "execute_result"
    }
   ],
   "source": [
    "df_arguments"
   ],
   "metadata": {
    "collapsed": false,
    "pycharm": {
     "name": "#%%\n"
    }
   }
  },
  {
   "cell_type": "code",
   "execution_count": 64,
   "outputs": [
    {
     "data": {
      "text/plain": "    key_point_id                                          key_point  \\\n0         kp_0_0  Assisted suicide gives dignity to the person t...   \n1         kp_0_1                 Assisted suicide reduces suffering   \n2         kp_0_2  People should have the freedom to choose to en...   \n3         kp_0_3  The terminally ill would benefit from assisted...   \n4         kp_0_4  Assisted suicide allows people to solicit some...   \n..           ...                                                ...   \n202      kp_27_3      subsidizing vocational education is expensive   \n203      kp_27_4  subsidizing vocational education promotes thos...   \n204      kp_27_5       vocational education is a good career choice   \n205      kp_27_6     vocational education better fits many students   \n206      kp_27_7  vocational education is beneficial for the ent...   \n\n                                             topic  stance  \n0    Assisted suicide should be a criminal offence      -1  \n1    Assisted suicide should be a criminal offence      -1  \n2    Assisted suicide should be a criminal offence      -1  \n3    Assisted suicide should be a criminal offence      -1  \n4    Assisted suicide should be a criminal offence       1  \n..                                             ...     ...  \n202       We should subsidize vocational education      -1  \n203       We should subsidize vocational education       1  \n204       We should subsidize vocational education       1  \n205       We should subsidize vocational education       1  \n206       We should subsidize vocational education       1  \n\n[207 rows x 4 columns]",
      "text/html": "<div>\n<style scoped>\n    .dataframe tbody tr th:only-of-type {\n        vertical-align: middle;\n    }\n\n    .dataframe tbody tr th {\n        vertical-align: top;\n    }\n\n    .dataframe thead th {\n        text-align: right;\n    }\n</style>\n<table border=\"1\" class=\"dataframe\">\n  <thead>\n    <tr style=\"text-align: right;\">\n      <th></th>\n      <th>key_point_id</th>\n      <th>key_point</th>\n      <th>topic</th>\n      <th>stance</th>\n    </tr>\n  </thead>\n  <tbody>\n    <tr>\n      <th>0</th>\n      <td>kp_0_0</td>\n      <td>Assisted suicide gives dignity to the person t...</td>\n      <td>Assisted suicide should be a criminal offence</td>\n      <td>-1</td>\n    </tr>\n    <tr>\n      <th>1</th>\n      <td>kp_0_1</td>\n      <td>Assisted suicide reduces suffering</td>\n      <td>Assisted suicide should be a criminal offence</td>\n      <td>-1</td>\n    </tr>\n    <tr>\n      <th>2</th>\n      <td>kp_0_2</td>\n      <td>People should have the freedom to choose to en...</td>\n      <td>Assisted suicide should be a criminal offence</td>\n      <td>-1</td>\n    </tr>\n    <tr>\n      <th>3</th>\n      <td>kp_0_3</td>\n      <td>The terminally ill would benefit from assisted...</td>\n      <td>Assisted suicide should be a criminal offence</td>\n      <td>-1</td>\n    </tr>\n    <tr>\n      <th>4</th>\n      <td>kp_0_4</td>\n      <td>Assisted suicide allows people to solicit some...</td>\n      <td>Assisted suicide should be a criminal offence</td>\n      <td>1</td>\n    </tr>\n    <tr>\n      <th>...</th>\n      <td>...</td>\n      <td>...</td>\n      <td>...</td>\n      <td>...</td>\n    </tr>\n    <tr>\n      <th>202</th>\n      <td>kp_27_3</td>\n      <td>subsidizing vocational education is expensive</td>\n      <td>We should subsidize vocational education</td>\n      <td>-1</td>\n    </tr>\n    <tr>\n      <th>203</th>\n      <td>kp_27_4</td>\n      <td>subsidizing vocational education promotes thos...</td>\n      <td>We should subsidize vocational education</td>\n      <td>1</td>\n    </tr>\n    <tr>\n      <th>204</th>\n      <td>kp_27_5</td>\n      <td>vocational education is a good career choice</td>\n      <td>We should subsidize vocational education</td>\n      <td>1</td>\n    </tr>\n    <tr>\n      <th>205</th>\n      <td>kp_27_6</td>\n      <td>vocational education better fits many students</td>\n      <td>We should subsidize vocational education</td>\n      <td>1</td>\n    </tr>\n    <tr>\n      <th>206</th>\n      <td>kp_27_7</td>\n      <td>vocational education is beneficial for the ent...</td>\n      <td>We should subsidize vocational education</td>\n      <td>1</td>\n    </tr>\n  </tbody>\n</table>\n<p>207 rows × 4 columns</p>\n</div>"
     },
     "execution_count": 64,
     "metadata": {},
     "output_type": "execute_result"
    }
   ],
   "source": [
    "df_keypoints"
   ],
   "metadata": {
    "collapsed": false,
    "pycharm": {
     "name": "#%%\n"
    }
   }
  },
  {
   "cell_type": "code",
   "execution_count": 136,
   "outputs": [
    {
     "data": {
      "text/plain": "           arg_id key_point_id  label\n0         arg_0_0       kp_0_0      0\n1       arg_0_121       kp_0_4      0\n2       arg_0_121       kp_0_5      0\n3       arg_0_121       kp_0_6      1\n4       arg_0_121       kp_0_7      0\n...           ...          ...    ...\n20630  arg_27_221      kp_27_6      0\n20631  arg_27_221      kp_27_7      0\n20632  arg_27_222      kp_27_4      0\n20633  arg_27_222      kp_27_5      1\n20634  arg_27_222      kp_27_7      0\n\n[20635 rows x 3 columns]",
      "text/html": "<div>\n<style scoped>\n    .dataframe tbody tr th:only-of-type {\n        vertical-align: middle;\n    }\n\n    .dataframe tbody tr th {\n        vertical-align: top;\n    }\n\n    .dataframe thead th {\n        text-align: right;\n    }\n</style>\n<table border=\"1\" class=\"dataframe\">\n  <thead>\n    <tr style=\"text-align: right;\">\n      <th></th>\n      <th>arg_id</th>\n      <th>key_point_id</th>\n      <th>label</th>\n    </tr>\n  </thead>\n  <tbody>\n    <tr>\n      <th>0</th>\n      <td>arg_0_0</td>\n      <td>kp_0_0</td>\n      <td>0</td>\n    </tr>\n    <tr>\n      <th>1</th>\n      <td>arg_0_121</td>\n      <td>kp_0_4</td>\n      <td>0</td>\n    </tr>\n    <tr>\n      <th>2</th>\n      <td>arg_0_121</td>\n      <td>kp_0_5</td>\n      <td>0</td>\n    </tr>\n    <tr>\n      <th>3</th>\n      <td>arg_0_121</td>\n      <td>kp_0_6</td>\n      <td>1</td>\n    </tr>\n    <tr>\n      <th>4</th>\n      <td>arg_0_121</td>\n      <td>kp_0_7</td>\n      <td>0</td>\n    </tr>\n    <tr>\n      <th>...</th>\n      <td>...</td>\n      <td>...</td>\n      <td>...</td>\n    </tr>\n    <tr>\n      <th>20630</th>\n      <td>arg_27_221</td>\n      <td>kp_27_6</td>\n      <td>0</td>\n    </tr>\n    <tr>\n      <th>20631</th>\n      <td>arg_27_221</td>\n      <td>kp_27_7</td>\n      <td>0</td>\n    </tr>\n    <tr>\n      <th>20632</th>\n      <td>arg_27_222</td>\n      <td>kp_27_4</td>\n      <td>0</td>\n    </tr>\n    <tr>\n      <th>20633</th>\n      <td>arg_27_222</td>\n      <td>kp_27_5</td>\n      <td>1</td>\n    </tr>\n    <tr>\n      <th>20634</th>\n      <td>arg_27_222</td>\n      <td>kp_27_7</td>\n      <td>0</td>\n    </tr>\n  </tbody>\n</table>\n<p>20635 rows × 3 columns</p>\n</div>"
     },
     "execution_count": 136,
     "metadata": {},
     "output_type": "execute_result"
    }
   ],
   "source": [
    "df_labels"
   ],
   "metadata": {
    "collapsed": false,
    "pycharm": {
     "name": "#%%\n"
    }
   }
  },
  {
   "cell_type": "code",
   "execution_count": 135,
   "outputs": [
    {
     "data": {
      "text/plain": "           arg_id key_point_id  label\n3       arg_0_121       kp_0_6      1\n9         arg_0_1       kp_0_2      1\n11        arg_0_2       kp_0_1      1\n14        arg_0_3       kp_0_2      1\n18        arg_0_4       kp_0_2      1\n...           ...          ...    ...\n20604   arg_27_89      kp_27_1      1\n20605   arg_27_90      kp_27_2      1\n20614   arg_27_92      kp_27_3      1\n20623  arg_27_220      kp_27_5      1\n20633  arg_27_222      kp_27_5      1\n\n[4260 rows x 3 columns]",
      "text/html": "<div>\n<style scoped>\n    .dataframe tbody tr th:only-of-type {\n        vertical-align: middle;\n    }\n\n    .dataframe tbody tr th {\n        vertical-align: top;\n    }\n\n    .dataframe thead th {\n        text-align: right;\n    }\n</style>\n<table border=\"1\" class=\"dataframe\">\n  <thead>\n    <tr style=\"text-align: right;\">\n      <th></th>\n      <th>arg_id</th>\n      <th>key_point_id</th>\n      <th>label</th>\n    </tr>\n  </thead>\n  <tbody>\n    <tr>\n      <th>3</th>\n      <td>arg_0_121</td>\n      <td>kp_0_6</td>\n      <td>1</td>\n    </tr>\n    <tr>\n      <th>9</th>\n      <td>arg_0_1</td>\n      <td>kp_0_2</td>\n      <td>1</td>\n    </tr>\n    <tr>\n      <th>11</th>\n      <td>arg_0_2</td>\n      <td>kp_0_1</td>\n      <td>1</td>\n    </tr>\n    <tr>\n      <th>14</th>\n      <td>arg_0_3</td>\n      <td>kp_0_2</td>\n      <td>1</td>\n    </tr>\n    <tr>\n      <th>18</th>\n      <td>arg_0_4</td>\n      <td>kp_0_2</td>\n      <td>1</td>\n    </tr>\n    <tr>\n      <th>...</th>\n      <td>...</td>\n      <td>...</td>\n      <td>...</td>\n    </tr>\n    <tr>\n      <th>20604</th>\n      <td>arg_27_89</td>\n      <td>kp_27_1</td>\n      <td>1</td>\n    </tr>\n    <tr>\n      <th>20605</th>\n      <td>arg_27_90</td>\n      <td>kp_27_2</td>\n      <td>1</td>\n    </tr>\n    <tr>\n      <th>20614</th>\n      <td>arg_27_92</td>\n      <td>kp_27_3</td>\n      <td>1</td>\n    </tr>\n    <tr>\n      <th>20623</th>\n      <td>arg_27_220</td>\n      <td>kp_27_5</td>\n      <td>1</td>\n    </tr>\n    <tr>\n      <th>20633</th>\n      <td>arg_27_222</td>\n      <td>kp_27_5</td>\n      <td>1</td>\n    </tr>\n  </tbody>\n</table>\n<p>4260 rows × 3 columns</p>\n</div>"
     },
     "execution_count": 135,
     "metadata": {},
     "output_type": "execute_result"
    }
   ],
   "source": [
    "df_labels_ones = df_labels[df_labels[\"label\"] == 1]\n",
    "df_labels_ones\n"
   ],
   "metadata": {
    "collapsed": false,
    "pycharm": {
     "name": "#%%\n"
    }
   }
  },
  {
   "cell_type": "code",
   "execution_count": 137,
   "outputs": [
    {
     "data": {
      "text/plain": "           arg_id key_point_id  label\n0         arg_0_0       kp_0_0      0\n1       arg_0_121       kp_0_4      0\n2       arg_0_121       kp_0_5      0\n4       arg_0_121       kp_0_7      0\n5       arg_0_121       kp_0_8      0\n...           ...          ...    ...\n20629  arg_27_221      kp_27_4      0\n20630  arg_27_221      kp_27_6      0\n20631  arg_27_221      kp_27_7      0\n20632  arg_27_222      kp_27_4      0\n20634  arg_27_222      kp_27_7      0\n\n[16375 rows x 3 columns]",
      "text/html": "<div>\n<style scoped>\n    .dataframe tbody tr th:only-of-type {\n        vertical-align: middle;\n    }\n\n    .dataframe tbody tr th {\n        vertical-align: top;\n    }\n\n    .dataframe thead th {\n        text-align: right;\n    }\n</style>\n<table border=\"1\" class=\"dataframe\">\n  <thead>\n    <tr style=\"text-align: right;\">\n      <th></th>\n      <th>arg_id</th>\n      <th>key_point_id</th>\n      <th>label</th>\n    </tr>\n  </thead>\n  <tbody>\n    <tr>\n      <th>0</th>\n      <td>arg_0_0</td>\n      <td>kp_0_0</td>\n      <td>0</td>\n    </tr>\n    <tr>\n      <th>1</th>\n      <td>arg_0_121</td>\n      <td>kp_0_4</td>\n      <td>0</td>\n    </tr>\n    <tr>\n      <th>2</th>\n      <td>arg_0_121</td>\n      <td>kp_0_5</td>\n      <td>0</td>\n    </tr>\n    <tr>\n      <th>4</th>\n      <td>arg_0_121</td>\n      <td>kp_0_7</td>\n      <td>0</td>\n    </tr>\n    <tr>\n      <th>5</th>\n      <td>arg_0_121</td>\n      <td>kp_0_8</td>\n      <td>0</td>\n    </tr>\n    <tr>\n      <th>...</th>\n      <td>...</td>\n      <td>...</td>\n      <td>...</td>\n    </tr>\n    <tr>\n      <th>20629</th>\n      <td>arg_27_221</td>\n      <td>kp_27_4</td>\n      <td>0</td>\n    </tr>\n    <tr>\n      <th>20630</th>\n      <td>arg_27_221</td>\n      <td>kp_27_6</td>\n      <td>0</td>\n    </tr>\n    <tr>\n      <th>20631</th>\n      <td>arg_27_221</td>\n      <td>kp_27_7</td>\n      <td>0</td>\n    </tr>\n    <tr>\n      <th>20632</th>\n      <td>arg_27_222</td>\n      <td>kp_27_4</td>\n      <td>0</td>\n    </tr>\n    <tr>\n      <th>20634</th>\n      <td>arg_27_222</td>\n      <td>kp_27_7</td>\n      <td>0</td>\n    </tr>\n  </tbody>\n</table>\n<p>16375 rows × 3 columns</p>\n</div>"
     },
     "execution_count": 137,
     "metadata": {},
     "output_type": "execute_result"
    }
   ],
   "source": [
    "df_labels_zeros = df_labels[df_labels[\"label\"] == 0]\n",
    "df_labels_zeros"
   ],
   "metadata": {
    "collapsed": false,
    "pycharm": {
     "name": "#%%\n"
    }
   }
  },
  {
   "cell_type": "code",
   "execution_count": 147,
   "outputs": [
    {
     "data": {
      "text/plain": "           arg_id key_point_id  label\n1310    arg_1_157       kp_1_8      0\n2953     arg_2_83       kp_2_5      0\n3714     arg_3_58       kp_3_4      0\n13003  arg_19_159      kp_19_4      0\n11129  arg_14_109      kp_14_2      0\n...           ...          ...    ...\n1474    arg_1_177       kp_1_6      0\n1703     arg_1_76       kp_1_2      0\n4804    arg_5_198       kp_5_5      0\n11417   arg_16_44      kp_16_1      0\n9263    arg_13_15      kp_13_2      0\n\n[4260 rows x 3 columns]",
      "text/html": "<div>\n<style scoped>\n    .dataframe tbody tr th:only-of-type {\n        vertical-align: middle;\n    }\n\n    .dataframe tbody tr th {\n        vertical-align: top;\n    }\n\n    .dataframe thead th {\n        text-align: right;\n    }\n</style>\n<table border=\"1\" class=\"dataframe\">\n  <thead>\n    <tr style=\"text-align: right;\">\n      <th></th>\n      <th>arg_id</th>\n      <th>key_point_id</th>\n      <th>label</th>\n    </tr>\n  </thead>\n  <tbody>\n    <tr>\n      <th>1310</th>\n      <td>arg_1_157</td>\n      <td>kp_1_8</td>\n      <td>0</td>\n    </tr>\n    <tr>\n      <th>2953</th>\n      <td>arg_2_83</td>\n      <td>kp_2_5</td>\n      <td>0</td>\n    </tr>\n    <tr>\n      <th>3714</th>\n      <td>arg_3_58</td>\n      <td>kp_3_4</td>\n      <td>0</td>\n    </tr>\n    <tr>\n      <th>13003</th>\n      <td>arg_19_159</td>\n      <td>kp_19_4</td>\n      <td>0</td>\n    </tr>\n    <tr>\n      <th>11129</th>\n      <td>arg_14_109</td>\n      <td>kp_14_2</td>\n      <td>0</td>\n    </tr>\n    <tr>\n      <th>...</th>\n      <td>...</td>\n      <td>...</td>\n      <td>...</td>\n    </tr>\n    <tr>\n      <th>1474</th>\n      <td>arg_1_177</td>\n      <td>kp_1_6</td>\n      <td>0</td>\n    </tr>\n    <tr>\n      <th>1703</th>\n      <td>arg_1_76</td>\n      <td>kp_1_2</td>\n      <td>0</td>\n    </tr>\n    <tr>\n      <th>4804</th>\n      <td>arg_5_198</td>\n      <td>kp_5_5</td>\n      <td>0</td>\n    </tr>\n    <tr>\n      <th>11417</th>\n      <td>arg_16_44</td>\n      <td>kp_16_1</td>\n      <td>0</td>\n    </tr>\n    <tr>\n      <th>9263</th>\n      <td>arg_13_15</td>\n      <td>kp_13_2</td>\n      <td>0</td>\n    </tr>\n  </tbody>\n</table>\n<p>4260 rows × 3 columns</p>\n</div>"
     },
     "execution_count": 147,
     "metadata": {},
     "output_type": "execute_result"
    }
   ],
   "source": [
    "df_labels_zeros_reduced = df_labels_zeros.sample(n=4260, random_state=1)\n",
    "df_labels_zeros_reduced"
   ],
   "metadata": {
    "collapsed": false,
    "pycharm": {
     "name": "#%%\n"
    }
   }
  },
  {
   "cell_type": "code",
   "execution_count": 157,
   "outputs": [],
   "source": [
    "df_labels_merged = np.vstack((df_labels_ones, df_labels_zeros_reduced))\n"
   ],
   "metadata": {
    "collapsed": false,
    "pycharm": {
     "name": "#%%\n"
    }
   }
  },
  {
   "cell_type": "code",
   "execution_count": 158,
   "outputs": [
    {
     "data": {
      "text/plain": "          arg_id key_point_id label\n0      arg_10_36      kp_10_1     1\n1      arg_12_61      kp_12_2     1\n2     arg_22_113      kp_22_0     1\n3      arg_0_208       kp_0_9     0\n4      arg_14_48      kp_14_0     1\n...          ...          ...   ...\n8515    arg_20_7      kp_20_3     0\n8516  arg_21_213      kp_21_4     0\n8517   arg_16_37      kp_16_0     1\n8518   arg_2_139       kp_2_6     1\n8519   arg_27_73      kp_27_0     0\n\n[8520 rows x 3 columns]",
      "text/html": "<div>\n<style scoped>\n    .dataframe tbody tr th:only-of-type {\n        vertical-align: middle;\n    }\n\n    .dataframe tbody tr th {\n        vertical-align: top;\n    }\n\n    .dataframe thead th {\n        text-align: right;\n    }\n</style>\n<table border=\"1\" class=\"dataframe\">\n  <thead>\n    <tr style=\"text-align: right;\">\n      <th></th>\n      <th>arg_id</th>\n      <th>key_point_id</th>\n      <th>label</th>\n    </tr>\n  </thead>\n  <tbody>\n    <tr>\n      <th>0</th>\n      <td>arg_10_36</td>\n      <td>kp_10_1</td>\n      <td>1</td>\n    </tr>\n    <tr>\n      <th>1</th>\n      <td>arg_12_61</td>\n      <td>kp_12_2</td>\n      <td>1</td>\n    </tr>\n    <tr>\n      <th>2</th>\n      <td>arg_22_113</td>\n      <td>kp_22_0</td>\n      <td>1</td>\n    </tr>\n    <tr>\n      <th>3</th>\n      <td>arg_0_208</td>\n      <td>kp_0_9</td>\n      <td>0</td>\n    </tr>\n    <tr>\n      <th>4</th>\n      <td>arg_14_48</td>\n      <td>kp_14_0</td>\n      <td>1</td>\n    </tr>\n    <tr>\n      <th>...</th>\n      <td>...</td>\n      <td>...</td>\n      <td>...</td>\n    </tr>\n    <tr>\n      <th>8515</th>\n      <td>arg_20_7</td>\n      <td>kp_20_3</td>\n      <td>0</td>\n    </tr>\n    <tr>\n      <th>8516</th>\n      <td>arg_21_213</td>\n      <td>kp_21_4</td>\n      <td>0</td>\n    </tr>\n    <tr>\n      <th>8517</th>\n      <td>arg_16_37</td>\n      <td>kp_16_0</td>\n      <td>1</td>\n    </tr>\n    <tr>\n      <th>8518</th>\n      <td>arg_2_139</td>\n      <td>kp_2_6</td>\n      <td>1</td>\n    </tr>\n    <tr>\n      <th>8519</th>\n      <td>arg_27_73</td>\n      <td>kp_27_0</td>\n      <td>0</td>\n    </tr>\n  </tbody>\n</table>\n<p>8520 rows × 3 columns</p>\n</div>"
     },
     "execution_count": 158,
     "metadata": {},
     "output_type": "execute_result"
    }
   ],
   "source": [
    "np.random.shuffle(df_labels_merged)\n",
    "df_labels_merged = pd.DataFrame(df_labels_merged)\n",
    "df_labels_merged.columns = [\"arg_id\", \"key_point_id\", \"label\"]\n",
    "df_labels_merged\n",
    "df_labels_merged_labels = df_labels_merged[]"
   ],
   "metadata": {
    "collapsed": false,
    "pycharm": {
     "name": "#%%\n"
    }
   }
  },
  {
   "cell_type": "code",
   "execution_count": 159,
   "outputs": [
    {
     "data": {
      "text/plain": "          arg_id key_point_id label  \\\n0      arg_10_36      kp_10_1     1   \n1     arg_10_106      kp_10_1     0   \n2      arg_10_64      kp_10_1     1   \n3      arg_10_79      kp_10_1     1   \n4      arg_10_61      kp_10_1     1   \n...          ...          ...   ...   \n8515   arg_25_85      kp_25_2     0   \n8516   arg_25_48      kp_25_2     0   \n8517   arg_25_36      kp_25_2     0   \n8518   arg_25_15      kp_25_2     1   \n8519   arg_25_63      kp_25_2     0   \n\n                                               argument  \\\n0     libertarianism leaves the poor and disadvantag...   \n1     we shouldn't because some people need interven...   \n2     more government intervention is needed to ensu...   \n3     under libertarianism, there would be no social...   \n4     libertarianism would stop people from being ab...   \n...                                                 ...   \n8515  there are too many news outlets already so we ...   \n8516  State subsidies for journalism will make journ...   \n8517  journalists are not often regulated so anyone ...   \n8518  journalism can make enough income to support i...   \n8519  subsidizing journalism may inadvertently have ...   \n\n                             topic_x  stance_x  \\\n0     We should adopt libertarianism        -1   \n1     We should adopt libertarianism        -1   \n2     We should adopt libertarianism        -1   \n3     We should adopt libertarianism        -1   \n4     We should adopt libertarianism        -1   \n...                              ...       ...   \n8515  We should subsidize journalism        -1   \n8516  We should subsidize journalism        -1   \n8517  We should subsidize journalism        -1   \n8518  We should subsidize journalism        -1   \n8519  We should subsidize journalism        -1   \n\n                                              key_point  \\\n0     Libertarianism harms minorities/those who are ...   \n1     Libertarianism harms minorities/those who are ...   \n2     Libertarianism harms minorities/those who are ...   \n3     Libertarianism harms minorities/those who are ...   \n4     Libertarianism harms minorities/those who are ...   \n...                                                 ...   \n8515  Journalism is like every other business and if...   \n8516  Journalism is like every other business and if...   \n8517  Journalism is like every other business and if...   \n8518  Journalism is like every other business and if...   \n8519  Journalism is like every other business and if...   \n\n                             topic_y  stance_y  \n0     We should adopt libertarianism        -1  \n1     We should adopt libertarianism        -1  \n2     We should adopt libertarianism        -1  \n3     We should adopt libertarianism        -1  \n4     We should adopt libertarianism        -1  \n...                              ...       ...  \n8515  We should subsidize journalism        -1  \n8516  We should subsidize journalism        -1  \n8517  We should subsidize journalism        -1  \n8518  We should subsidize journalism        -1  \n8519  We should subsidize journalism        -1  \n\n[8520 rows x 9 columns]",
      "text/html": "<div>\n<style scoped>\n    .dataframe tbody tr th:only-of-type {\n        vertical-align: middle;\n    }\n\n    .dataframe tbody tr th {\n        vertical-align: top;\n    }\n\n    .dataframe thead th {\n        text-align: right;\n    }\n</style>\n<table border=\"1\" class=\"dataframe\">\n  <thead>\n    <tr style=\"text-align: right;\">\n      <th></th>\n      <th>arg_id</th>\n      <th>key_point_id</th>\n      <th>label</th>\n      <th>argument</th>\n      <th>topic_x</th>\n      <th>stance_x</th>\n      <th>key_point</th>\n      <th>topic_y</th>\n      <th>stance_y</th>\n    </tr>\n  </thead>\n  <tbody>\n    <tr>\n      <th>0</th>\n      <td>arg_10_36</td>\n      <td>kp_10_1</td>\n      <td>1</td>\n      <td>libertarianism leaves the poor and disadvantag...</td>\n      <td>We should adopt libertarianism</td>\n      <td>-1</td>\n      <td>Libertarianism harms minorities/those who are ...</td>\n      <td>We should adopt libertarianism</td>\n      <td>-1</td>\n    </tr>\n    <tr>\n      <th>1</th>\n      <td>arg_10_106</td>\n      <td>kp_10_1</td>\n      <td>0</td>\n      <td>we shouldn't because some people need interven...</td>\n      <td>We should adopt libertarianism</td>\n      <td>-1</td>\n      <td>Libertarianism harms minorities/those who are ...</td>\n      <td>We should adopt libertarianism</td>\n      <td>-1</td>\n    </tr>\n    <tr>\n      <th>2</th>\n      <td>arg_10_64</td>\n      <td>kp_10_1</td>\n      <td>1</td>\n      <td>more government intervention is needed to ensu...</td>\n      <td>We should adopt libertarianism</td>\n      <td>-1</td>\n      <td>Libertarianism harms minorities/those who are ...</td>\n      <td>We should adopt libertarianism</td>\n      <td>-1</td>\n    </tr>\n    <tr>\n      <th>3</th>\n      <td>arg_10_79</td>\n      <td>kp_10_1</td>\n      <td>1</td>\n      <td>under libertarianism, there would be no social...</td>\n      <td>We should adopt libertarianism</td>\n      <td>-1</td>\n      <td>Libertarianism harms minorities/those who are ...</td>\n      <td>We should adopt libertarianism</td>\n      <td>-1</td>\n    </tr>\n    <tr>\n      <th>4</th>\n      <td>arg_10_61</td>\n      <td>kp_10_1</td>\n      <td>1</td>\n      <td>libertarianism would stop people from being ab...</td>\n      <td>We should adopt libertarianism</td>\n      <td>-1</td>\n      <td>Libertarianism harms minorities/those who are ...</td>\n      <td>We should adopt libertarianism</td>\n      <td>-1</td>\n    </tr>\n    <tr>\n      <th>...</th>\n      <td>...</td>\n      <td>...</td>\n      <td>...</td>\n      <td>...</td>\n      <td>...</td>\n      <td>...</td>\n      <td>...</td>\n      <td>...</td>\n      <td>...</td>\n    </tr>\n    <tr>\n      <th>8515</th>\n      <td>arg_25_85</td>\n      <td>kp_25_2</td>\n      <td>0</td>\n      <td>there are too many news outlets already so we ...</td>\n      <td>We should subsidize journalism</td>\n      <td>-1</td>\n      <td>Journalism is like every other business and if...</td>\n      <td>We should subsidize journalism</td>\n      <td>-1</td>\n    </tr>\n    <tr>\n      <th>8516</th>\n      <td>arg_25_48</td>\n      <td>kp_25_2</td>\n      <td>0</td>\n      <td>State subsidies for journalism will make journ...</td>\n      <td>We should subsidize journalism</td>\n      <td>-1</td>\n      <td>Journalism is like every other business and if...</td>\n      <td>We should subsidize journalism</td>\n      <td>-1</td>\n    </tr>\n    <tr>\n      <th>8517</th>\n      <td>arg_25_36</td>\n      <td>kp_25_2</td>\n      <td>0</td>\n      <td>journalists are not often regulated so anyone ...</td>\n      <td>We should subsidize journalism</td>\n      <td>-1</td>\n      <td>Journalism is like every other business and if...</td>\n      <td>We should subsidize journalism</td>\n      <td>-1</td>\n    </tr>\n    <tr>\n      <th>8518</th>\n      <td>arg_25_15</td>\n      <td>kp_25_2</td>\n      <td>1</td>\n      <td>journalism can make enough income to support i...</td>\n      <td>We should subsidize journalism</td>\n      <td>-1</td>\n      <td>Journalism is like every other business and if...</td>\n      <td>We should subsidize journalism</td>\n      <td>-1</td>\n    </tr>\n    <tr>\n      <th>8519</th>\n      <td>arg_25_63</td>\n      <td>kp_25_2</td>\n      <td>0</td>\n      <td>subsidizing journalism may inadvertently have ...</td>\n      <td>We should subsidize journalism</td>\n      <td>-1</td>\n      <td>Journalism is like every other business and if...</td>\n      <td>We should subsidize journalism</td>\n      <td>-1</td>\n    </tr>\n  </tbody>\n</table>\n<p>8520 rows × 9 columns</p>\n</div>"
     },
     "execution_count": 159,
     "metadata": {},
     "output_type": "execute_result"
    }
   ],
   "source": [
    "merged_dataset=df_labels_merged.merge(df_arguments, left_on=\"arg_id\", right_on=\"arg_id\")\n",
    "# df_arguments.loc[df_arguments['arg_id'] == \"arg_4_121\"]\n",
    "full_dataset=merged_dataset.merge(df_keypoints, left_on=\"key_point_id\", right_on=\"key_point_id\")\n",
    "full_dataset"
   ],
   "metadata": {
    "collapsed": false,
    "pycharm": {
     "name": "#%%\n"
    }
   }
  },
  {
   "cell_type": "code",
   "execution_count": 170,
   "outputs": [
    {
     "data": {
      "text/plain": "array([[-0.30637115,  0.83035797,  0.2932304 , ..., -0.96883845,\n        -0.51116055, -0.11837567],\n       [ 0.5019359 , -0.40482762,  1.4168869 , ..., -0.96883845,\n        -0.51116055, -0.11837567],\n       [-0.41587275, -0.02706556,  0.22030368, ..., -0.96883845,\n        -0.51116055, -0.11837567],\n       ...,\n       [ 0.17865013,  0.32641155,  0.5654122 , ..., -0.62401634,\n        -0.02820914,  0.07711162],\n       [ 0.2697417 ,  0.22020559,  0.53038335, ..., -0.62401634,\n        -0.02820914,  0.07711162],\n       [-0.29194778,  0.3105157 ,  0.577287  , ..., -0.62401634,\n        -0.02820914,  0.07711162]], dtype=float32)"
     },
     "execution_count": 170,
     "metadata": {},
     "output_type": "execute_result"
    }
   ],
   "source": [
    "altdata_arguments = sbert_model.encode(full_dataset[\"argument\"])\n",
    "# altdata_arguments\n",
    "altdata_keypoints = sbert_model.encode(full_dataset[\"key_point\"])\n",
    "# altdata_keypoints\n",
    "training = np.array(np.hstack((altdata_arguments, altdata_keypoints)))\n",
    "training"
   ],
   "metadata": {
    "collapsed": false,
    "pycharm": {
     "name": "#%%\n"
    }
   }
  },
  {
   "cell_type": "code",
   "execution_count": 178,
   "outputs": [
    {
     "name": "stderr",
     "output_type": "stream",
     "text": [
      "C:\\Users\\hanne\\AppData\\Local\\Temp/ipykernel_16708/4178785077.py:3: DeprecationWarning: `np.int` is a deprecated alias for the builtin `int`. To silence this warning, use `int` by itself. Doing this will not modify any behavior and is safe. When replacing `np.int`, you may wish to use e.g. `np.int64` or `np.int32` to specify the precision. If you wish to review your current use, check the release note link for additional information.\n",
      "Deprecated in NumPy 1.20; for more details and guidance: https://numpy.org/devdocs/release/1.20.0-notes.html#deprecations\n",
      "  labels=np.asarray(labels).astype(np.int)\n"
     ]
    }
   ],
   "source": [
    "labels = np.array(full_dataset[\"label\"])\n",
    "labels.dtype\n",
    "labels=np.asarray(labels).astype(np.int)\n",
    "# training.dtype\n",
    "# training.dtypes"
   ],
   "metadata": {
    "collapsed": false,
    "pycharm": {
     "name": "#%%\n"
    }
   }
  },
  {
   "cell_type": "code",
   "execution_count": 179,
   "outputs": [
    {
     "name": "stdout",
     "output_type": "stream",
     "text": [
      "Epoch 1/20\n",
      "8520/8520 [==============================] - 43s 5ms/step - loss: 0.2529\n",
      "Epoch 2/20\n",
      "8520/8520 [==============================] - 48s 6ms/step - loss: 0.2524\n",
      "Epoch 3/20\n",
      "8520/8520 [==============================] - 42s 5ms/step - loss: 0.2390\n",
      "Epoch 4/20\n",
      "8520/8520 [==============================] - 41s 5ms/step - loss: 0.2271\n",
      "Epoch 5/20\n",
      "8520/8520 [==============================] - 42s 5ms/step - loss: 0.2176\n",
      "Epoch 6/20\n",
      "8520/8520 [==============================] - 42s 5ms/step - loss: 0.2076\n",
      "Epoch 7/20\n",
      "8520/8520 [==============================] - 42s 5ms/step - loss: 0.1960\n",
      "Epoch 8/20\n",
      "8520/8520 [==============================] - 42s 5ms/step - loss: 0.1835\n",
      "Epoch 9/20\n",
      "8520/8520 [==============================] - 44s 5ms/step - loss: 0.1747\n",
      "Epoch 10/20\n",
      "8520/8520 [==============================] - 43s 5ms/step - loss: 0.1678\n",
      "Epoch 11/20\n",
      "8520/8520 [==============================] - 44s 5ms/step - loss: 0.1604\n",
      "Epoch 12/20\n",
      "8520/8520 [==============================] - 47s 6ms/step - loss: 0.1552\n",
      "Epoch 13/20\n",
      "8520/8520 [==============================] - 45s 5ms/step - loss: 0.1501\n",
      "Epoch 14/20\n",
      "8520/8520 [==============================] - 43s 5ms/step - loss: 0.1461\n",
      "Epoch 15/20\n",
      "8520/8520 [==============================] - 50s 6ms/step - loss: 0.1424\n",
      "Epoch 16/20\n",
      "8520/8520 [==============================] - 48s 6ms/step - loss: 0.1397\n",
      "Epoch 17/20\n",
      "8520/8520 [==============================] - 45s 5ms/step - loss: 0.1357\n",
      "Epoch 18/20\n",
      "8520/8520 [==============================] - 44s 5ms/step - loss: 0.1319\n",
      "Epoch 19/20\n",
      "8520/8520 [==============================] - 44s 5ms/step - loss: 0.1269\n",
      "Epoch 20/20\n",
      "8520/8520 [==============================] - 44s 5ms/step - loss: 0.1250\n",
      "Model: \"sequential_7\"\n",
      "_________________________________________________________________\n",
      " Layer (type)                Output Shape              Param #   \n",
      "=================================================================\n",
      " dense_14 (Dense)            (None, 768)               1180416   \n",
      "                                                                 \n",
      " dense_15 (Dense)            (None, 1)                 769       \n",
      "                                                                 \n",
      "=================================================================\n",
      "Total params: 1,181,185\n",
      "Trainable params: 1,181,185\n",
      "Non-trainable params: 0\n",
      "_________________________________________________________________\n"
     ]
    }
   ],
   "source": [
    "model = keras.Sequential()\n",
    "model.add(Dense(768, activation='softmax', input_dim=(1536)))\n",
    "model.add(Dense(1, activation='linear'))\n",
    "model.compile(optimizer='sgd', loss='mse')\n",
    "model.fit(training, labels, epochs=20, verbose=1, batch_size = 1)\n",
    "model.summary()"
   ],
   "metadata": {
    "collapsed": false,
    "pycharm": {
     "name": "#%%\n"
    }
   }
  },
  {
   "cell_type": "code",
   "execution_count": 163,
   "outputs": [],
   "source": [
    "model.save('RegressionNNFullData.h5')"
   ],
   "metadata": {
    "collapsed": false,
    "pycharm": {
     "name": "#%%\n"
    }
   }
  },
  {
   "cell_type": "code",
   "execution_count": 181,
   "outputs": [
    {
     "ename": "AttributeError",
     "evalue": "'numpy.ndarray' object has no attribute 'describe'",
     "output_type": "error",
     "traceback": [
      "\u001B[1;31m---------------------------------------------------------------------------\u001B[0m",
      "\u001B[1;31mAttributeError\u001B[0m                            Traceback (most recent call last)",
      "\u001B[1;32m~\\AppData\\Local\\Temp/ipykernel_16708/504561598.py\u001B[0m in \u001B[0;36m<module>\u001B[1;34m\u001B[0m\n\u001B[0;32m      1\u001B[0m \u001B[0mpred\u001B[0m \u001B[1;33m=\u001B[0m \u001B[0mmodel\u001B[0m\u001B[1;33m.\u001B[0m\u001B[0mpredict\u001B[0m\u001B[1;33m(\u001B[0m\u001B[0mtraining\u001B[0m\u001B[1;33m)\u001B[0m\u001B[1;33m\u001B[0m\u001B[1;33m\u001B[0m\u001B[0m\n\u001B[1;32m----> 2\u001B[1;33m \u001B[0mpred\u001B[0m\u001B[1;33m.\u001B[0m\u001B[0mdescribe\u001B[0m\u001B[1;33m(\u001B[0m\u001B[1;33m)\u001B[0m\u001B[1;33m\u001B[0m\u001B[1;33m\u001B[0m\u001B[0m\n\u001B[0m",
      "\u001B[1;31mAttributeError\u001B[0m: 'numpy.ndarray' object has no attribute 'describe'"
     ]
    }
   ],
   "source": [
    "pred = model.predict(training)\n",
    "pred"
   ],
   "metadata": {
    "collapsed": false,
    "pycharm": {
     "name": "#%%\n"
    }
   }
  },
  {
   "cell_type": "code",
   "execution_count": 87,
   "outputs": [
    {
     "data": {
      "text/plain": "(20635,)"
     },
     "execution_count": 87,
     "metadata": {},
     "output_type": "execute_result"
    }
   ],
   "source": [
    "labels.shape"
   ],
   "metadata": {
    "collapsed": false,
    "pycharm": {
     "name": "#%%\n"
    }
   }
  },
  {
   "cell_type": "code",
   "execution_count": 89,
   "outputs": [
    {
     "data": {
      "text/plain": "0.8734189483886601"
     },
     "execution_count": 89,
     "metadata": {},
     "output_type": "execute_result"
    }
   ],
   "source": [
    "pred = pred.flatten()\n",
    "\n",
    "res = np.vstack((pred, labels))\n",
    "df_res = pd.DataFrame(res)\n",
    "df_res = df_res.transpose()\n",
    "df_res.columns = [\"predicted\", \"true\"]\n",
    "df_res['predicted_label'] = np.where(df_res['predicted'] >= 0.5, 1, 0)\n",
    "df_res['match'] = np.where(df_res['true'] == df_res['predicted_label'], 1, 0)\n",
    "\n",
    "df_res['match'].sum()\n",
    "accuracy = df_res['match'].sum() / df_res.shape[0]\n",
    "accuracy"
   ],
   "metadata": {
    "collapsed": false,
    "pycharm": {
     "name": "#%%\n"
    }
   }
  },
  {
   "cell_type": "code",
   "execution_count": 90,
   "outputs": [
    {
     "data": {
      "text/plain": "          predicted          true  predicted_label         match\ncount  20635.000000  20635.000000     20635.000000  20635.000000\nmean       0.166928      0.206445         0.107293      0.873419\nstd        0.248231      0.404764         0.309493      0.332511\nmin       -0.038760      0.000000         0.000000      0.000000\n25%        0.009544      0.000000         0.000000      1.000000\n50%        0.075664      0.000000         0.000000      1.000000\n75%        0.193458      0.000000         0.000000      1.000000\nmax        0.983394      1.000000         1.000000      1.000000",
      "text/html": "<div>\n<style scoped>\n    .dataframe tbody tr th:only-of-type {\n        vertical-align: middle;\n    }\n\n    .dataframe tbody tr th {\n        vertical-align: top;\n    }\n\n    .dataframe thead th {\n        text-align: right;\n    }\n</style>\n<table border=\"1\" class=\"dataframe\">\n  <thead>\n    <tr style=\"text-align: right;\">\n      <th></th>\n      <th>predicted</th>\n      <th>true</th>\n      <th>predicted_label</th>\n      <th>match</th>\n    </tr>\n  </thead>\n  <tbody>\n    <tr>\n      <th>count</th>\n      <td>20635.000000</td>\n      <td>20635.000000</td>\n      <td>20635.000000</td>\n      <td>20635.000000</td>\n    </tr>\n    <tr>\n      <th>mean</th>\n      <td>0.166928</td>\n      <td>0.206445</td>\n      <td>0.107293</td>\n      <td>0.873419</td>\n    </tr>\n    <tr>\n      <th>std</th>\n      <td>0.248231</td>\n      <td>0.404764</td>\n      <td>0.309493</td>\n      <td>0.332511</td>\n    </tr>\n    <tr>\n      <th>min</th>\n      <td>-0.038760</td>\n      <td>0.000000</td>\n      <td>0.000000</td>\n      <td>0.000000</td>\n    </tr>\n    <tr>\n      <th>25%</th>\n      <td>0.009544</td>\n      <td>0.000000</td>\n      <td>0.000000</td>\n      <td>1.000000</td>\n    </tr>\n    <tr>\n      <th>50%</th>\n      <td>0.075664</td>\n      <td>0.000000</td>\n      <td>0.000000</td>\n      <td>1.000000</td>\n    </tr>\n    <tr>\n      <th>75%</th>\n      <td>0.193458</td>\n      <td>0.000000</td>\n      <td>0.000000</td>\n      <td>1.000000</td>\n    </tr>\n    <tr>\n      <th>max</th>\n      <td>0.983394</td>\n      <td>1.000000</td>\n      <td>1.000000</td>\n      <td>1.000000</td>\n    </tr>\n  </tbody>\n</table>\n</div>"
     },
     "execution_count": 90,
     "metadata": {},
     "output_type": "execute_result"
    }
   ],
   "source": [
    "df_res.describe()"
   ],
   "metadata": {
    "collapsed": false,
    "pycharm": {
     "name": "#%%\n"
    }
   }
  },
  {
   "cell_type": "code",
   "execution_count": 91,
   "outputs": [
    {
     "data": {
      "text/plain": "         predicted    true  predicted_label        match\ncount  4260.000000  4260.0      4260.000000  4260.000000\nmean      0.482367     1.0         0.453286     0.453286\nstd       0.337139     0.0         0.497871     0.497871\nmin      -0.030209     1.0         0.000000     0.000000\n25%       0.173825     1.0         0.000000     0.000000\n50%       0.416813     1.0         0.000000     0.000000\n75%       0.845280     1.0         1.000000     1.000000\nmax       0.983394     1.0         1.000000     1.000000",
      "text/html": "<div>\n<style scoped>\n    .dataframe tbody tr th:only-of-type {\n        vertical-align: middle;\n    }\n\n    .dataframe tbody tr th {\n        vertical-align: top;\n    }\n\n    .dataframe thead th {\n        text-align: right;\n    }\n</style>\n<table border=\"1\" class=\"dataframe\">\n  <thead>\n    <tr style=\"text-align: right;\">\n      <th></th>\n      <th>predicted</th>\n      <th>true</th>\n      <th>predicted_label</th>\n      <th>match</th>\n    </tr>\n  </thead>\n  <tbody>\n    <tr>\n      <th>count</th>\n      <td>4260.000000</td>\n      <td>4260.0</td>\n      <td>4260.000000</td>\n      <td>4260.000000</td>\n    </tr>\n    <tr>\n      <th>mean</th>\n      <td>0.482367</td>\n      <td>1.0</td>\n      <td>0.453286</td>\n      <td>0.453286</td>\n    </tr>\n    <tr>\n      <th>std</th>\n      <td>0.337139</td>\n      <td>0.0</td>\n      <td>0.497871</td>\n      <td>0.497871</td>\n    </tr>\n    <tr>\n      <th>min</th>\n      <td>-0.030209</td>\n      <td>1.0</td>\n      <td>0.000000</td>\n      <td>0.000000</td>\n    </tr>\n    <tr>\n      <th>25%</th>\n      <td>0.173825</td>\n      <td>1.0</td>\n      <td>0.000000</td>\n      <td>0.000000</td>\n    </tr>\n    <tr>\n      <th>50%</th>\n      <td>0.416813</td>\n      <td>1.0</td>\n      <td>0.000000</td>\n      <td>0.000000</td>\n    </tr>\n    <tr>\n      <th>75%</th>\n      <td>0.845280</td>\n      <td>1.0</td>\n      <td>1.000000</td>\n      <td>1.000000</td>\n    </tr>\n    <tr>\n      <th>max</th>\n      <td>0.983394</td>\n      <td>1.0</td>\n      <td>1.000000</td>\n      <td>1.000000</td>\n    </tr>\n  </tbody>\n</table>\n</div>"
     },
     "execution_count": 91,
     "metadata": {},
     "output_type": "execute_result"
    }
   ],
   "source": [
    "df_one = df_res[df_res[\"true\"] == 1]\n",
    "df_one.describe()"
   ],
   "metadata": {
    "collapsed": false,
    "pycharm": {
     "name": "#%%\n"
    }
   }
  },
  {
   "cell_type": "code",
   "execution_count": 92,
   "outputs": [
    {
     "data": {
      "text/plain": "          predicted     true  predicted_label         match\ncount  16375.000000  16375.0     16375.000000  16375.000000\nmean       0.084866      0.0         0.017282      0.982718\nstd        0.124352      0.0         0.130326      0.130326\nmin       -0.038760      0.0         0.000000      0.000000\n25%        0.003338      0.0         0.000000      1.000000\n50%        0.044073      0.0         0.000000      1.000000\n75%        0.132588      0.0         0.000000      1.000000\nmax        0.972649      0.0         1.000000      1.000000",
      "text/html": "<div>\n<style scoped>\n    .dataframe tbody tr th:only-of-type {\n        vertical-align: middle;\n    }\n\n    .dataframe tbody tr th {\n        vertical-align: top;\n    }\n\n    .dataframe thead th {\n        text-align: right;\n    }\n</style>\n<table border=\"1\" class=\"dataframe\">\n  <thead>\n    <tr style=\"text-align: right;\">\n      <th></th>\n      <th>predicted</th>\n      <th>true</th>\n      <th>predicted_label</th>\n      <th>match</th>\n    </tr>\n  </thead>\n  <tbody>\n    <tr>\n      <th>count</th>\n      <td>16375.000000</td>\n      <td>16375.0</td>\n      <td>16375.000000</td>\n      <td>16375.000000</td>\n    </tr>\n    <tr>\n      <th>mean</th>\n      <td>0.084866</td>\n      <td>0.0</td>\n      <td>0.017282</td>\n      <td>0.982718</td>\n    </tr>\n    <tr>\n      <th>std</th>\n      <td>0.124352</td>\n      <td>0.0</td>\n      <td>0.130326</td>\n      <td>0.130326</td>\n    </tr>\n    <tr>\n      <th>min</th>\n      <td>-0.038760</td>\n      <td>0.0</td>\n      <td>0.000000</td>\n      <td>0.000000</td>\n    </tr>\n    <tr>\n      <th>25%</th>\n      <td>0.003338</td>\n      <td>0.0</td>\n      <td>0.000000</td>\n      <td>1.000000</td>\n    </tr>\n    <tr>\n      <th>50%</th>\n      <td>0.044073</td>\n      <td>0.0</td>\n      <td>0.000000</td>\n      <td>1.000000</td>\n    </tr>\n    <tr>\n      <th>75%</th>\n      <td>0.132588</td>\n      <td>0.0</td>\n      <td>0.000000</td>\n      <td>1.000000</td>\n    </tr>\n    <tr>\n      <th>max</th>\n      <td>0.972649</td>\n      <td>0.0</td>\n      <td>1.000000</td>\n      <td>1.000000</td>\n    </tr>\n  </tbody>\n</table>\n</div>"
     },
     "execution_count": 92,
     "metadata": {},
     "output_type": "execute_result"
    }
   ],
   "source": [
    "df_zeros = df_res[df_res[\"true\"] == 0]\n",
    "df_zeros.describe()"
   ],
   "metadata": {
    "collapsed": false,
    "pycharm": {
     "name": "#%%\n"
    }
   }
  },
  {
   "cell_type": "code",
   "execution_count": null,
   "outputs": [],
   "source": [],
   "metadata": {
    "collapsed": false,
    "pycharm": {
     "name": "#%%\n"
    }
   }
  },
  {
   "cell_type": "code",
   "execution_count": 182,
   "outputs": [],
   "source": [
    "df_arguments_test = pd.read_csv(\"kpm_data/arguments_test.csv\")\n",
    "df_keypoints_test = pd.read_csv(\"kpm_data/key_points_test.csv\")\n",
    "df_labels_test = pd.read_csv(\"kpm_data/labels_test.csv\")"
   ],
   "metadata": {
    "collapsed": false,
    "pycharm": {
     "name": "#%%\n"
    }
   }
  },
  {
   "cell_type": "code",
   "execution_count": 183,
   "outputs": [
    {
     "data": {
      "text/plain": "         arg_id key_point_id  label\n0     arg_0_112       kp_0_4      0\n1     arg_0_112       kp_0_5      0\n2     arg_0_112       kp_0_6      0\n3     arg_0_112       kp_0_7      1\n4       arg_0_0       kp_0_0      0\n...         ...          ...    ...\n3421  arg_1_232       kp_1_9      0\n3422  arg_0_111       kp_0_3      0\n3423  arg_0_111       kp_0_0      1\n3424  arg_0_111       kp_0_1      0\n3425  arg_0_111       kp_0_2      0\n\n[3426 rows x 3 columns]",
      "text/html": "<div>\n<style scoped>\n    .dataframe tbody tr th:only-of-type {\n        vertical-align: middle;\n    }\n\n    .dataframe tbody tr th {\n        vertical-align: top;\n    }\n\n    .dataframe thead th {\n        text-align: right;\n    }\n</style>\n<table border=\"1\" class=\"dataframe\">\n  <thead>\n    <tr style=\"text-align: right;\">\n      <th></th>\n      <th>arg_id</th>\n      <th>key_point_id</th>\n      <th>label</th>\n    </tr>\n  </thead>\n  <tbody>\n    <tr>\n      <th>0</th>\n      <td>arg_0_112</td>\n      <td>kp_0_4</td>\n      <td>0</td>\n    </tr>\n    <tr>\n      <th>1</th>\n      <td>arg_0_112</td>\n      <td>kp_0_5</td>\n      <td>0</td>\n    </tr>\n    <tr>\n      <th>2</th>\n      <td>arg_0_112</td>\n      <td>kp_0_6</td>\n      <td>0</td>\n    </tr>\n    <tr>\n      <th>3</th>\n      <td>arg_0_112</td>\n      <td>kp_0_7</td>\n      <td>1</td>\n    </tr>\n    <tr>\n      <th>4</th>\n      <td>arg_0_0</td>\n      <td>kp_0_0</td>\n      <td>0</td>\n    </tr>\n    <tr>\n      <th>...</th>\n      <td>...</td>\n      <td>...</td>\n      <td>...</td>\n    </tr>\n    <tr>\n      <th>3421</th>\n      <td>arg_1_232</td>\n      <td>kp_1_9</td>\n      <td>0</td>\n    </tr>\n    <tr>\n      <th>3422</th>\n      <td>arg_0_111</td>\n      <td>kp_0_3</td>\n      <td>0</td>\n    </tr>\n    <tr>\n      <th>3423</th>\n      <td>arg_0_111</td>\n      <td>kp_0_0</td>\n      <td>1</td>\n    </tr>\n    <tr>\n      <th>3424</th>\n      <td>arg_0_111</td>\n      <td>kp_0_1</td>\n      <td>0</td>\n    </tr>\n    <tr>\n      <th>3425</th>\n      <td>arg_0_111</td>\n      <td>kp_0_2</td>\n      <td>0</td>\n    </tr>\n  </tbody>\n</table>\n<p>3426 rows × 3 columns</p>\n</div>"
     },
     "execution_count": 183,
     "metadata": {},
     "output_type": "execute_result"
    }
   ],
   "source": [
    "df_labels_test"
   ],
   "metadata": {
    "collapsed": false,
    "pycharm": {
     "name": "#%%\n"
    }
   }
  },
  {
   "cell_type": "code",
   "execution_count": 184,
   "outputs": [
    {
     "data": {
      "text/plain": "         arg_id key_point_id label  \\\n0     arg_0_208       kp_0_7     0   \n1     arg_0_183       kp_0_7     0   \n2     arg_0_227       kp_0_7     0   \n3     arg_0_210       kp_0_7     0   \n4     arg_0_243       kp_0_7     0   \n...         ...          ...   ...   \n1260   arg_2_71       kp_2_2     0   \n1261   arg_2_26       kp_2_2     0   \n1262  arg_2_104       kp_2_2     1   \n1263   arg_2_84       kp_2_2     0   \n1264   arg_2_73       kp_2_2     0   \n\n                                               argument  \\\n0     killing another person is wrong and should be ...   \n1     assisted suicide should be a criminal offense ...   \n2     suicide has never been legal. it is still kill...   \n3     many people do not have the mental capacity to...   \n4     this would protect someone who's judgement may...   \n...                                                 ...   \n1260  the vow of celibacy should be a personal choic...   \n1261  it is a proper choice of each person who choos...   \n1262  traditionally some religions feel like the pra...   \n1263  the vow of celibacy should not be abandoned be...   \n1264  the vow of celibacy should be up to each indiv...   \n\n                                            topic_x  stance_x  \\\n0     Assisted suicide should be a criminal offence         1   \n1     Assisted suicide should be a criminal offence         1   \n2     Assisted suicide should be a criminal offence         1   \n3     Assisted suicide should be a criminal offence         1   \n4     Assisted suicide should be a criminal offence         1   \n...                                             ...       ...   \n1260        The vow of celibacy should be abandoned        -1   \n1261        The vow of celibacy should be abandoned        -1   \n1262        The vow of celibacy should be abandoned        -1   \n1263        The vow of celibacy should be abandoned        -1   \n1264        The vow of celibacy should be abandoned        -1   \n\n                                              key_point  \\\n0     Routine child vaccinations should be mandatory...   \n1     Routine child vaccinations should be mandatory...   \n2     Routine child vaccinations should be mandatory...   \n3     Routine child vaccinations should be mandatory...   \n4     Routine child vaccinations should be mandatory...   \n...                                                 ...   \n1260      The US has high taxation/high costs of living   \n1261      The US has high taxation/high costs of living   \n1262      The US has high taxation/high costs of living   \n1263      The US has high taxation/high costs of living   \n1264      The US has high taxation/high costs of living   \n\n                                             topic_y  stance_y  \n0     Routine child vaccinations should be mandatory         1  \n1     Routine child vaccinations should be mandatory         1  \n2     Routine child vaccinations should be mandatory         1  \n3     Routine child vaccinations should be mandatory         1  \n4     Routine child vaccinations should be mandatory         1  \n...                                              ...       ...  \n1260            The USA is a good country to live in        -1  \n1261            The USA is a good country to live in        -1  \n1262            The USA is a good country to live in        -1  \n1263            The USA is a good country to live in        -1  \n1264            The USA is a good country to live in        -1  \n\n[1265 rows x 9 columns]",
      "text/html": "<div>\n<style scoped>\n    .dataframe tbody tr th:only-of-type {\n        vertical-align: middle;\n    }\n\n    .dataframe tbody tr th {\n        vertical-align: top;\n    }\n\n    .dataframe thead th {\n        text-align: right;\n    }\n</style>\n<table border=\"1\" class=\"dataframe\">\n  <thead>\n    <tr style=\"text-align: right;\">\n      <th></th>\n      <th>arg_id</th>\n      <th>key_point_id</th>\n      <th>label</th>\n      <th>argument</th>\n      <th>topic_x</th>\n      <th>stance_x</th>\n      <th>key_point</th>\n      <th>topic_y</th>\n      <th>stance_y</th>\n    </tr>\n  </thead>\n  <tbody>\n    <tr>\n      <th>0</th>\n      <td>arg_0_208</td>\n      <td>kp_0_7</td>\n      <td>0</td>\n      <td>killing another person is wrong and should be ...</td>\n      <td>Assisted suicide should be a criminal offence</td>\n      <td>1</td>\n      <td>Routine child vaccinations should be mandatory...</td>\n      <td>Routine child vaccinations should be mandatory</td>\n      <td>1</td>\n    </tr>\n    <tr>\n      <th>1</th>\n      <td>arg_0_183</td>\n      <td>kp_0_7</td>\n      <td>0</td>\n      <td>assisted suicide should be a criminal offense ...</td>\n      <td>Assisted suicide should be a criminal offence</td>\n      <td>1</td>\n      <td>Routine child vaccinations should be mandatory...</td>\n      <td>Routine child vaccinations should be mandatory</td>\n      <td>1</td>\n    </tr>\n    <tr>\n      <th>2</th>\n      <td>arg_0_227</td>\n      <td>kp_0_7</td>\n      <td>0</td>\n      <td>suicide has never been legal. it is still kill...</td>\n      <td>Assisted suicide should be a criminal offence</td>\n      <td>1</td>\n      <td>Routine child vaccinations should be mandatory...</td>\n      <td>Routine child vaccinations should be mandatory</td>\n      <td>1</td>\n    </tr>\n    <tr>\n      <th>3</th>\n      <td>arg_0_210</td>\n      <td>kp_0_7</td>\n      <td>0</td>\n      <td>many people do not have the mental capacity to...</td>\n      <td>Assisted suicide should be a criminal offence</td>\n      <td>1</td>\n      <td>Routine child vaccinations should be mandatory...</td>\n      <td>Routine child vaccinations should be mandatory</td>\n      <td>1</td>\n    </tr>\n    <tr>\n      <th>4</th>\n      <td>arg_0_243</td>\n      <td>kp_0_7</td>\n      <td>0</td>\n      <td>this would protect someone who's judgement may...</td>\n      <td>Assisted suicide should be a criminal offence</td>\n      <td>1</td>\n      <td>Routine child vaccinations should be mandatory...</td>\n      <td>Routine child vaccinations should be mandatory</td>\n      <td>1</td>\n    </tr>\n    <tr>\n      <th>...</th>\n      <td>...</td>\n      <td>...</td>\n      <td>...</td>\n      <td>...</td>\n      <td>...</td>\n      <td>...</td>\n      <td>...</td>\n      <td>...</td>\n      <td>...</td>\n    </tr>\n    <tr>\n      <th>1260</th>\n      <td>arg_2_71</td>\n      <td>kp_2_2</td>\n      <td>0</td>\n      <td>the vow of celibacy should be a personal choic...</td>\n      <td>The vow of celibacy should be abandoned</td>\n      <td>-1</td>\n      <td>The US has high taxation/high costs of living</td>\n      <td>The USA is a good country to live in</td>\n      <td>-1</td>\n    </tr>\n    <tr>\n      <th>1261</th>\n      <td>arg_2_26</td>\n      <td>kp_2_2</td>\n      <td>0</td>\n      <td>it is a proper choice of each person who choos...</td>\n      <td>The vow of celibacy should be abandoned</td>\n      <td>-1</td>\n      <td>The US has high taxation/high costs of living</td>\n      <td>The USA is a good country to live in</td>\n      <td>-1</td>\n    </tr>\n    <tr>\n      <th>1262</th>\n      <td>arg_2_104</td>\n      <td>kp_2_2</td>\n      <td>1</td>\n      <td>traditionally some religions feel like the pra...</td>\n      <td>The vow of celibacy should be abandoned</td>\n      <td>-1</td>\n      <td>The US has high taxation/high costs of living</td>\n      <td>The USA is a good country to live in</td>\n      <td>-1</td>\n    </tr>\n    <tr>\n      <th>1263</th>\n      <td>arg_2_84</td>\n      <td>kp_2_2</td>\n      <td>0</td>\n      <td>the vow of celibacy should not be abandoned be...</td>\n      <td>The vow of celibacy should be abandoned</td>\n      <td>-1</td>\n      <td>The US has high taxation/high costs of living</td>\n      <td>The USA is a good country to live in</td>\n      <td>-1</td>\n    </tr>\n    <tr>\n      <th>1264</th>\n      <td>arg_2_73</td>\n      <td>kp_2_2</td>\n      <td>0</td>\n      <td>the vow of celibacy should be up to each indiv...</td>\n      <td>The vow of celibacy should be abandoned</td>\n      <td>-1</td>\n      <td>The US has high taxation/high costs of living</td>\n      <td>The USA is a good country to live in</td>\n      <td>-1</td>\n    </tr>\n  </tbody>\n</table>\n<p>1265 rows × 9 columns</p>\n</div>"
     },
     "execution_count": 184,
     "metadata": {},
     "output_type": "execute_result"
    }
   ],
   "source": [
    "merged_dataset_test=df_labels.merge(df_arguments_test, left_on=\"arg_id\", right_on=\"arg_id\")\n",
    "# df_arguments.loc[df_arguments['arg_id'] == \"arg_4_121\"]\n",
    "full_dataset_test=merged_dataset.merge(df_keypoints_test, left_on=\"key_point_id\", right_on=\"key_point_id\")\n",
    "full_dataset_test"
   ],
   "metadata": {
    "collapsed": false,
    "pycharm": {
     "name": "#%%\n"
    }
   }
  },
  {
   "cell_type": "code",
   "execution_count": 185,
   "outputs": [
    {
     "data": {
      "text/plain": "array([[ 0.11411386,  0.17604612,  0.5231851 , ..., -0.16148242,\n        -1.4278636 ,  0.53885084],\n       [-0.21698153,  0.3410269 , -0.05026847, ..., -0.16148242,\n        -1.4278636 ,  0.53885084],\n       [ 0.77071553,  0.5753816 ,  0.8424418 , ..., -0.16148242,\n        -1.4278636 ,  0.53885084],\n       ...,\n       [ 0.15942207,  0.15487501, -0.1556832 , ..., -0.5594947 ,\n        -0.32103527, -0.7785235 ],\n       [ 0.25615075,  0.5213407 ,  0.8761257 , ..., -0.5594947 ,\n        -0.32103527, -0.7785235 ],\n       [-0.15758045,  0.42435682,  0.85875595, ..., -0.5594947 ,\n        -0.32103527, -0.7785235 ]], dtype=float32)"
     },
     "execution_count": 185,
     "metadata": {},
     "output_type": "execute_result"
    }
   ],
   "source": [
    "altdata_arguments_test = sbert_model.encode(full_dataset_test[\"argument\"])\n",
    "# altdata_arguments\n",
    "altdata_keypoints_test = sbert_model.encode(full_dataset_test[\"key_point\"])\n",
    "# altdata_keypoints\n",
    "training_test = np.hstack((altdata_arguments_test, altdata_keypoints_test))\n",
    "training_test"
   ],
   "metadata": {
    "collapsed": false,
    "pycharm": {
     "name": "#%%\n"
    }
   }
  },
  {
   "cell_type": "markdown",
   "source": [],
   "metadata": {
    "collapsed": false
   }
  },
  {
   "cell_type": "code",
   "execution_count": 186,
   "outputs": [],
   "source": [
    "labels_test = np.array(full_dataset_test[\"label\"])"
   ],
   "metadata": {
    "collapsed": false,
    "pycharm": {
     "name": "#%%\n"
    }
   }
  },
  {
   "cell_type": "code",
   "execution_count": 187,
   "outputs": [
    {
     "data": {
      "text/plain": "array([[0.9458338 ],\n       [0.9417888 ],\n       [0.9292275 ],\n       ...,\n       [0.00483871],\n       [0.00484586],\n       [0.00481105]], dtype=float32)"
     },
     "execution_count": 187,
     "metadata": {},
     "output_type": "execute_result"
    }
   ],
   "source": [
    "pred = model.predict(training_test)\n",
    "pred"
   ],
   "metadata": {
    "collapsed": false,
    "pycharm": {
     "name": "#%%\n"
    }
   }
  },
  {
   "cell_type": "code",
   "execution_count": 188,
   "outputs": [
    {
     "data": {
      "text/plain": "0.4798418972332016"
     },
     "execution_count": 188,
     "metadata": {},
     "output_type": "execute_result"
    }
   ],
   "source": [
    "pred = pred.flatten()\n",
    "\n",
    "res = np.vstack((pred, labels_test))\n",
    "df_res = pd.DataFrame(res)\n",
    "df_res = df_res.transpose()\n",
    "df_res.columns = [\"predicted\", \"true\"]\n",
    "df_res['predicted_label'] = np.where(df_res['predicted'] >= 0.5, 1, 0)\n",
    "df_res['match'] = np.where(df_res['true'] == df_res['predicted_label'], 1, 0)\n",
    "\n",
    "df_res['match'].sum()\n",
    "accuracy = df_res['match'].sum() / df_res.shape[0]\n",
    "accuracy"
   ],
   "metadata": {
    "collapsed": false,
    "pycharm": {
     "name": "#%%\n"
    }
   }
  },
  {
   "cell_type": "code",
   "execution_count": null,
   "outputs": [],
   "source": [],
   "metadata": {
    "collapsed": false,
    "pycharm": {
     "name": "#%%\n"
    }
   }
  },
  {
   "cell_type": "code",
   "execution_count": 196,
   "outputs": [],
   "source": [
    "import sklearn as skl"
   ],
   "metadata": {
    "collapsed": false,
    "pycharm": {
     "name": "#%%\n"
    }
   }
  },
  {
   "cell_type": "code",
   "execution_count": 198,
   "outputs": [
    {
     "data": {
      "text/plain": "dtype('O')"
     },
     "execution_count": 198,
     "metadata": {},
     "output_type": "execute_result"
    }
   ],
   "source": [
    "df_res[\"true\"]"
   ],
   "metadata": {
    "collapsed": false,
    "pycharm": {
     "name": "#%%\n"
    }
   }
  },
  {
   "cell_type": "code",
   "execution_count": 200,
   "outputs": [
    {
     "data": {
      "text/plain": "0.4166666666666667"
     },
     "execution_count": 200,
     "metadata": {},
     "output_type": "execute_result"
    }
   ],
   "source": [
    "skl.metrics.f1_score(np.asarray(df_res[\"true\"]).astype(float), np.asarray(df_res[\"predicted_label\"]).astype(float))"
   ],
   "metadata": {
    "collapsed": false,
    "pycharm": {
     "name": "#%%\n"
    }
   }
  },
  {
   "cell_type": "code",
   "execution_count": 195,
   "outputs": [
    {
     "data": {
      "text/plain": "     predicted true  predicted_label  match\n0     0.945834    0                1      0\n1     0.941789    0                1      0\n2     0.929227    0                1      0\n3     0.876114    0                1      0\n4     0.934168    0                1      0\n...        ...  ...              ...    ...\n1260  0.005585    0                0      1\n1261  0.004865    0                0      1\n1262  0.004839    1                0      0\n1263  0.004846    0                0      1\n1264  0.004811    0                0      1\n\n[1265 rows x 4 columns]",
      "text/html": "<div>\n<style scoped>\n    .dataframe tbody tr th:only-of-type {\n        vertical-align: middle;\n    }\n\n    .dataframe tbody tr th {\n        vertical-align: top;\n    }\n\n    .dataframe thead th {\n        text-align: right;\n    }\n</style>\n<table border=\"1\" class=\"dataframe\">\n  <thead>\n    <tr style=\"text-align: right;\">\n      <th></th>\n      <th>predicted</th>\n      <th>true</th>\n      <th>predicted_label</th>\n      <th>match</th>\n    </tr>\n  </thead>\n  <tbody>\n    <tr>\n      <th>0</th>\n      <td>0.945834</td>\n      <td>0</td>\n      <td>1</td>\n      <td>0</td>\n    </tr>\n    <tr>\n      <th>1</th>\n      <td>0.941789</td>\n      <td>0</td>\n      <td>1</td>\n      <td>0</td>\n    </tr>\n    <tr>\n      <th>2</th>\n      <td>0.929227</td>\n      <td>0</td>\n      <td>1</td>\n      <td>0</td>\n    </tr>\n    <tr>\n      <th>3</th>\n      <td>0.876114</td>\n      <td>0</td>\n      <td>1</td>\n      <td>0</td>\n    </tr>\n    <tr>\n      <th>4</th>\n      <td>0.934168</td>\n      <td>0</td>\n      <td>1</td>\n      <td>0</td>\n    </tr>\n    <tr>\n      <th>...</th>\n      <td>...</td>\n      <td>...</td>\n      <td>...</td>\n      <td>...</td>\n    </tr>\n    <tr>\n      <th>1260</th>\n      <td>0.005585</td>\n      <td>0</td>\n      <td>0</td>\n      <td>1</td>\n    </tr>\n    <tr>\n      <th>1261</th>\n      <td>0.004865</td>\n      <td>0</td>\n      <td>0</td>\n      <td>1</td>\n    </tr>\n    <tr>\n      <th>1262</th>\n      <td>0.004839</td>\n      <td>1</td>\n      <td>0</td>\n      <td>0</td>\n    </tr>\n    <tr>\n      <th>1263</th>\n      <td>0.004846</td>\n      <td>0</td>\n      <td>0</td>\n      <td>1</td>\n    </tr>\n    <tr>\n      <th>1264</th>\n      <td>0.004811</td>\n      <td>0</td>\n      <td>0</td>\n      <td>1</td>\n    </tr>\n  </tbody>\n</table>\n<p>1265 rows × 4 columns</p>\n</div>"
     },
     "execution_count": 195,
     "metadata": {},
     "output_type": "execute_result"
    }
   ],
   "source": [
    "df_res"
   ],
   "metadata": {
    "collapsed": false,
    "pycharm": {
     "name": "#%%\n"
    }
   }
  },
  {
   "cell_type": "code",
   "execution_count": 189,
   "outputs": [
    {
     "data": {
      "text/plain": "       predicted_label        match\ncount      1265.000000  1265.000000\nmean          0.396047     0.479842\nstd           0.489268     0.499791\nmin           0.000000     0.000000\n25%           0.000000     0.000000\n50%           0.000000     0.000000\n75%           1.000000     1.000000\nmax           1.000000     1.000000",
      "text/html": "<div>\n<style scoped>\n    .dataframe tbody tr th:only-of-type {\n        vertical-align: middle;\n    }\n\n    .dataframe tbody tr th {\n        vertical-align: top;\n    }\n\n    .dataframe thead th {\n        text-align: right;\n    }\n</style>\n<table border=\"1\" class=\"dataframe\">\n  <thead>\n    <tr style=\"text-align: right;\">\n      <th></th>\n      <th>predicted_label</th>\n      <th>match</th>\n    </tr>\n  </thead>\n  <tbody>\n    <tr>\n      <th>count</th>\n      <td>1265.000000</td>\n      <td>1265.000000</td>\n    </tr>\n    <tr>\n      <th>mean</th>\n      <td>0.396047</td>\n      <td>0.479842</td>\n    </tr>\n    <tr>\n      <th>std</th>\n      <td>0.489268</td>\n      <td>0.499791</td>\n    </tr>\n    <tr>\n      <th>min</th>\n      <td>0.000000</td>\n      <td>0.000000</td>\n    </tr>\n    <tr>\n      <th>25%</th>\n      <td>0.000000</td>\n      <td>0.000000</td>\n    </tr>\n    <tr>\n      <th>50%</th>\n      <td>0.000000</td>\n      <td>0.000000</td>\n    </tr>\n    <tr>\n      <th>75%</th>\n      <td>1.000000</td>\n      <td>1.000000</td>\n    </tr>\n    <tr>\n      <th>max</th>\n      <td>1.000000</td>\n      <td>1.000000</td>\n    </tr>\n  </tbody>\n</table>\n</div>"
     },
     "execution_count": 189,
     "metadata": {},
     "output_type": "execute_result"
    }
   ],
   "source": [
    "df_res.describe()\n"
   ],
   "metadata": {
    "collapsed": false,
    "pycharm": {
     "name": "#%%\n"
    }
   }
  },
  {
   "cell_type": "code",
   "execution_count": 101,
   "outputs": [
    {
     "data": {
      "text/plain": "        predicted   true  predicted_label       match\ncount  627.000000  627.0       627.000000  627.000000\nmean     0.137474    1.0         0.100478    0.100478\nstd      0.225883    0.0         0.300877    0.300877\nmin     -0.034367    1.0         0.000000    0.000000\n25%      0.007819    1.0         0.000000    0.000000\n50%      0.040368    1.0         0.000000    0.000000\n75%      0.148088    1.0         0.000000    0.000000\nmax      0.973667    1.0         1.000000    1.000000",
      "text/html": "<div>\n<style scoped>\n    .dataframe tbody tr th:only-of-type {\n        vertical-align: middle;\n    }\n\n    .dataframe tbody tr th {\n        vertical-align: top;\n    }\n\n    .dataframe thead th {\n        text-align: right;\n    }\n</style>\n<table border=\"1\" class=\"dataframe\">\n  <thead>\n    <tr style=\"text-align: right;\">\n      <th></th>\n      <th>predicted</th>\n      <th>true</th>\n      <th>predicted_label</th>\n      <th>match</th>\n    </tr>\n  </thead>\n  <tbody>\n    <tr>\n      <th>count</th>\n      <td>627.000000</td>\n      <td>627.0</td>\n      <td>627.000000</td>\n      <td>627.000000</td>\n    </tr>\n    <tr>\n      <th>mean</th>\n      <td>0.137474</td>\n      <td>1.0</td>\n      <td>0.100478</td>\n      <td>0.100478</td>\n    </tr>\n    <tr>\n      <th>std</th>\n      <td>0.225883</td>\n      <td>0.0</td>\n      <td>0.300877</td>\n      <td>0.300877</td>\n    </tr>\n    <tr>\n      <th>min</th>\n      <td>-0.034367</td>\n      <td>1.0</td>\n      <td>0.000000</td>\n      <td>0.000000</td>\n    </tr>\n    <tr>\n      <th>25%</th>\n      <td>0.007819</td>\n      <td>1.0</td>\n      <td>0.000000</td>\n      <td>0.000000</td>\n    </tr>\n    <tr>\n      <th>50%</th>\n      <td>0.040368</td>\n      <td>1.0</td>\n      <td>0.000000</td>\n      <td>0.000000</td>\n    </tr>\n    <tr>\n      <th>75%</th>\n      <td>0.148088</td>\n      <td>1.0</td>\n      <td>0.000000</td>\n      <td>0.000000</td>\n    </tr>\n    <tr>\n      <th>max</th>\n      <td>0.973667</td>\n      <td>1.0</td>\n      <td>1.000000</td>\n      <td>1.000000</td>\n    </tr>\n  </tbody>\n</table>\n</div>"
     },
     "execution_count": 101,
     "metadata": {},
     "output_type": "execute_result"
    }
   ],
   "source": [
    "df_one = df_res[df_res[\"true\"] == 1]\n",
    "df_one.describe()"
   ],
   "metadata": {
    "collapsed": false,
    "pycharm": {
     "name": "#%%\n"
    }
   }
  },
  {
   "cell_type": "code",
   "execution_count": 102,
   "outputs": [
    {
     "data": {
      "text/plain": "         predicted    true  predicted_label        match\ncount  2416.000000  2416.0      2416.000000  2416.000000\nmean      0.126496     0.0         0.082368     0.917632\nstd       0.211251     0.0         0.274981     0.274981\nmin      -0.038495     0.0         0.000000     0.000000\n25%      -0.001271     0.0         0.000000     1.000000\n50%       0.031157     0.0         0.000000     1.000000\n75%       0.163892     0.0         0.000000     1.000000\nmax       0.976439     0.0         1.000000     1.000000",
      "text/html": "<div>\n<style scoped>\n    .dataframe tbody tr th:only-of-type {\n        vertical-align: middle;\n    }\n\n    .dataframe tbody tr th {\n        vertical-align: top;\n    }\n\n    .dataframe thead th {\n        text-align: right;\n    }\n</style>\n<table border=\"1\" class=\"dataframe\">\n  <thead>\n    <tr style=\"text-align: right;\">\n      <th></th>\n      <th>predicted</th>\n      <th>true</th>\n      <th>predicted_label</th>\n      <th>match</th>\n    </tr>\n  </thead>\n  <tbody>\n    <tr>\n      <th>count</th>\n      <td>2416.000000</td>\n      <td>2416.0</td>\n      <td>2416.000000</td>\n      <td>2416.000000</td>\n    </tr>\n    <tr>\n      <th>mean</th>\n      <td>0.126496</td>\n      <td>0.0</td>\n      <td>0.082368</td>\n      <td>0.917632</td>\n    </tr>\n    <tr>\n      <th>std</th>\n      <td>0.211251</td>\n      <td>0.0</td>\n      <td>0.274981</td>\n      <td>0.274981</td>\n    </tr>\n    <tr>\n      <th>min</th>\n      <td>-0.038495</td>\n      <td>0.0</td>\n      <td>0.000000</td>\n      <td>0.000000</td>\n    </tr>\n    <tr>\n      <th>25%</th>\n      <td>-0.001271</td>\n      <td>0.0</td>\n      <td>0.000000</td>\n      <td>1.000000</td>\n    </tr>\n    <tr>\n      <th>50%</th>\n      <td>0.031157</td>\n      <td>0.0</td>\n      <td>0.000000</td>\n      <td>1.000000</td>\n    </tr>\n    <tr>\n      <th>75%</th>\n      <td>0.163892</td>\n      <td>0.0</td>\n      <td>0.000000</td>\n      <td>1.000000</td>\n    </tr>\n    <tr>\n      <th>max</th>\n      <td>0.976439</td>\n      <td>0.0</td>\n      <td>1.000000</td>\n      <td>1.000000</td>\n    </tr>\n  </tbody>\n</table>\n</div>"
     },
     "execution_count": 102,
     "metadata": {},
     "output_type": "execute_result"
    }
   ],
   "source": [
    "df_zeros = df_res[df_res[\"true\"] == 0]\n",
    "df_zeros.describe()"
   ],
   "metadata": {
    "collapsed": false,
    "pycharm": {
     "name": "#%%\n"
    }
   }
  },
  {
   "cell_type": "markdown",
   "source": [],
   "metadata": {
    "collapsed": false
   }
  }
 ],
 "metadata": {
  "kernelspec": {
   "name": "conda-env-ExpAI-py",
   "language": "python",
   "display_name": "Python [conda env:ExpAI]"
  },
  "language_info": {
   "codemirror_mode": {
    "name": "ipython",
    "version": 3
   },
   "file_extension": ".py",
   "mimetype": "text/x-python",
   "name": "python",
   "nbconvert_exporter": "python",
   "pygments_lexer": "ipython3",
   "version": "3.8.12"
  },
  "varInspector": {
   "cols": {
    "lenName": 16,
    "lenType": 16,
    "lenVar": 40
   },
   "kernels_config": {
    "python": {
     "delete_cmd_postfix": "",
     "delete_cmd_prefix": "del ",
     "library": "var_list.py",
     "varRefreshCmd": "print(var_dic_list())"
    },
    "r": {
     "delete_cmd_postfix": ") ",
     "delete_cmd_prefix": "rm(",
     "library": "var_list.r",
     "varRefreshCmd": "cat(var_dic_list()) "
    }
   },
   "types_to_exclude": [
    "module",
    "function",
    "builtin_function_or_method",
    "instance",
    "_Feature"
   ],
   "window_display": false
  }
 },
 "nbformat": 4,
 "nbformat_minor": 4
}