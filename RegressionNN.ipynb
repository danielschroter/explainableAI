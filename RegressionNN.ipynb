{
 "cells": [
  {
   "cell_type": "code",
   "execution_count": 8,
   "outputs": [
    {
     "name": "stderr",
     "output_type": "stream",
     "text": [
      "[nltk_data] Downloading package punkt to\n",
      "[nltk_data]     C:\\Users\\hanne\\AppData\\Roaming\\nltk_data...\n",
      "[nltk_data]   Package punkt is already up-to-date!\n"
     ]
    }
   ],
   "source": [
    "import nltk\n",
    "nltk.download('punkt')\n",
    "from nltk.tokenize import word_tokenize\n",
    "import numpy as np"
   ],
   "metadata": {
    "collapsed": false,
    "pycharm": {
     "name": "#%%\n"
    }
   }
  },
  {
   "cell_type": "code",
   "execution_count": 9,
   "outputs": [],
   "source": [
    "import pandas as pd"
   ],
   "metadata": {
    "collapsed": false,
    "pycharm": {
     "name": "#%%\n"
    }
   }
  },
  {
   "cell_type": "markdown",
   "source": [],
   "metadata": {
    "collapsed": false
   }
  },
  {
   "cell_type": "code",
   "execution_count": 10,
   "outputs": [],
   "source": [
    "def cosine(u, v):\n",
    "    return np.dot(u, v) / (np.linalg.norm(u) * np.linalg.norm(v))"
   ],
   "metadata": {
    "collapsed": false,
    "pycharm": {
     "name": "#%%\n"
    }
   }
  },
  {
   "cell_type": "code",
   "execution_count": 11,
   "outputs": [],
   "source": [
    "# You have to adjust the \n",
    "df_arguments = pd.read_csv(\"kpm_data/arguments_dev.csv\")\n",
    "df_keypoints = pd.read_csv(\"kpm_data/key_points_dev.csv\")\n",
    "df_labels = pd.read_csv(\"kpm_data/labels_dev.csv\")"
   ],
   "metadata": {
    "collapsed": false,
    "pycharm": {
     "name": "#%%\n"
    }
   }
  },
  {
   "cell_type": "code",
   "execution_count": 12,
   "outputs": [
    {
     "data": {
      "text/plain": "    arg_id                                           argument  \\\n0  arg_4_0  having a school uniform can reduce bullying as...   \n1  arg_4_1             it is a good way to instill discipline   \n2  arg_4_2  it is cheaper for parents to buy school unifor...   \n3  arg_4_3  one of the benefits of school uniforms is that...   \n4  arg_4_4  researchers found that in schools across the w...   \n\n                                         topic  stance  \n0  We should abandon the use of school uniform      -1  \n1  We should abandon the use of school uniform      -1  \n2  We should abandon the use of school uniform      -1  \n3  We should abandon the use of school uniform      -1  \n4  We should abandon the use of school uniform      -1  ",
      "text/html": "<div>\n<style scoped>\n    .dataframe tbody tr th:only-of-type {\n        vertical-align: middle;\n    }\n\n    .dataframe tbody tr th {\n        vertical-align: top;\n    }\n\n    .dataframe thead th {\n        text-align: right;\n    }\n</style>\n<table border=\"1\" class=\"dataframe\">\n  <thead>\n    <tr style=\"text-align: right;\">\n      <th></th>\n      <th>arg_id</th>\n      <th>argument</th>\n      <th>topic</th>\n      <th>stance</th>\n    </tr>\n  </thead>\n  <tbody>\n    <tr>\n      <th>0</th>\n      <td>arg_4_0</td>\n      <td>having a school uniform can reduce bullying as...</td>\n      <td>We should abandon the use of school uniform</td>\n      <td>-1</td>\n    </tr>\n    <tr>\n      <th>1</th>\n      <td>arg_4_1</td>\n      <td>it is a good way to instill discipline</td>\n      <td>We should abandon the use of school uniform</td>\n      <td>-1</td>\n    </tr>\n    <tr>\n      <th>2</th>\n      <td>arg_4_2</td>\n      <td>it is cheaper for parents to buy school unifor...</td>\n      <td>We should abandon the use of school uniform</td>\n      <td>-1</td>\n    </tr>\n    <tr>\n      <th>3</th>\n      <td>arg_4_3</td>\n      <td>one of the benefits of school uniforms is that...</td>\n      <td>We should abandon the use of school uniform</td>\n      <td>-1</td>\n    </tr>\n    <tr>\n      <th>4</th>\n      <td>arg_4_4</td>\n      <td>researchers found that in schools across the w...</td>\n      <td>We should abandon the use of school uniform</td>\n      <td>-1</td>\n    </tr>\n  </tbody>\n</table>\n</div>"
     },
     "execution_count": 12,
     "metadata": {},
     "output_type": "execute_result"
    }
   ],
   "source": [
    "df_arguments.shape\n",
    "df_arguments.head()"
   ],
   "metadata": {
    "collapsed": false,
    "pycharm": {
     "name": "#%%\n"
    }
   }
  },
  {
   "cell_type": "code",
   "execution_count": 13,
   "outputs": [],
   "source": [
    "key_points = df_keypoints['key_point']"
   ],
   "metadata": {
    "collapsed": false,
    "pycharm": {
     "name": "#%%\n"
    }
   }
  },
  {
   "cell_type": "code",
   "execution_count": 14,
   "outputs": [],
   "source": [
    "from sentence_transformers import SentenceTransformer\n",
    "sbert_model = SentenceTransformer('bert-base-nli-mean-tokens')"
   ],
   "metadata": {
    "collapsed": false,
    "pycharm": {
     "name": "#%%\n"
    }
   }
  },
  {
   "cell_type": "code",
   "execution_count": 15,
   "outputs": [
    {
     "data": {
      "text/plain": "array([[ 0.24013345, -0.60543454,  1.1649946 , ...,  0.7345633 ,\n        -0.7821225 ,  0.4234572 ],\n       [-0.4927498 , -0.4679714 ,  0.30425778, ...,  1.0996794 ,\n        -0.6606649 ,  0.21055056],\n       [-0.06403853, -0.14591816,  0.95404166, ...,  0.84960556,\n        -0.9897014 ,  0.30558982],\n       ...,\n       [ 0.8822509 , -0.22543676,  0.19426186, ...,  0.6371331 ,\n        -1.0707703 ,  0.22760639],\n       [-0.20408638,  0.53391   ,  0.01523506, ..., -0.9874041 ,\n        -1.0077103 , -0.09953481],\n       [-0.5155356 ,  0.5542618 ,  0.58143574, ..., -0.32241064,\n        -0.45623398, -0.1330981 ]], dtype=float32)"
     },
     "execution_count": 15,
     "metadata": {},
     "output_type": "execute_result"
    }
   ],
   "source": [
    "key_point_embeddings = sbert_model.encode(key_points)\n",
    "key_point_embeddings\n"
   ],
   "metadata": {
    "collapsed": false,
    "pycharm": {
     "name": "#%%\n"
    }
   }
  },
  {
   "cell_type": "code",
   "execution_count": 16,
   "outputs": [],
   "source": [
    "query_arg = df_arguments[\"argument\"][1]\n",
    "query_arg_id = df_arguments[\"arg_id\"][1]"
   ],
   "metadata": {
    "collapsed": false,
    "pycharm": {
     "name": "#%%\n"
    }
   }
  },
  {
   "cell_type": "code",
   "execution_count": 17,
   "outputs": [
    {
     "name": "stdout",
     "output_type": "stream",
     "text": [
      "arg_4_1\n"
     ]
    }
   ],
   "source": [
    "print(query_arg_id)"
   ],
   "metadata": {
    "collapsed": false,
    "pycharm": {
     "name": "#%%\n"
    }
   }
  },
  {
   "cell_type": "code",
   "execution_count": 18,
   "outputs": [],
   "source": [
    "query_vec = sbert_model.encode([query_arg])[0]"
   ],
   "metadata": {
    "collapsed": false,
    "pycharm": {
     "name": "#%%\n"
    }
   }
  },
  {
   "cell_type": "code",
   "execution_count": 19,
   "outputs": [],
   "source": [
    "l_arg = []\n",
    "l_sim = []\n",
    "for kp in key_points:\n",
    "  sim = cosine(query_vec, sbert_model.encode([kp])[0])\n",
    "  l_arg.append(kp)\n",
    "  l_sim.append(sim)\n",
    "  # print(\"Sentence = \", sent, \"; similarity = \", sim)\n",
    "    \n",
    "result = pd.DataFrame({\"key_point\": l_arg, \"similarity\": l_sim})"
   ],
   "metadata": {
    "collapsed": false,
    "pycharm": {
     "name": "#%%\n"
    }
   }
  },
  {
   "cell_type": "code",
   "execution_count": 20,
   "outputs": [
    {
     "data": {
      "text/plain": "                                           key_point  similarity\n0  Children can still express themselves using ot...    0.457633\n1                    School uniform reduces bullying    0.551126\n2  School uniforms encourage discipline or focus ...    0.674641\n3                        School uniforms saves costs    0.566534\n4   School uniforms create a sense of equality/unity    0.630723",
      "text/html": "<div>\n<style scoped>\n    .dataframe tbody tr th:only-of-type {\n        vertical-align: middle;\n    }\n\n    .dataframe tbody tr th {\n        vertical-align: top;\n    }\n\n    .dataframe thead th {\n        text-align: right;\n    }\n</style>\n<table border=\"1\" class=\"dataframe\">\n  <thead>\n    <tr style=\"text-align: right;\">\n      <th></th>\n      <th>key_point</th>\n      <th>similarity</th>\n    </tr>\n  </thead>\n  <tbody>\n    <tr>\n      <th>0</th>\n      <td>Children can still express themselves using ot...</td>\n      <td>0.457633</td>\n    </tr>\n    <tr>\n      <th>1</th>\n      <td>School uniform reduces bullying</td>\n      <td>0.551126</td>\n    </tr>\n    <tr>\n      <th>2</th>\n      <td>School uniforms encourage discipline or focus ...</td>\n      <td>0.674641</td>\n    </tr>\n    <tr>\n      <th>3</th>\n      <td>School uniforms saves costs</td>\n      <td>0.566534</td>\n    </tr>\n    <tr>\n      <th>4</th>\n      <td>School uniforms create a sense of equality/unity</td>\n      <td>0.630723</td>\n    </tr>\n  </tbody>\n</table>\n</div>"
     },
     "execution_count": 20,
     "metadata": {},
     "output_type": "execute_result"
    }
   ],
   "source": [
    "result.head()"
   ],
   "metadata": {
    "collapsed": false,
    "pycharm": {
     "name": "#%%\n"
    }
   }
  },
  {
   "cell_type": "code",
   "execution_count": 21,
   "outputs": [
    {
     "name": "stdout",
     "output_type": "stream",
     "text": [
      "kp_8_7\n"
     ]
    }
   ],
   "source": [
    "most_similar_kp = result.loc[result['similarity'].idxmax()]\n",
    "most_similar_kp_id = df_keypoints[df_keypoints[\"key_point\"]==most_similar_kp[\"key_point\"]][\"key_point_id\"].iloc[0]\n",
    "print(most_similar_kp_id)"
   ],
   "metadata": {
    "collapsed": false,
    "pycharm": {
     "name": "#%%\n"
    }
   }
  },
  {
   "cell_type": "code",
   "execution_count": 22,
   "outputs": [
    {
     "name": "stdout",
     "output_type": "stream",
     "text": [
      "kp_4_2\n"
     ]
    }
   ],
   "source": [
    "correct_kp = df_labels[df_labels[\"arg_id\"]==query_arg_id]\n",
    "correct_kp = correct_kp[correct_kp[\"label\"]==1][\"key_point_id\"].iloc[0]\n",
    "print(correct_kp)"
   ],
   "metadata": {
    "collapsed": false,
    "pycharm": {
     "name": "#%%\n"
    }
   }
  },
  {
   "cell_type": "code",
   "execution_count": 22,
   "outputs": [],
   "source": [],
   "metadata": {
    "collapsed": false,
    "pycharm": {
     "name": "#%%\n"
    }
   }
  },
  {
   "cell_type": "code",
   "execution_count": 23,
   "outputs": [
    {
     "name": "stdout",
     "output_type": "stream",
     "text": [
      "Query:  it is a good way to instill discipline\n",
      "Key_point is:  Austerity is important to increase stability\n",
      "Matching: False\n"
     ]
    }
   ],
   "source": [
    "print(\"Query: \", query_arg)\n",
    "print(\"Key_point is: \", most_similar_kp[\"key_point\"])\n",
    "if correct_kp == most_similar_kp_id:\n",
    "    print(\"Matching: Correct\")\n",
    "else:\n",
    "    print(\"Matching: False\")"
   ],
   "metadata": {
    "collapsed": false,
    "pycharm": {
     "name": "#%%\n"
    }
   }
  },
  {
   "cell_type": "code",
   "execution_count": 24,
   "outputs": [
    {
     "data": {
      "text/plain": "array([[-0.21171936,  0.33552772,  0.3132487 , ...,  0.7327052 ,\n        -0.82815576,  0.05489646],\n       [-0.1577365 , -0.3815103 ,  2.0090349 , ...,  0.07120312,\n        -1.2360226 ,  0.04574307],\n       [-0.5563665 ,  0.18553925,  0.03002767, ...,  0.61501706,\n        -0.04241766,  0.16210704],\n       ...,\n       [-0.19501917,  0.4722792 ,  1.3385419 , ..., -0.5832078 ,\n        -0.84415907,  0.84149545],\n       [-0.11743899,  0.7670163 ,  0.0462397 , ..., -0.6081743 ,\n        -0.9796996 ,  0.5086879 ],\n       [-0.02283251, -0.18045345,  1.710494  , ..., -0.5065564 ,\n        -1.2832665 ,  0.58527386]], dtype=float32)"
     },
     "execution_count": 24,
     "metadata": {},
     "output_type": "execute_result"
    }
   ],
   "source": [
    "argument_embeddings = sbert_model.encode(df_arguments['argument'])\n",
    "argument_embeddings"
   ],
   "metadata": {
    "collapsed": false,
    "pycharm": {
     "name": "#%%\n"
    }
   }
  },
  {
   "cell_type": "code",
   "execution_count": 25,
   "outputs": [
    {
     "data": {
      "text/plain": "         arg_id                                           argument  \\\n0       arg_4_0  having a school uniform can reduce bullying as...   \n1       arg_4_1             it is a good way to instill discipline   \n2       arg_4_2  it is cheaper for parents to buy school unifor...   \n3       arg_4_3  one of the benefits of school uniforms is that...   \n4       arg_4_4  researchers found that in schools across the w...   \n..          ...                                                ...   \n927  arg_15_222  we should end it and give people that are the ...   \n928  arg_15_223   we should end it so that every persons are equal   \n929  arg_15_224  we should evaluate candidates based solely on ...   \n930  arg_15_225  we should select people based on their merit o...   \n931  arg_15_226  yes, you should have to work your way to the t...   \n\n                                           topic  stance  \n0    We should abandon the use of school uniform      -1  \n1    We should abandon the use of school uniform      -1  \n2    We should abandon the use of school uniform      -1  \n3    We should abandon the use of school uniform      -1  \n4    We should abandon the use of school uniform      -1  \n..                                           ...     ...  \n927             We should end affirmative action       1  \n928             We should end affirmative action       1  \n929             We should end affirmative action       1  \n930             We should end affirmative action       1  \n931             We should end affirmative action       1  \n\n[932 rows x 4 columns]",
      "text/html": "<div>\n<style scoped>\n    .dataframe tbody tr th:only-of-type {\n        vertical-align: middle;\n    }\n\n    .dataframe tbody tr th {\n        vertical-align: top;\n    }\n\n    .dataframe thead th {\n        text-align: right;\n    }\n</style>\n<table border=\"1\" class=\"dataframe\">\n  <thead>\n    <tr style=\"text-align: right;\">\n      <th></th>\n      <th>arg_id</th>\n      <th>argument</th>\n      <th>topic</th>\n      <th>stance</th>\n    </tr>\n  </thead>\n  <tbody>\n    <tr>\n      <th>0</th>\n      <td>arg_4_0</td>\n      <td>having a school uniform can reduce bullying as...</td>\n      <td>We should abandon the use of school uniform</td>\n      <td>-1</td>\n    </tr>\n    <tr>\n      <th>1</th>\n      <td>arg_4_1</td>\n      <td>it is a good way to instill discipline</td>\n      <td>We should abandon the use of school uniform</td>\n      <td>-1</td>\n    </tr>\n    <tr>\n      <th>2</th>\n      <td>arg_4_2</td>\n      <td>it is cheaper for parents to buy school unifor...</td>\n      <td>We should abandon the use of school uniform</td>\n      <td>-1</td>\n    </tr>\n    <tr>\n      <th>3</th>\n      <td>arg_4_3</td>\n      <td>one of the benefits of school uniforms is that...</td>\n      <td>We should abandon the use of school uniform</td>\n      <td>-1</td>\n    </tr>\n    <tr>\n      <th>4</th>\n      <td>arg_4_4</td>\n      <td>researchers found that in schools across the w...</td>\n      <td>We should abandon the use of school uniform</td>\n      <td>-1</td>\n    </tr>\n    <tr>\n      <th>...</th>\n      <td>...</td>\n      <td>...</td>\n      <td>...</td>\n      <td>...</td>\n    </tr>\n    <tr>\n      <th>927</th>\n      <td>arg_15_222</td>\n      <td>we should end it and give people that are the ...</td>\n      <td>We should end affirmative action</td>\n      <td>1</td>\n    </tr>\n    <tr>\n      <th>928</th>\n      <td>arg_15_223</td>\n      <td>we should end it so that every persons are equal</td>\n      <td>We should end affirmative action</td>\n      <td>1</td>\n    </tr>\n    <tr>\n      <th>929</th>\n      <td>arg_15_224</td>\n      <td>we should evaluate candidates based solely on ...</td>\n      <td>We should end affirmative action</td>\n      <td>1</td>\n    </tr>\n    <tr>\n      <th>930</th>\n      <td>arg_15_225</td>\n      <td>we should select people based on their merit o...</td>\n      <td>We should end affirmative action</td>\n      <td>1</td>\n    </tr>\n    <tr>\n      <th>931</th>\n      <td>arg_15_226</td>\n      <td>yes, you should have to work your way to the t...</td>\n      <td>We should end affirmative action</td>\n      <td>1</td>\n    </tr>\n  </tbody>\n</table>\n<p>932 rows × 4 columns</p>\n</div>"
     },
     "execution_count": 25,
     "metadata": {},
     "output_type": "execute_result"
    }
   ],
   "source": [
    "df_arguments\n"
   ],
   "metadata": {
    "collapsed": false,
    "pycharm": {
     "name": "#%%\n"
    }
   }
  },
  {
   "cell_type": "code",
   "execution_count": 26,
   "outputs": [
    {
     "data": {
      "text/plain": "   key_point_id                                          key_point  \\\n0        kp_4_0  Children can still express themselves using ot...   \n1        kp_4_1                    School uniform reduces bullying   \n2        kp_4_2  School uniforms encourage discipline or focus ...   \n3        kp_4_3                        School uniforms saves costs   \n4        kp_4_4   School uniforms create a sense of equality/unity   \n5        kp_4_5  School uniform is harming the student's self e...   \n6        kp_4_6                      School uniforms are expensive   \n7        kp_4_7     School uniforms are often uncomfortable/sexist   \n8        kp_4_8           School uniform harms learning/creativity   \n9        kp_4_9  School uniforms increase conformity or harm in...   \n10       kp_7_0                         Gun control is ineffective   \n11       kp_7_1                           Gun ownership is a right   \n12       kp_7_2  Gun ownership is necessary for hunting/sports-...   \n13       kp_7_3             Gun ownership promotes self protection   \n14       kp_7_4                      Banning guns would save lives   \n15       kp_7_5                 Guns can fall into the wrong hands   \n16       kp_7_6                     Guns lead to accidental deaths   \n17       kp_7_7  Gun ownership allows for mass-shootings/genera...   \n18       kp_8_0        Austerity cuts access to essential services   \n19       kp_8_1                        Austerity extend recessions   \n20       kp_8_2                Austerity is unfair to the citizens   \n21       kp_8_3                  Austerity results in lower growth   \n22       kp_8_4            Austerity results in lower job creation   \n23       kp_8_5           Austerity improves the economic measures   \n24       kp_8_6            Austerity is important in the long term   \n25       kp_8_7       Austerity is important to increase stability   \n26       kp_8_8  Austerity is necessary to reduce deficits or p...   \n27       kp_8_9  Austerity regime is essential in economically ...   \n28      kp_15_0                Affirmative action boosts diversity   \n29      kp_15_1  Affirmative action is necessary to compensate ...   \n30      kp_15_2          Affirmative action reduces discrimination   \n31      kp_15_3  Affirmative action diminishes the achievements...   \n32      kp_15_4                  Affirmative action is ineffective   \n33      kp_15_5                     Affirmative action is not just   \n34      kp_15_6           Affirmative action perpetuates prejudice   \n35      kp_15_7                 Affirmative action reduces quality   \n\n                                                topic  stance  \n0         We should abandon the use of school uniform      -1  \n1         We should abandon the use of school uniform      -1  \n2         We should abandon the use of school uniform      -1  \n3         We should abandon the use of school uniform      -1  \n4         We should abandon the use of school uniform      -1  \n5         We should abandon the use of school uniform       1  \n6         We should abandon the use of school uniform       1  \n7         We should abandon the use of school uniform       1  \n8         We should abandon the use of school uniform       1  \n9         We should abandon the use of school uniform       1  \n10  We should abolish the right to keep and bear arms      -1  \n11  We should abolish the right to keep and bear arms      -1  \n12  We should abolish the right to keep and bear arms      -1  \n13  We should abolish the right to keep and bear arms      -1  \n14  We should abolish the right to keep and bear arms       1  \n15  We should abolish the right to keep and bear arms       1  \n16  We should abolish the right to keep and bear arms       1  \n17  We should abolish the right to keep and bear arms       1  \n18                We should adopt an austerity regime      -1  \n19                We should adopt an austerity regime      -1  \n20                We should adopt an austerity regime      -1  \n21                We should adopt an austerity regime      -1  \n22                We should adopt an austerity regime      -1  \n23                We should adopt an austerity regime       1  \n24                We should adopt an austerity regime       1  \n25                We should adopt an austerity regime       1  \n26                We should adopt an austerity regime       1  \n27                We should adopt an austerity regime       1  \n28                   We should end affirmative action      -1  \n29                   We should end affirmative action      -1  \n30                   We should end affirmative action      -1  \n31                   We should end affirmative action       1  \n32                   We should end affirmative action       1  \n33                   We should end affirmative action       1  \n34                   We should end affirmative action       1  \n35                   We should end affirmative action       1  ",
      "text/html": "<div>\n<style scoped>\n    .dataframe tbody tr th:only-of-type {\n        vertical-align: middle;\n    }\n\n    .dataframe tbody tr th {\n        vertical-align: top;\n    }\n\n    .dataframe thead th {\n        text-align: right;\n    }\n</style>\n<table border=\"1\" class=\"dataframe\">\n  <thead>\n    <tr style=\"text-align: right;\">\n      <th></th>\n      <th>key_point_id</th>\n      <th>key_point</th>\n      <th>topic</th>\n      <th>stance</th>\n    </tr>\n  </thead>\n  <tbody>\n    <tr>\n      <th>0</th>\n      <td>kp_4_0</td>\n      <td>Children can still express themselves using ot...</td>\n      <td>We should abandon the use of school uniform</td>\n      <td>-1</td>\n    </tr>\n    <tr>\n      <th>1</th>\n      <td>kp_4_1</td>\n      <td>School uniform reduces bullying</td>\n      <td>We should abandon the use of school uniform</td>\n      <td>-1</td>\n    </tr>\n    <tr>\n      <th>2</th>\n      <td>kp_4_2</td>\n      <td>School uniforms encourage discipline or focus ...</td>\n      <td>We should abandon the use of school uniform</td>\n      <td>-1</td>\n    </tr>\n    <tr>\n      <th>3</th>\n      <td>kp_4_3</td>\n      <td>School uniforms saves costs</td>\n      <td>We should abandon the use of school uniform</td>\n      <td>-1</td>\n    </tr>\n    <tr>\n      <th>4</th>\n      <td>kp_4_4</td>\n      <td>School uniforms create a sense of equality/unity</td>\n      <td>We should abandon the use of school uniform</td>\n      <td>-1</td>\n    </tr>\n    <tr>\n      <th>5</th>\n      <td>kp_4_5</td>\n      <td>School uniform is harming the student's self e...</td>\n      <td>We should abandon the use of school uniform</td>\n      <td>1</td>\n    </tr>\n    <tr>\n      <th>6</th>\n      <td>kp_4_6</td>\n      <td>School uniforms are expensive</td>\n      <td>We should abandon the use of school uniform</td>\n      <td>1</td>\n    </tr>\n    <tr>\n      <th>7</th>\n      <td>kp_4_7</td>\n      <td>School uniforms are often uncomfortable/sexist</td>\n      <td>We should abandon the use of school uniform</td>\n      <td>1</td>\n    </tr>\n    <tr>\n      <th>8</th>\n      <td>kp_4_8</td>\n      <td>School uniform harms learning/creativity</td>\n      <td>We should abandon the use of school uniform</td>\n      <td>1</td>\n    </tr>\n    <tr>\n      <th>9</th>\n      <td>kp_4_9</td>\n      <td>School uniforms increase conformity or harm in...</td>\n      <td>We should abandon the use of school uniform</td>\n      <td>1</td>\n    </tr>\n    <tr>\n      <th>10</th>\n      <td>kp_7_0</td>\n      <td>Gun control is ineffective</td>\n      <td>We should abolish the right to keep and bear arms</td>\n      <td>-1</td>\n    </tr>\n    <tr>\n      <th>11</th>\n      <td>kp_7_1</td>\n      <td>Gun ownership is a right</td>\n      <td>We should abolish the right to keep and bear arms</td>\n      <td>-1</td>\n    </tr>\n    <tr>\n      <th>12</th>\n      <td>kp_7_2</td>\n      <td>Gun ownership is necessary for hunting/sports-...</td>\n      <td>We should abolish the right to keep and bear arms</td>\n      <td>-1</td>\n    </tr>\n    <tr>\n      <th>13</th>\n      <td>kp_7_3</td>\n      <td>Gun ownership promotes self protection</td>\n      <td>We should abolish the right to keep and bear arms</td>\n      <td>-1</td>\n    </tr>\n    <tr>\n      <th>14</th>\n      <td>kp_7_4</td>\n      <td>Banning guns would save lives</td>\n      <td>We should abolish the right to keep and bear arms</td>\n      <td>1</td>\n    </tr>\n    <tr>\n      <th>15</th>\n      <td>kp_7_5</td>\n      <td>Guns can fall into the wrong hands</td>\n      <td>We should abolish the right to keep and bear arms</td>\n      <td>1</td>\n    </tr>\n    <tr>\n      <th>16</th>\n      <td>kp_7_6</td>\n      <td>Guns lead to accidental deaths</td>\n      <td>We should abolish the right to keep and bear arms</td>\n      <td>1</td>\n    </tr>\n    <tr>\n      <th>17</th>\n      <td>kp_7_7</td>\n      <td>Gun ownership allows for mass-shootings/genera...</td>\n      <td>We should abolish the right to keep and bear arms</td>\n      <td>1</td>\n    </tr>\n    <tr>\n      <th>18</th>\n      <td>kp_8_0</td>\n      <td>Austerity cuts access to essential services</td>\n      <td>We should adopt an austerity regime</td>\n      <td>-1</td>\n    </tr>\n    <tr>\n      <th>19</th>\n      <td>kp_8_1</td>\n      <td>Austerity extend recessions</td>\n      <td>We should adopt an austerity regime</td>\n      <td>-1</td>\n    </tr>\n    <tr>\n      <th>20</th>\n      <td>kp_8_2</td>\n      <td>Austerity is unfair to the citizens</td>\n      <td>We should adopt an austerity regime</td>\n      <td>-1</td>\n    </tr>\n    <tr>\n      <th>21</th>\n      <td>kp_8_3</td>\n      <td>Austerity results in lower growth</td>\n      <td>We should adopt an austerity regime</td>\n      <td>-1</td>\n    </tr>\n    <tr>\n      <th>22</th>\n      <td>kp_8_4</td>\n      <td>Austerity results in lower job creation</td>\n      <td>We should adopt an austerity regime</td>\n      <td>-1</td>\n    </tr>\n    <tr>\n      <th>23</th>\n      <td>kp_8_5</td>\n      <td>Austerity improves the economic measures</td>\n      <td>We should adopt an austerity regime</td>\n      <td>1</td>\n    </tr>\n    <tr>\n      <th>24</th>\n      <td>kp_8_6</td>\n      <td>Austerity is important in the long term</td>\n      <td>We should adopt an austerity regime</td>\n      <td>1</td>\n    </tr>\n    <tr>\n      <th>25</th>\n      <td>kp_8_7</td>\n      <td>Austerity is important to increase stability</td>\n      <td>We should adopt an austerity regime</td>\n      <td>1</td>\n    </tr>\n    <tr>\n      <th>26</th>\n      <td>kp_8_8</td>\n      <td>Austerity is necessary to reduce deficits or p...</td>\n      <td>We should adopt an austerity regime</td>\n      <td>1</td>\n    </tr>\n    <tr>\n      <th>27</th>\n      <td>kp_8_9</td>\n      <td>Austerity regime is essential in economically ...</td>\n      <td>We should adopt an austerity regime</td>\n      <td>1</td>\n    </tr>\n    <tr>\n      <th>28</th>\n      <td>kp_15_0</td>\n      <td>Affirmative action boosts diversity</td>\n      <td>We should end affirmative action</td>\n      <td>-1</td>\n    </tr>\n    <tr>\n      <th>29</th>\n      <td>kp_15_1</td>\n      <td>Affirmative action is necessary to compensate ...</td>\n      <td>We should end affirmative action</td>\n      <td>-1</td>\n    </tr>\n    <tr>\n      <th>30</th>\n      <td>kp_15_2</td>\n      <td>Affirmative action reduces discrimination</td>\n      <td>We should end affirmative action</td>\n      <td>-1</td>\n    </tr>\n    <tr>\n      <th>31</th>\n      <td>kp_15_3</td>\n      <td>Affirmative action diminishes the achievements...</td>\n      <td>We should end affirmative action</td>\n      <td>1</td>\n    </tr>\n    <tr>\n      <th>32</th>\n      <td>kp_15_4</td>\n      <td>Affirmative action is ineffective</td>\n      <td>We should end affirmative action</td>\n      <td>1</td>\n    </tr>\n    <tr>\n      <th>33</th>\n      <td>kp_15_5</td>\n      <td>Affirmative action is not just</td>\n      <td>We should end affirmative action</td>\n      <td>1</td>\n    </tr>\n    <tr>\n      <th>34</th>\n      <td>kp_15_6</td>\n      <td>Affirmative action perpetuates prejudice</td>\n      <td>We should end affirmative action</td>\n      <td>1</td>\n    </tr>\n    <tr>\n      <th>35</th>\n      <td>kp_15_7</td>\n      <td>Affirmative action reduces quality</td>\n      <td>We should end affirmative action</td>\n      <td>1</td>\n    </tr>\n  </tbody>\n</table>\n</div>"
     },
     "execution_count": 26,
     "metadata": {},
     "output_type": "execute_result"
    }
   ],
   "source": [
    "df_keypoints\n",
    "\n"
   ],
   "metadata": {
    "collapsed": false,
    "pycharm": {
     "name": "#%%\n"
    }
   }
  },
  {
   "cell_type": "code",
   "execution_count": 27,
   "outputs": [
    {
     "data": {
      "text/plain": "          arg_id key_point_id  label\n0      arg_4_121       kp_4_5      1\n1      arg_4_121       kp_4_6      0\n2      arg_4_121       kp_4_7      0\n3      arg_4_122       kp_4_8      0\n4      arg_4_122       kp_4_5      1\n...          ...          ...    ...\n3453  arg_15_226      kp_15_3      0\n3454  arg_15_226      kp_15_4      0\n3455  arg_15_226      kp_15_5      1\n3456  arg_15_226      kp_15_6      0\n3457  arg_15_226      kp_15_7      0\n\n[3458 rows x 3 columns]",
      "text/html": "<div>\n<style scoped>\n    .dataframe tbody tr th:only-of-type {\n        vertical-align: middle;\n    }\n\n    .dataframe tbody tr th {\n        vertical-align: top;\n    }\n\n    .dataframe thead th {\n        text-align: right;\n    }\n</style>\n<table border=\"1\" class=\"dataframe\">\n  <thead>\n    <tr style=\"text-align: right;\">\n      <th></th>\n      <th>arg_id</th>\n      <th>key_point_id</th>\n      <th>label</th>\n    </tr>\n  </thead>\n  <tbody>\n    <tr>\n      <th>0</th>\n      <td>arg_4_121</td>\n      <td>kp_4_5</td>\n      <td>1</td>\n    </tr>\n    <tr>\n      <th>1</th>\n      <td>arg_4_121</td>\n      <td>kp_4_6</td>\n      <td>0</td>\n    </tr>\n    <tr>\n      <th>2</th>\n      <td>arg_4_121</td>\n      <td>kp_4_7</td>\n      <td>0</td>\n    </tr>\n    <tr>\n      <th>3</th>\n      <td>arg_4_122</td>\n      <td>kp_4_8</td>\n      <td>0</td>\n    </tr>\n    <tr>\n      <th>4</th>\n      <td>arg_4_122</td>\n      <td>kp_4_5</td>\n      <td>1</td>\n    </tr>\n    <tr>\n      <th>...</th>\n      <td>...</td>\n      <td>...</td>\n      <td>...</td>\n    </tr>\n    <tr>\n      <th>3453</th>\n      <td>arg_15_226</td>\n      <td>kp_15_3</td>\n      <td>0</td>\n    </tr>\n    <tr>\n      <th>3454</th>\n      <td>arg_15_226</td>\n      <td>kp_15_4</td>\n      <td>0</td>\n    </tr>\n    <tr>\n      <th>3455</th>\n      <td>arg_15_226</td>\n      <td>kp_15_5</td>\n      <td>1</td>\n    </tr>\n    <tr>\n      <th>3456</th>\n      <td>arg_15_226</td>\n      <td>kp_15_6</td>\n      <td>0</td>\n    </tr>\n    <tr>\n      <th>3457</th>\n      <td>arg_15_226</td>\n      <td>kp_15_7</td>\n      <td>0</td>\n    </tr>\n  </tbody>\n</table>\n<p>3458 rows × 3 columns</p>\n</div>"
     },
     "execution_count": 27,
     "metadata": {},
     "output_type": "execute_result"
    }
   ],
   "source": [
    "df_labels"
   ],
   "metadata": {
    "collapsed": false,
    "pycharm": {
     "name": "#%%\n"
    }
   }
  },
  {
   "cell_type": "code",
   "execution_count": 28,
   "outputs": [
    {
     "data": {
      "text/plain": "      arg_id key_point_id  label   arg_id  \\\n0  arg_4_121       kp_4_5      1  arg_4_0   \n1  arg_4_121       kp_4_6      0  arg_4_1   \n2  arg_4_121       kp_4_7      0  arg_4_2   \n3  arg_4_122       kp_4_8      0  arg_4_3   \n4  arg_4_122       kp_4_5      1  arg_4_4   \n\n                                            argument  \\\n0  having a school uniform can reduce bullying as...   \n1             it is a good way to instill discipline   \n2  it is cheaper for parents to buy school unifor...   \n3  one of the benefits of school uniforms is that...   \n4  researchers found that in schools across the w...   \n\n                                         topic  stance  \n0  We should abandon the use of school uniform      -1  \n1  We should abandon the use of school uniform      -1  \n2  We should abandon the use of school uniform      -1  \n3  We should abandon the use of school uniform      -1  \n4  We should abandon the use of school uniform      -1  ",
      "text/html": "<div>\n<style scoped>\n    .dataframe tbody tr th:only-of-type {\n        vertical-align: middle;\n    }\n\n    .dataframe tbody tr th {\n        vertical-align: top;\n    }\n\n    .dataframe thead th {\n        text-align: right;\n    }\n</style>\n<table border=\"1\" class=\"dataframe\">\n  <thead>\n    <tr style=\"text-align: right;\">\n      <th></th>\n      <th>arg_id</th>\n      <th>key_point_id</th>\n      <th>label</th>\n      <th>arg_id</th>\n      <th>argument</th>\n      <th>topic</th>\n      <th>stance</th>\n    </tr>\n  </thead>\n  <tbody>\n    <tr>\n      <th>0</th>\n      <td>arg_4_121</td>\n      <td>kp_4_5</td>\n      <td>1</td>\n      <td>arg_4_0</td>\n      <td>having a school uniform can reduce bullying as...</td>\n      <td>We should abandon the use of school uniform</td>\n      <td>-1</td>\n    </tr>\n    <tr>\n      <th>1</th>\n      <td>arg_4_121</td>\n      <td>kp_4_6</td>\n      <td>0</td>\n      <td>arg_4_1</td>\n      <td>it is a good way to instill discipline</td>\n      <td>We should abandon the use of school uniform</td>\n      <td>-1</td>\n    </tr>\n    <tr>\n      <th>2</th>\n      <td>arg_4_121</td>\n      <td>kp_4_7</td>\n      <td>0</td>\n      <td>arg_4_2</td>\n      <td>it is cheaper for parents to buy school unifor...</td>\n      <td>We should abandon the use of school uniform</td>\n      <td>-1</td>\n    </tr>\n    <tr>\n      <th>3</th>\n      <td>arg_4_122</td>\n      <td>kp_4_8</td>\n      <td>0</td>\n      <td>arg_4_3</td>\n      <td>one of the benefits of school uniforms is that...</td>\n      <td>We should abandon the use of school uniform</td>\n      <td>-1</td>\n    </tr>\n    <tr>\n      <th>4</th>\n      <td>arg_4_122</td>\n      <td>kp_4_5</td>\n      <td>1</td>\n      <td>arg_4_4</td>\n      <td>researchers found that in schools across the w...</td>\n      <td>We should abandon the use of school uniform</td>\n      <td>-1</td>\n    </tr>\n  </tbody>\n</table>\n</div>"
     },
     "execution_count": 28,
     "metadata": {},
     "output_type": "execute_result"
    }
   ],
   "source": [
    "result = pd.concat([df_labels, df_arguments], axis=1, join=\"inner\")\n",
    "result.head()"
   ],
   "metadata": {
    "collapsed": false,
    "pycharm": {
     "name": "#%%\n"
    }
   }
  },
  {
   "cell_type": "code",
   "execution_count": 29,
   "outputs": [],
   "source": [
    "merged_dataset=df_labels.merge(df_arguments, left_on=\"arg_id\", right_on=\"arg_id\")"
   ],
   "metadata": {
    "collapsed": false,
    "pycharm": {
     "name": "#%%\n"
    }
   }
  },
  {
   "cell_type": "code",
   "execution_count": 30,
   "outputs": [
    {
     "data": {
      "text/plain": "        arg_id                                           argument  \\\n121  arg_4_121  A real education is about giving students the ...   \n\n                                           topic  stance  \n121  We should abandon the use of school uniform       1  ",
      "text/html": "<div>\n<style scoped>\n    .dataframe tbody tr th:only-of-type {\n        vertical-align: middle;\n    }\n\n    .dataframe tbody tr th {\n        vertical-align: top;\n    }\n\n    .dataframe thead th {\n        text-align: right;\n    }\n</style>\n<table border=\"1\" class=\"dataframe\">\n  <thead>\n    <tr style=\"text-align: right;\">\n      <th></th>\n      <th>arg_id</th>\n      <th>argument</th>\n      <th>topic</th>\n      <th>stance</th>\n    </tr>\n  </thead>\n  <tbody>\n    <tr>\n      <th>121</th>\n      <td>arg_4_121</td>\n      <td>A real education is about giving students the ...</td>\n      <td>We should abandon the use of school uniform</td>\n      <td>1</td>\n    </tr>\n  </tbody>\n</table>\n</div>"
     },
     "execution_count": 30,
     "metadata": {},
     "output_type": "execute_result"
    }
   ],
   "source": [
    "df_arguments.loc[df_arguments['arg_id'] == \"arg_4_121\"]"
   ],
   "metadata": {
    "collapsed": false,
    "pycharm": {
     "name": "#%%\n"
    }
   }
  },
  {
   "cell_type": "code",
   "execution_count": 31,
   "outputs": [
    {
     "data": {
      "text/plain": "          arg_id key_point_id  label\n0      arg_4_121       kp_4_5      1\n1      arg_4_121       kp_4_6      0\n2      arg_4_121       kp_4_7      0\n3      arg_4_122       kp_4_8      0\n4      arg_4_122       kp_4_5      1\n...          ...          ...    ...\n3453  arg_15_226      kp_15_3      0\n3454  arg_15_226      kp_15_4      0\n3455  arg_15_226      kp_15_5      1\n3456  arg_15_226      kp_15_6      0\n3457  arg_15_226      kp_15_7      0\n\n[3458 rows x 3 columns]",
      "text/html": "<div>\n<style scoped>\n    .dataframe tbody tr th:only-of-type {\n        vertical-align: middle;\n    }\n\n    .dataframe tbody tr th {\n        vertical-align: top;\n    }\n\n    .dataframe thead th {\n        text-align: right;\n    }\n</style>\n<table border=\"1\" class=\"dataframe\">\n  <thead>\n    <tr style=\"text-align: right;\">\n      <th></th>\n      <th>arg_id</th>\n      <th>key_point_id</th>\n      <th>label</th>\n    </tr>\n  </thead>\n  <tbody>\n    <tr>\n      <th>0</th>\n      <td>arg_4_121</td>\n      <td>kp_4_5</td>\n      <td>1</td>\n    </tr>\n    <tr>\n      <th>1</th>\n      <td>arg_4_121</td>\n      <td>kp_4_6</td>\n      <td>0</td>\n    </tr>\n    <tr>\n      <th>2</th>\n      <td>arg_4_121</td>\n      <td>kp_4_7</td>\n      <td>0</td>\n    </tr>\n    <tr>\n      <th>3</th>\n      <td>arg_4_122</td>\n      <td>kp_4_8</td>\n      <td>0</td>\n    </tr>\n    <tr>\n      <th>4</th>\n      <td>arg_4_122</td>\n      <td>kp_4_5</td>\n      <td>1</td>\n    </tr>\n    <tr>\n      <th>...</th>\n      <td>...</td>\n      <td>...</td>\n      <td>...</td>\n    </tr>\n    <tr>\n      <th>3453</th>\n      <td>arg_15_226</td>\n      <td>kp_15_3</td>\n      <td>0</td>\n    </tr>\n    <tr>\n      <th>3454</th>\n      <td>arg_15_226</td>\n      <td>kp_15_4</td>\n      <td>0</td>\n    </tr>\n    <tr>\n      <th>3455</th>\n      <td>arg_15_226</td>\n      <td>kp_15_5</td>\n      <td>1</td>\n    </tr>\n    <tr>\n      <th>3456</th>\n      <td>arg_15_226</td>\n      <td>kp_15_6</td>\n      <td>0</td>\n    </tr>\n    <tr>\n      <th>3457</th>\n      <td>arg_15_226</td>\n      <td>kp_15_7</td>\n      <td>0</td>\n    </tr>\n  </tbody>\n</table>\n<p>3458 rows × 3 columns</p>\n</div>"
     },
     "execution_count": 31,
     "metadata": {},
     "output_type": "execute_result"
    }
   ],
   "source": [
    "df_labels"
   ],
   "metadata": {
    "collapsed": false,
    "pycharm": {
     "name": "#%%\n"
    }
   }
  },
  {
   "cell_type": "code",
   "execution_count": 32,
   "outputs": [
    {
     "data": {
      "text/plain": "          arg_id key_point_id  label  \\\n0      arg_4_121       kp_4_5      1   \n1      arg_4_122       kp_4_5      1   \n2      arg_4_123       kp_4_5      1   \n3      arg_4_124       kp_4_5      1   \n4      arg_4_126       kp_4_5      1   \n...          ...          ...    ...   \n3453  arg_15_218      kp_15_7      1   \n3454  arg_15_219      kp_15_7      0   \n3455  arg_15_223      kp_15_7      0   \n3456  arg_15_225      kp_15_7      0   \n3457  arg_15_226      kp_15_7      0   \n\n                                               argument  \\\n0     A real education is about giving students the ...   \n1     children express themselves through the clothe...   \n2     children should be able to dress as they wish,...   \n3      children should be allowed to express themselves   \n4     freedom of expression extends to the right to ...   \n...                                                 ...   \n3453  we should end affirmative action because stude...   \n3454  we should end affirmative action because this ...   \n3455   we should end it so that every persons are equal   \n3456  we should select people based on their merit o...   \n3457  yes, you should have to work your way to the t...   \n\n                                          topic_x  stance_x  \\\n0     We should abandon the use of school uniform         1   \n1     We should abandon the use of school uniform         1   \n2     We should abandon the use of school uniform         1   \n3     We should abandon the use of school uniform         1   \n4     We should abandon the use of school uniform         1   \n...                                           ...       ...   \n3453             We should end affirmative action         1   \n3454             We should end affirmative action         1   \n3455             We should end affirmative action         1   \n3456             We should end affirmative action         1   \n3457             We should end affirmative action         1   \n\n                                              key_point  \\\n0     School uniform is harming the student's self e...   \n1     School uniform is harming the student's self e...   \n2     School uniform is harming the student's self e...   \n3     School uniform is harming the student's self e...   \n4     School uniform is harming the student's self e...   \n...                                                 ...   \n3453                 Affirmative action reduces quality   \n3454                 Affirmative action reduces quality   \n3455                 Affirmative action reduces quality   \n3456                 Affirmative action reduces quality   \n3457                 Affirmative action reduces quality   \n\n                                          topic_y  stance_y  \n0     We should abandon the use of school uniform         1  \n1     We should abandon the use of school uniform         1  \n2     We should abandon the use of school uniform         1  \n3     We should abandon the use of school uniform         1  \n4     We should abandon the use of school uniform         1  \n...                                           ...       ...  \n3453             We should end affirmative action         1  \n3454             We should end affirmative action         1  \n3455             We should end affirmative action         1  \n3456             We should end affirmative action         1  \n3457             We should end affirmative action         1  \n\n[3458 rows x 9 columns]",
      "text/html": "<div>\n<style scoped>\n    .dataframe tbody tr th:only-of-type {\n        vertical-align: middle;\n    }\n\n    .dataframe tbody tr th {\n        vertical-align: top;\n    }\n\n    .dataframe thead th {\n        text-align: right;\n    }\n</style>\n<table border=\"1\" class=\"dataframe\">\n  <thead>\n    <tr style=\"text-align: right;\">\n      <th></th>\n      <th>arg_id</th>\n      <th>key_point_id</th>\n      <th>label</th>\n      <th>argument</th>\n      <th>topic_x</th>\n      <th>stance_x</th>\n      <th>key_point</th>\n      <th>topic_y</th>\n      <th>stance_y</th>\n    </tr>\n  </thead>\n  <tbody>\n    <tr>\n      <th>0</th>\n      <td>arg_4_121</td>\n      <td>kp_4_5</td>\n      <td>1</td>\n      <td>A real education is about giving students the ...</td>\n      <td>We should abandon the use of school uniform</td>\n      <td>1</td>\n      <td>School uniform is harming the student's self e...</td>\n      <td>We should abandon the use of school uniform</td>\n      <td>1</td>\n    </tr>\n    <tr>\n      <th>1</th>\n      <td>arg_4_122</td>\n      <td>kp_4_5</td>\n      <td>1</td>\n      <td>children express themselves through the clothe...</td>\n      <td>We should abandon the use of school uniform</td>\n      <td>1</td>\n      <td>School uniform is harming the student's self e...</td>\n      <td>We should abandon the use of school uniform</td>\n      <td>1</td>\n    </tr>\n    <tr>\n      <th>2</th>\n      <td>arg_4_123</td>\n      <td>kp_4_5</td>\n      <td>1</td>\n      <td>children should be able to dress as they wish,...</td>\n      <td>We should abandon the use of school uniform</td>\n      <td>1</td>\n      <td>School uniform is harming the student's self e...</td>\n      <td>We should abandon the use of school uniform</td>\n      <td>1</td>\n    </tr>\n    <tr>\n      <th>3</th>\n      <td>arg_4_124</td>\n      <td>kp_4_5</td>\n      <td>1</td>\n      <td>children should be allowed to express themselves</td>\n      <td>We should abandon the use of school uniform</td>\n      <td>1</td>\n      <td>School uniform is harming the student's self e...</td>\n      <td>We should abandon the use of school uniform</td>\n      <td>1</td>\n    </tr>\n    <tr>\n      <th>4</th>\n      <td>arg_4_126</td>\n      <td>kp_4_5</td>\n      <td>1</td>\n      <td>freedom of expression extends to the right to ...</td>\n      <td>We should abandon the use of school uniform</td>\n      <td>1</td>\n      <td>School uniform is harming the student's self e...</td>\n      <td>We should abandon the use of school uniform</td>\n      <td>1</td>\n    </tr>\n    <tr>\n      <th>...</th>\n      <td>...</td>\n      <td>...</td>\n      <td>...</td>\n      <td>...</td>\n      <td>...</td>\n      <td>...</td>\n      <td>...</td>\n      <td>...</td>\n      <td>...</td>\n    </tr>\n    <tr>\n      <th>3453</th>\n      <td>arg_15_218</td>\n      <td>kp_15_7</td>\n      <td>1</td>\n      <td>we should end affirmative action because stude...</td>\n      <td>We should end affirmative action</td>\n      <td>1</td>\n      <td>Affirmative action reduces quality</td>\n      <td>We should end affirmative action</td>\n      <td>1</td>\n    </tr>\n    <tr>\n      <th>3454</th>\n      <td>arg_15_219</td>\n      <td>kp_15_7</td>\n      <td>0</td>\n      <td>we should end affirmative action because this ...</td>\n      <td>We should end affirmative action</td>\n      <td>1</td>\n      <td>Affirmative action reduces quality</td>\n      <td>We should end affirmative action</td>\n      <td>1</td>\n    </tr>\n    <tr>\n      <th>3455</th>\n      <td>arg_15_223</td>\n      <td>kp_15_7</td>\n      <td>0</td>\n      <td>we should end it so that every persons are equal</td>\n      <td>We should end affirmative action</td>\n      <td>1</td>\n      <td>Affirmative action reduces quality</td>\n      <td>We should end affirmative action</td>\n      <td>1</td>\n    </tr>\n    <tr>\n      <th>3456</th>\n      <td>arg_15_225</td>\n      <td>kp_15_7</td>\n      <td>0</td>\n      <td>we should select people based on their merit o...</td>\n      <td>We should end affirmative action</td>\n      <td>1</td>\n      <td>Affirmative action reduces quality</td>\n      <td>We should end affirmative action</td>\n      <td>1</td>\n    </tr>\n    <tr>\n      <th>3457</th>\n      <td>arg_15_226</td>\n      <td>kp_15_7</td>\n      <td>0</td>\n      <td>yes, you should have to work your way to the t...</td>\n      <td>We should end affirmative action</td>\n      <td>1</td>\n      <td>Affirmative action reduces quality</td>\n      <td>We should end affirmative action</td>\n      <td>1</td>\n    </tr>\n  </tbody>\n</table>\n<p>3458 rows × 9 columns</p>\n</div>"
     },
     "execution_count": 32,
     "metadata": {},
     "output_type": "execute_result"
    }
   ],
   "source": [
    "full_dataset=merged_dataset.merge(df_keypoints, left_on=\"key_point_id\", right_on=\"key_point_id\")\n",
    "full_dataset"
   ],
   "metadata": {
    "collapsed": false,
    "pycharm": {
     "name": "#%%\n"
    }
   }
  },
  {
   "cell_type": "code",
   "execution_count": 33,
   "outputs": [
    {
     "data": {
      "text/plain": "0       A real education is about giving students the ...\n1       children express themselves through the clothe...\n2       children should be able to dress as they wish,...\n3        children should be allowed to express themselves\n4       freedom of expression extends to the right to ...\n                              ...                        \n3453    we should end affirmative action because stude...\n3454    we should end affirmative action because this ...\n3455     we should end it so that every persons are equal\n3456    we should select people based on their merit o...\n3457    yes, you should have to work your way to the t...\nName: argument, Length: 3458, dtype: object"
     },
     "execution_count": 33,
     "metadata": {},
     "output_type": "execute_result"
    }
   ],
   "source": [
    "arguments = full_dataset[\"argument\"]\n",
    "arguments"
   ],
   "metadata": {
    "collapsed": false,
    "pycharm": {
     "name": "#%%\n"
    }
   }
  },
  {
   "cell_type": "code",
   "execution_count": 34,
   "outputs": [
    {
     "data": {
      "text/plain": "      arg_id key_point_id  label  \\\n0  arg_4_121       kp_4_5      1   \n1  arg_4_122       kp_4_5      1   \n2  arg_4_123       kp_4_5      1   \n3  arg_4_124       kp_4_5      1   \n4  arg_4_126       kp_4_5      1   \n5  arg_4_129       kp_4_5      1   \n6  arg_4_130       kp_4_5      0   \n7  arg_4_131       kp_4_5      1   \n8  arg_4_132       kp_4_5      1   \n9  arg_4_133       kp_4_5      0   \n\n                                            argument  \\\n0  A real education is about giving students the ...   \n1  children express themselves through the clothe...   \n2  children should be able to dress as they wish,...   \n3   children should be allowed to express themselves   \n4  freedom of expression extends to the right to ...   \n5  it is not fair to not allow children to expres...   \n6  Kids having to wear school uniforms is not fai...   \n7  kids should be able to express them selves wit...   \n8  kids should be allowed to wear what is comfort...   \n9  making kids wear uniforms that are all the sam...   \n\n                                       topic_x  stance_x  \\\n0  We should abandon the use of school uniform         1   \n1  We should abandon the use of school uniform         1   \n2  We should abandon the use of school uniform         1   \n3  We should abandon the use of school uniform         1   \n4  We should abandon the use of school uniform         1   \n5  We should abandon the use of school uniform         1   \n6  We should abandon the use of school uniform         1   \n7  We should abandon the use of school uniform         1   \n8  We should abandon the use of school uniform         1   \n9  We should abandon the use of school uniform         1   \n\n                                           key_point  \\\n0  School uniform is harming the student's self e...   \n1  School uniform is harming the student's self e...   \n2  School uniform is harming the student's self e...   \n3  School uniform is harming the student's self e...   \n4  School uniform is harming the student's self e...   \n5  School uniform is harming the student's self e...   \n6  School uniform is harming the student's self e...   \n7  School uniform is harming the student's self e...   \n8  School uniform is harming the student's self e...   \n9  School uniform is harming the student's self e...   \n\n                                       topic_y  stance_y  \n0  We should abandon the use of school uniform         1  \n1  We should abandon the use of school uniform         1  \n2  We should abandon the use of school uniform         1  \n3  We should abandon the use of school uniform         1  \n4  We should abandon the use of school uniform         1  \n5  We should abandon the use of school uniform         1  \n6  We should abandon the use of school uniform         1  \n7  We should abandon the use of school uniform         1  \n8  We should abandon the use of school uniform         1  \n9  We should abandon the use of school uniform         1  ",
      "text/html": "<div>\n<style scoped>\n    .dataframe tbody tr th:only-of-type {\n        vertical-align: middle;\n    }\n\n    .dataframe tbody tr th {\n        vertical-align: top;\n    }\n\n    .dataframe thead th {\n        text-align: right;\n    }\n</style>\n<table border=\"1\" class=\"dataframe\">\n  <thead>\n    <tr style=\"text-align: right;\">\n      <th></th>\n      <th>arg_id</th>\n      <th>key_point_id</th>\n      <th>label</th>\n      <th>argument</th>\n      <th>topic_x</th>\n      <th>stance_x</th>\n      <th>key_point</th>\n      <th>topic_y</th>\n      <th>stance_y</th>\n    </tr>\n  </thead>\n  <tbody>\n    <tr>\n      <th>0</th>\n      <td>arg_4_121</td>\n      <td>kp_4_5</td>\n      <td>1</td>\n      <td>A real education is about giving students the ...</td>\n      <td>We should abandon the use of school uniform</td>\n      <td>1</td>\n      <td>School uniform is harming the student's self e...</td>\n      <td>We should abandon the use of school uniform</td>\n      <td>1</td>\n    </tr>\n    <tr>\n      <th>1</th>\n      <td>arg_4_122</td>\n      <td>kp_4_5</td>\n      <td>1</td>\n      <td>children express themselves through the clothe...</td>\n      <td>We should abandon the use of school uniform</td>\n      <td>1</td>\n      <td>School uniform is harming the student's self e...</td>\n      <td>We should abandon the use of school uniform</td>\n      <td>1</td>\n    </tr>\n    <tr>\n      <th>2</th>\n      <td>arg_4_123</td>\n      <td>kp_4_5</td>\n      <td>1</td>\n      <td>children should be able to dress as they wish,...</td>\n      <td>We should abandon the use of school uniform</td>\n      <td>1</td>\n      <td>School uniform is harming the student's self e...</td>\n      <td>We should abandon the use of school uniform</td>\n      <td>1</td>\n    </tr>\n    <tr>\n      <th>3</th>\n      <td>arg_4_124</td>\n      <td>kp_4_5</td>\n      <td>1</td>\n      <td>children should be allowed to express themselves</td>\n      <td>We should abandon the use of school uniform</td>\n      <td>1</td>\n      <td>School uniform is harming the student's self e...</td>\n      <td>We should abandon the use of school uniform</td>\n      <td>1</td>\n    </tr>\n    <tr>\n      <th>4</th>\n      <td>arg_4_126</td>\n      <td>kp_4_5</td>\n      <td>1</td>\n      <td>freedom of expression extends to the right to ...</td>\n      <td>We should abandon the use of school uniform</td>\n      <td>1</td>\n      <td>School uniform is harming the student's self e...</td>\n      <td>We should abandon the use of school uniform</td>\n      <td>1</td>\n    </tr>\n    <tr>\n      <th>5</th>\n      <td>arg_4_129</td>\n      <td>kp_4_5</td>\n      <td>1</td>\n      <td>it is not fair to not allow children to expres...</td>\n      <td>We should abandon the use of school uniform</td>\n      <td>1</td>\n      <td>School uniform is harming the student's self e...</td>\n      <td>We should abandon the use of school uniform</td>\n      <td>1</td>\n    </tr>\n    <tr>\n      <th>6</th>\n      <td>arg_4_130</td>\n      <td>kp_4_5</td>\n      <td>0</td>\n      <td>Kids having to wear school uniforms is not fai...</td>\n      <td>We should abandon the use of school uniform</td>\n      <td>1</td>\n      <td>School uniform is harming the student's self e...</td>\n      <td>We should abandon the use of school uniform</td>\n      <td>1</td>\n    </tr>\n    <tr>\n      <th>7</th>\n      <td>arg_4_131</td>\n      <td>kp_4_5</td>\n      <td>1</td>\n      <td>kids should be able to express them selves wit...</td>\n      <td>We should abandon the use of school uniform</td>\n      <td>1</td>\n      <td>School uniform is harming the student's self e...</td>\n      <td>We should abandon the use of school uniform</td>\n      <td>1</td>\n    </tr>\n    <tr>\n      <th>8</th>\n      <td>arg_4_132</td>\n      <td>kp_4_5</td>\n      <td>1</td>\n      <td>kids should be allowed to wear what is comfort...</td>\n      <td>We should abandon the use of school uniform</td>\n      <td>1</td>\n      <td>School uniform is harming the student's self e...</td>\n      <td>We should abandon the use of school uniform</td>\n      <td>1</td>\n    </tr>\n    <tr>\n      <th>9</th>\n      <td>arg_4_133</td>\n      <td>kp_4_5</td>\n      <td>0</td>\n      <td>making kids wear uniforms that are all the sam...</td>\n      <td>We should abandon the use of school uniform</td>\n      <td>1</td>\n      <td>School uniform is harming the student's self e...</td>\n      <td>We should abandon the use of school uniform</td>\n      <td>1</td>\n    </tr>\n  </tbody>\n</table>\n</div>"
     },
     "execution_count": 34,
     "metadata": {},
     "output_type": "execute_result"
    }
   ],
   "source": [
    "small = full_dataset[:10]\n",
    "small"
   ],
   "metadata": {
    "collapsed": false,
    "pycharm": {
     "name": "#%%\n"
    }
   }
  },
  {
   "cell_type": "code",
   "execution_count": 35,
   "outputs": [
    {
     "data": {
      "text/plain": "array([[-0.22546919,  0.42217124,  1.0890179 , ..., -0.05868514,\n        -0.71161807, -0.01766074],\n       [ 0.05293709,  0.05693178,  0.6169441 , ..., -0.05868514,\n        -0.71161807, -0.01766074],\n       [ 0.3017908 , -0.2542112 ,  0.69037217, ..., -0.05868514,\n        -0.71161807, -0.01766074],\n       ...,\n       [-0.00661286,  0.23289303,  1.4282135 , ..., -0.32241133,\n        -0.45623422, -0.1330979 ],\n       [-0.11743882,  0.7670165 ,  0.04623953, ..., -0.32241133,\n        -0.45623422, -0.1330979 ],\n       [-0.02283244, -0.18045346,  1.7104937 , ..., -0.32241133,\n        -0.45623422, -0.1330979 ]], dtype=float32)"
     },
     "execution_count": 35,
     "metadata": {},
     "output_type": "execute_result"
    }
   ],
   "source": [
    "test1=[]\n",
    "for index,el in full_dataset.iterrows():\n",
    "    row = [sbert_model.encode(el[\"argument\"]), sbert_model.encode(el[\"key_point\"])]\n",
    "    np_row = np.array(row)\n",
    "    row = np_row.flatten()\n",
    "    test1.append(row)\n",
    "    #print(el[\"argument\"], el[\"key_point\"], el[\"label\"p\n",
    "\n",
    "np_test_training = np.array(test1)\n",
    "np_test_training"
   ],
   "metadata": {
    "collapsed": false,
    "pycharm": {
     "name": "#%%\n"
    }
   }
  },
  {
   "cell_type": "code",
   "execution_count": 36,
   "outputs": [],
   "source": [
    "# np_labels.shape\n"
   ],
   "metadata": {
    "collapsed": false,
    "pycharm": {
     "name": "#%%\n"
    }
   }
  },
  {
   "cell_type": "code",
   "execution_count": 37,
   "outputs": [],
   "source": [
    "trainingdata = []\n",
    "labels = []\n",
    "for index,el in full_dataset.iterrows():\n",
    "    trainingdata.append([sbert_model.encode(el[\"argument\"]), sbert_model.encode(el[\"key_point\"])])\n",
    "    labels.append(el[\"label\"])\n",
    "    #print(el[\"argument\"], el[\"key_point\"], el[\"label\"p\n",
    "\n",
    "np_trainingdata = np.array(trainingdata)\n",
    "np_labels = np.array(labels)\n",
    "# print(type(np_trainingdata))\n",
    "# print(np_trainingdata.shape)\n",
    "# print(labels)\n"
   ],
   "metadata": {
    "collapsed": false,
    "pycharm": {
     "name": "#%%\n"
    }
   }
  },
  {
   "cell_type": "code",
   "execution_count": 38,
   "outputs": [
    {
     "data": {
      "text/plain": "(3458, 2, 768)"
     },
     "execution_count": 38,
     "metadata": {},
     "output_type": "execute_result"
    }
   ],
   "source": [
    "np_trainingdata.shape"
   ],
   "metadata": {
    "collapsed": false,
    "pycharm": {
     "name": "#%%\n"
    }
   }
  },
  {
   "cell_type": "code",
   "execution_count": 39,
   "outputs": [
    {
     "data": {
      "text/plain": "array([[ 0.05293709,  0.05693178,  0.6169441 , ...,  0.31999168,\n        -0.88885194,  0.0495356 ],\n       [ 0.18360981,  0.49867436,  0.332739  , ..., -0.05868514,\n        -0.71161807, -0.01766074]], dtype=float32)"
     },
     "execution_count": 39,
     "metadata": {},
     "output_type": "execute_result"
    }
   ],
   "source": [
    "np_trainingdata[1]"
   ],
   "metadata": {
    "collapsed": false,
    "pycharm": {
     "name": "#%%\n"
    }
   }
  },
  {
   "cell_type": "code",
   "execution_count": 40,
   "outputs": [],
   "source": [
    "from tensorflow import keras\n",
    "from tensorflow.keras.layers import Dense\n",
    "from keras.utils.vis_utils import plot_model"
   ],
   "metadata": {
    "collapsed": false,
    "pycharm": {
     "name": "#%%\n"
    }
   }
  },
  {
   "cell_type": "code",
   "execution_count": 41,
   "outputs": [],
   "source": [
    "model = keras.Sequential()"
   ],
   "metadata": {
    "collapsed": false,
    "pycharm": {
     "name": "#%%\n"
    }
   }
  },
  {
   "cell_type": "code",
   "execution_count": 42,
   "outputs": [],
   "source": [
    "# model.add(Dense(64, activation='softmax', input_shape=(2,768)))\n",
    "model.add(Dense(768, activation='softmax', input_dim=(1536)))"
   ],
   "metadata": {
    "collapsed": false,
    "pycharm": {
     "name": "#%%\n"
    }
   }
  },
  {
   "cell_type": "markdown",
   "source": [],
   "metadata": {
    "collapsed": false
   }
  },
  {
   "cell_type": "code",
   "execution_count": 43,
   "outputs": [],
   "source": [
    "model.add(Dense(1, activation='linear'))"
   ],
   "metadata": {
    "collapsed": false,
    "pycharm": {
     "name": "#%%\n"
    }
   }
  },
  {
   "cell_type": "code",
   "execution_count": 44,
   "outputs": [],
   "source": [
    "model.compile(optimizer='sgd', loss='mse')"
   ],
   "metadata": {
    "collapsed": false,
    "pycharm": {
     "name": "#%%\n"
    }
   }
  },
  {
   "cell_type": "code",
   "execution_count": 45,
   "outputs": [
    {
     "name": "stdout",
     "output_type": "stream",
     "text": [
      "Epoch 1/10\n",
      "3458/3458 [==============================] - 17s 5ms/step - loss: 0.1700\n",
      "Epoch 2/10\n",
      "3458/3458 [==============================] - 17s 5ms/step - loss: 0.1693\n",
      "Epoch 3/10\n",
      "3458/3458 [==============================] - 17s 5ms/step - loss: 0.1690\n",
      "Epoch 4/10\n",
      "3458/3458 [==============================] - 18s 5ms/step - loss: 0.1687\n",
      "Epoch 5/10\n",
      "3458/3458 [==============================] - 17s 5ms/step - loss: 0.1678\n",
      "Epoch 6/10\n",
      "3458/3458 [==============================] - 17s 5ms/step - loss: 0.1644\n",
      "Epoch 7/10\n",
      "3458/3458 [==============================] - 17s 5ms/step - loss: 0.1440\n",
      "Epoch 8/10\n",
      "3458/3458 [==============================] - 17s 5ms/step - loss: 0.1275\n",
      "Epoch 9/10\n",
      "3458/3458 [==============================] - 18s 5ms/step - loss: 0.1199\n",
      "Epoch 10/10\n",
      "3458/3458 [==============================] - 18s 5ms/step - loss: 0.1164\n"
     ]
    },
    {
     "data": {
      "text/plain": "<keras.callbacks.History at 0x2463fc813a0>"
     },
     "execution_count": 45,
     "metadata": {},
     "output_type": "execute_result"
    }
   ],
   "source": [
    "model.fit(np_test_training, np_labels, epochs=10, verbose=1, batch_size = 1)"
   ],
   "metadata": {
    "collapsed": false,
    "pycharm": {
     "name": "#%%\n"
    }
   }
  },
  {
   "cell_type": "code",
   "execution_count": 46,
   "outputs": [
    {
     "name": "stdout",
     "output_type": "stream",
     "text": [
      "Model: \"sequential\"\n",
      "_________________________________________________________________\n",
      " Layer (type)                Output Shape              Param #   \n",
      "=================================================================\n",
      " dense (Dense)               (None, 768)               1180416   \n",
      "                                                                 \n",
      " dense_1 (Dense)             (None, 1)                 769       \n",
      "                                                                 \n",
      "=================================================================\n",
      "Total params: 1,181,185\n",
      "Trainable params: 1,181,185\n",
      "Non-trainable params: 0\n",
      "_________________________________________________________________\n"
     ]
    }
   ],
   "source": [
    "model.summary()"
   ],
   "metadata": {
    "collapsed": false,
    "pycharm": {
     "name": "#%%\n"
    }
   }
  },
  {
   "cell_type": "code",
   "execution_count": 47,
   "outputs": [
    {
     "name": "stdout",
     "output_type": "stream",
     "text": [
      "Model: \"sequential\"\n",
      "_________________________________________________________________\n",
      " Layer (type)                Output Shape              Param #   \n",
      "=================================================================\n",
      " dense (Dense)               (None, 768)               1180416   \n",
      "                                                                 \n",
      " dense_1 (Dense)             (None, 1)                 769       \n",
      "                                                                 \n",
      "=================================================================\n",
      "Total params: 1,181,185\n",
      "Trainable params: 1,181,185\n",
      "Non-trainable params: 0\n",
      "_________________________________________________________________\n"
     ]
    }
   ],
   "source": [
    "model.summary()"
   ],
   "metadata": {
    "collapsed": false,
    "pycharm": {
     "name": "#%%\n"
    }
   }
  },
  {
   "cell_type": "code",
   "execution_count": 48,
   "outputs": [
    {
     "name": "stdout",
     "output_type": "stream",
     "text": [
      "Model: \"sequential\"\n",
      "_________________________________________________________________\n",
      " Layer (type)                Output Shape              Param #   \n",
      "=================================================================\n",
      " dense (Dense)               (None, 768)               1180416   \n",
      "                                                                 \n",
      " dense_1 (Dense)             (None, 1)                 769       \n",
      "                                                                 \n",
      "=================================================================\n",
      "Total params: 1,181,185\n",
      "Trainable params: 1,181,185\n",
      "Non-trainable params: 0\n",
      "_________________________________________________________________\n"
     ]
    }
   ],
   "source": [
    "model.summary()"
   ],
   "metadata": {
    "collapsed": false,
    "pycharm": {
     "name": "#%%\n"
    }
   }
  },
  {
   "cell_type": "code",
   "execution_count": 49,
   "outputs": [
    {
     "data": {
      "text/plain": "1"
     },
     "execution_count": 49,
     "metadata": {},
     "output_type": "execute_result"
    }
   ],
   "source": [
    "test = np_trainingdata[0:2]\n",
    "test\n",
    "test_label = np_labels[0]\n",
    "test_label\n"
   ],
   "metadata": {
    "collapsed": false,
    "pycharm": {
     "name": "#%%\n"
    }
   }
  },
  {
   "cell_type": "code",
   "execution_count": 50,
   "outputs": [
    {
     "data": {
      "text/plain": "      arg_id key_point_id  label  \\\n0  arg_4_121       kp_4_5      1   \n1  arg_4_122       kp_4_5      1   \n\n                                            argument  \\\n0  A real education is about giving students the ...   \n1  children express themselves through the clothe...   \n\n                                       topic_x  stance_x  \\\n0  We should abandon the use of school uniform         1   \n1  We should abandon the use of school uniform         1   \n\n                                           key_point  \\\n0  School uniform is harming the student's self e...   \n1  School uniform is harming the student's self e...   \n\n                                       topic_y  stance_y  \n0  We should abandon the use of school uniform         1  \n1  We should abandon the use of school uniform         1  ",
      "text/html": "<div>\n<style scoped>\n    .dataframe tbody tr th:only-of-type {\n        vertical-align: middle;\n    }\n\n    .dataframe tbody tr th {\n        vertical-align: top;\n    }\n\n    .dataframe thead th {\n        text-align: right;\n    }\n</style>\n<table border=\"1\" class=\"dataframe\">\n  <thead>\n    <tr style=\"text-align: right;\">\n      <th></th>\n      <th>arg_id</th>\n      <th>key_point_id</th>\n      <th>label</th>\n      <th>argument</th>\n      <th>topic_x</th>\n      <th>stance_x</th>\n      <th>key_point</th>\n      <th>topic_y</th>\n      <th>stance_y</th>\n    </tr>\n  </thead>\n  <tbody>\n    <tr>\n      <th>0</th>\n      <td>arg_4_121</td>\n      <td>kp_4_5</td>\n      <td>1</td>\n      <td>A real education is about giving students the ...</td>\n      <td>We should abandon the use of school uniform</td>\n      <td>1</td>\n      <td>School uniform is harming the student's self e...</td>\n      <td>We should abandon the use of school uniform</td>\n      <td>1</td>\n    </tr>\n    <tr>\n      <th>1</th>\n      <td>arg_4_122</td>\n      <td>kp_4_5</td>\n      <td>1</td>\n      <td>children express themselves through the clothe...</td>\n      <td>We should abandon the use of school uniform</td>\n      <td>1</td>\n      <td>School uniform is harming the student's self e...</td>\n      <td>We should abandon the use of school uniform</td>\n      <td>1</td>\n    </tr>\n  </tbody>\n</table>\n</div>"
     },
     "execution_count": 50,
     "metadata": {},
     "output_type": "execute_result"
    }
   ],
   "source": [
    "full_dataset.iloc[0:2]"
   ],
   "metadata": {
    "collapsed": false,
    "pycharm": {
     "name": "#%%\n"
    }
   }
  },
  {
   "cell_type": "code",
   "execution_count": 51,
   "outputs": [
    {
     "name": "stdout",
     "output_type": "stream",
     "text": [
      "(2, 2, 768)\n",
      "[[[-0.22546919  0.42217124  1.0890179  ... -0.03572995 -1.1686127\n",
      "    0.06441975]\n",
      "  [ 0.18360981  0.49867436  0.332739   ... -0.05868514 -0.71161807\n",
      "   -0.01766074]]\n",
      "\n",
      " [[ 0.05293709  0.05693178  0.6169441  ...  0.31999168 -0.88885194\n",
      "    0.0495356 ]\n",
      "  [ 0.18360981  0.49867436  0.332739   ... -0.05868514 -0.71161807\n",
      "   -0.01766074]]]\n"
     ]
    }
   ],
   "source": [
    "print(test.shape)\n",
    "print(test)"
   ],
   "metadata": {
    "collapsed": false,
    "pycharm": {
     "name": "#%%\n"
    }
   }
  },
  {
   "cell_type": "code",
   "execution_count": 52,
   "outputs": [
    {
     "ename": "ValueError",
     "evalue": "in user code:\n\n    File \"C:\\Users\\hanne\\Anaconda3\\envs\\ExpAI\\lib\\site-packages\\keras\\engine\\training.py\", line 1621, in predict_function  *\n        return step_function(self, iterator)\n    File \"C:\\Users\\hanne\\Anaconda3\\envs\\ExpAI\\lib\\site-packages\\keras\\engine\\training.py\", line 1611, in step_function  **\n        outputs = model.distribute_strategy.run(run_step, args=(data,))\n    File \"C:\\Users\\hanne\\Anaconda3\\envs\\ExpAI\\lib\\site-packages\\keras\\engine\\training.py\", line 1604, in run_step  **\n        outputs = model.predict_step(data)\n    File \"C:\\Users\\hanne\\Anaconda3\\envs\\ExpAI\\lib\\site-packages\\keras\\engine\\training.py\", line 1572, in predict_step\n        return self(x, training=False)\n    File \"C:\\Users\\hanne\\Anaconda3\\envs\\ExpAI\\lib\\site-packages\\keras\\utils\\traceback_utils.py\", line 67, in error_handler\n        raise e.with_traceback(filtered_tb) from None\n    File \"C:\\Users\\hanne\\Anaconda3\\envs\\ExpAI\\lib\\site-packages\\keras\\engine\\input_spec.py\", line 263, in assert_input_compatibility\n        raise ValueError(f'Input {input_index} of layer \"{layer_name}\" is '\n\n    ValueError: Input 0 of layer \"sequential\" is incompatible with the layer: expected shape=(None, 1536), found shape=(None, 768)\n",
     "output_type": "error",
     "traceback": [
      "\u001B[1;31m---------------------------------------------------------------------------\u001B[0m",
      "\u001B[1;31mValueError\u001B[0m                                Traceback (most recent call last)",
      "\u001B[1;32m~\\AppData\\Local\\Temp/ipykernel_2360/754413145.py\u001B[0m in \u001B[0;36m<module>\u001B[1;34m\u001B[0m\n\u001B[1;32m----> 1\u001B[1;33m \u001B[0mmodel\u001B[0m\u001B[1;33m.\u001B[0m\u001B[0mpredict\u001B[0m\u001B[1;33m(\u001B[0m\u001B[0mtest\u001B[0m\u001B[1;33m[\u001B[0m\u001B[1;36m1\u001B[0m\u001B[1;33m]\u001B[0m\u001B[1;33m)\u001B[0m\u001B[1;33m\u001B[0m\u001B[1;33m\u001B[0m\u001B[0m\n\u001B[0m",
      "\u001B[1;32m~\\Anaconda3\\envs\\ExpAI\\lib\\site-packages\\keras\\utils\\traceback_utils.py\u001B[0m in \u001B[0;36merror_handler\u001B[1;34m(*args, **kwargs)\u001B[0m\n\u001B[0;32m     65\u001B[0m     \u001B[1;32mexcept\u001B[0m \u001B[0mException\u001B[0m \u001B[1;32mas\u001B[0m \u001B[0me\u001B[0m\u001B[1;33m:\u001B[0m  \u001B[1;31m# pylint: disable=broad-except\u001B[0m\u001B[1;33m\u001B[0m\u001B[1;33m\u001B[0m\u001B[0m\n\u001B[0;32m     66\u001B[0m       \u001B[0mfiltered_tb\u001B[0m \u001B[1;33m=\u001B[0m \u001B[0m_process_traceback_frames\u001B[0m\u001B[1;33m(\u001B[0m\u001B[0me\u001B[0m\u001B[1;33m.\u001B[0m\u001B[0m__traceback__\u001B[0m\u001B[1;33m)\u001B[0m\u001B[1;33m\u001B[0m\u001B[1;33m\u001B[0m\u001B[0m\n\u001B[1;32m---> 67\u001B[1;33m       \u001B[1;32mraise\u001B[0m \u001B[0me\u001B[0m\u001B[1;33m.\u001B[0m\u001B[0mwith_traceback\u001B[0m\u001B[1;33m(\u001B[0m\u001B[0mfiltered_tb\u001B[0m\u001B[1;33m)\u001B[0m \u001B[1;32mfrom\u001B[0m \u001B[1;32mNone\u001B[0m\u001B[1;33m\u001B[0m\u001B[1;33m\u001B[0m\u001B[0m\n\u001B[0m\u001B[0;32m     68\u001B[0m     \u001B[1;32mfinally\u001B[0m\u001B[1;33m:\u001B[0m\u001B[1;33m\u001B[0m\u001B[1;33m\u001B[0m\u001B[0m\n\u001B[0;32m     69\u001B[0m       \u001B[1;32mdel\u001B[0m \u001B[0mfiltered_tb\u001B[0m\u001B[1;33m\u001B[0m\u001B[1;33m\u001B[0m\u001B[0m\n",
      "\u001B[1;32m~\\Anaconda3\\envs\\ExpAI\\lib\\site-packages\\tensorflow\\python\\framework\\func_graph.py\u001B[0m in \u001B[0;36mautograph_handler\u001B[1;34m(*args, **kwargs)\u001B[0m\n\u001B[0;32m   1127\u001B[0m           \u001B[1;32mexcept\u001B[0m \u001B[0mException\u001B[0m \u001B[1;32mas\u001B[0m \u001B[0me\u001B[0m\u001B[1;33m:\u001B[0m  \u001B[1;31m# pylint:disable=broad-except\u001B[0m\u001B[1;33m\u001B[0m\u001B[1;33m\u001B[0m\u001B[0m\n\u001B[0;32m   1128\u001B[0m             \u001B[1;32mif\u001B[0m \u001B[0mhasattr\u001B[0m\u001B[1;33m(\u001B[0m\u001B[0me\u001B[0m\u001B[1;33m,\u001B[0m \u001B[1;34m\"ag_error_metadata\"\u001B[0m\u001B[1;33m)\u001B[0m\u001B[1;33m:\u001B[0m\u001B[1;33m\u001B[0m\u001B[1;33m\u001B[0m\u001B[0m\n\u001B[1;32m-> 1129\u001B[1;33m               \u001B[1;32mraise\u001B[0m \u001B[0me\u001B[0m\u001B[1;33m.\u001B[0m\u001B[0mag_error_metadata\u001B[0m\u001B[1;33m.\u001B[0m\u001B[0mto_exception\u001B[0m\u001B[1;33m(\u001B[0m\u001B[0me\u001B[0m\u001B[1;33m)\u001B[0m\u001B[1;33m\u001B[0m\u001B[1;33m\u001B[0m\u001B[0m\n\u001B[0m\u001B[0;32m   1130\u001B[0m             \u001B[1;32melse\u001B[0m\u001B[1;33m:\u001B[0m\u001B[1;33m\u001B[0m\u001B[1;33m\u001B[0m\u001B[0m\n\u001B[0;32m   1131\u001B[0m               \u001B[1;32mraise\u001B[0m\u001B[1;33m\u001B[0m\u001B[1;33m\u001B[0m\u001B[0m\n",
      "\u001B[1;31mValueError\u001B[0m: in user code:\n\n    File \"C:\\Users\\hanne\\Anaconda3\\envs\\ExpAI\\lib\\site-packages\\keras\\engine\\training.py\", line 1621, in predict_function  *\n        return step_function(self, iterator)\n    File \"C:\\Users\\hanne\\Anaconda3\\envs\\ExpAI\\lib\\site-packages\\keras\\engine\\training.py\", line 1611, in step_function  **\n        outputs = model.distribute_strategy.run(run_step, args=(data,))\n    File \"C:\\Users\\hanne\\Anaconda3\\envs\\ExpAI\\lib\\site-packages\\keras\\engine\\training.py\", line 1604, in run_step  **\n        outputs = model.predict_step(data)\n    File \"C:\\Users\\hanne\\Anaconda3\\envs\\ExpAI\\lib\\site-packages\\keras\\engine\\training.py\", line 1572, in predict_step\n        return self(x, training=False)\n    File \"C:\\Users\\hanne\\Anaconda3\\envs\\ExpAI\\lib\\site-packages\\keras\\utils\\traceback_utils.py\", line 67, in error_handler\n        raise e.with_traceback(filtered_tb) from None\n    File \"C:\\Users\\hanne\\Anaconda3\\envs\\ExpAI\\lib\\site-packages\\keras\\engine\\input_spec.py\", line 263, in assert_input_compatibility\n        raise ValueError(f'Input {input_index} of layer \"{layer_name}\" is '\n\n    ValueError: Input 0 of layer \"sequential\" is incompatible with the layer: expected shape=(None, 1536), found shape=(None, 768)\n"
     ]
    }
   ],
   "source": [
    "# model.predict(test[1])"
   ],
   "metadata": {
    "collapsed": false,
    "pycharm": {
     "name": "#%%\n"
    }
   }
  },
  {
   "cell_type": "code",
   "execution_count": 53,
   "outputs": [
    {
     "data": {
      "text/plain": "array([[-0.22546919,  0.42217124,  1.0890179 , ..., -0.05868514,\n        -0.71161807, -0.01766074],\n       [ 0.05293709,  0.05693178,  0.6169441 , ..., -0.05868514,\n        -0.71161807, -0.01766074],\n       [ 0.3017908 , -0.2542112 ,  0.69037217, ..., -0.05868514,\n        -0.71161807, -0.01766074],\n       ...,\n       [ 0.36468557, -0.5400683 ,  0.9855318 , ..., -0.05868514,\n        -0.71161807, -0.01766074],\n       [ 0.12908995, -0.2196983 ,  1.0085294 , ..., -0.05868514,\n        -0.71161807, -0.01766074],\n       [ 0.22413963, -0.05974222,  0.3504017 , ..., -0.05868514,\n        -0.71161807, -0.01766074]], dtype=float32)"
     },
     "execution_count": 53,
     "metadata": {},
     "output_type": "execute_result"
    }
   ],
   "source": [
    "test = np_test_training[0:10]\n",
    "test\n",
    "\n"
   ],
   "metadata": {
    "collapsed": false,
    "pycharm": {
     "name": "#%%\n"
    }
   }
  },
  {
   "cell_type": "code",
   "execution_count": 58,
   "outputs": [
    {
     "data": {
      "text/plain": "array([[0.2954883 ],\n       [0.30174106],\n       [0.2659843 ],\n       ...,\n       [0.03057504],\n       [0.06613782],\n       [0.0293678 ]], dtype=float32)"
     },
     "execution_count": 58,
     "metadata": {},
     "output_type": "execute_result"
    }
   ],
   "source": [
    "pred = model.predict(np_test_training)\n",
    "\n",
    "pred"
   ],
   "metadata": {
    "collapsed": false,
    "pycharm": {
     "name": "#%%\n"
    }
   }
  },
  {
   "cell_type": "code",
   "execution_count": 60,
   "outputs": [],
   "source": [
    "pred = pred.flatten()"
   ],
   "metadata": {
    "collapsed": false,
    "pycharm": {
     "name": "#%%\n"
    }
   }
  },
  {
   "cell_type": "code",
   "execution_count": 61,
   "outputs": [
    {
     "data": {
      "text/plain": "numpy.ndarray"
     },
     "execution_count": 61,
     "metadata": {},
     "output_type": "execute_result"
    }
   ],
   "source": [
    "type(pred)"
   ],
   "metadata": {
    "collapsed": false,
    "pycharm": {
     "name": "#%%\n"
    }
   }
  },
  {
   "cell_type": "code",
   "execution_count": 62,
   "outputs": [
    {
     "data": {
      "text/plain": "(3458,)"
     },
     "execution_count": 62,
     "metadata": {},
     "output_type": "execute_result"
    }
   ],
   "source": [
    "np_labels.shape"
   ],
   "metadata": {
    "collapsed": false,
    "pycharm": {
     "name": "#%%\n"
    }
   }
  },
  {
   "cell_type": "code",
   "execution_count": 62,
   "outputs": [],
   "source": [],
   "metadata": {
    "collapsed": false,
    "pycharm": {
     "name": "#%%\n"
    }
   }
  },
  {
   "cell_type": "code",
   "execution_count": 63,
   "outputs": [
    {
     "data": {
      "text/plain": "      predicted  true\n0      0.295488   1.0\n1      0.301741   1.0\n2      0.265984   1.0\n3      0.269281   1.0\n4      0.268448   1.0\n...         ...   ...\n3453   0.145447   1.0\n3454   0.074076   0.0\n3455   0.030575   0.0\n3456   0.066138   0.0\n3457   0.029368   0.0\n\n[3458 rows x 2 columns]",
      "text/html": "<div>\n<style scoped>\n    .dataframe tbody tr th:only-of-type {\n        vertical-align: middle;\n    }\n\n    .dataframe tbody tr th {\n        vertical-align: top;\n    }\n\n    .dataframe thead th {\n        text-align: right;\n    }\n</style>\n<table border=\"1\" class=\"dataframe\">\n  <thead>\n    <tr style=\"text-align: right;\">\n      <th></th>\n      <th>predicted</th>\n      <th>true</th>\n    </tr>\n  </thead>\n  <tbody>\n    <tr>\n      <th>0</th>\n      <td>0.295488</td>\n      <td>1.0</td>\n    </tr>\n    <tr>\n      <th>1</th>\n      <td>0.301741</td>\n      <td>1.0</td>\n    </tr>\n    <tr>\n      <th>2</th>\n      <td>0.265984</td>\n      <td>1.0</td>\n    </tr>\n    <tr>\n      <th>3</th>\n      <td>0.269281</td>\n      <td>1.0</td>\n    </tr>\n    <tr>\n      <th>4</th>\n      <td>0.268448</td>\n      <td>1.0</td>\n    </tr>\n    <tr>\n      <th>...</th>\n      <td>...</td>\n      <td>...</td>\n    </tr>\n    <tr>\n      <th>3453</th>\n      <td>0.145447</td>\n      <td>1.0</td>\n    </tr>\n    <tr>\n      <th>3454</th>\n      <td>0.074076</td>\n      <td>0.0</td>\n    </tr>\n    <tr>\n      <th>3455</th>\n      <td>0.030575</td>\n      <td>0.0</td>\n    </tr>\n    <tr>\n      <th>3456</th>\n      <td>0.066138</td>\n      <td>0.0</td>\n    </tr>\n    <tr>\n      <th>3457</th>\n      <td>0.029368</td>\n      <td>0.0</td>\n    </tr>\n  </tbody>\n</table>\n<p>3458 rows × 2 columns</p>\n</div>"
     },
     "execution_count": 63,
     "metadata": {},
     "output_type": "execute_result"
    }
   ],
   "source": [
    "new = np.vstack((pred, np_labels))\n",
    "new_df = pd.DataFrame(new)\n",
    "new_df = new_df.transpose()\n",
    "new_df.columns = [\"predicted\", \"true\"]\n",
    "new_df"
   ],
   "metadata": {
    "collapsed": false,
    "pycharm": {
     "name": "#%%\n"
    }
   }
  },
  {
   "cell_type": "code",
   "execution_count": 64,
   "outputs": [],
   "source": [
    "new_df['predicted_label'] = np.where(new_df['predicted'] >= 0.5, 1, 0)"
   ],
   "metadata": {
    "collapsed": false,
    "pycharm": {
     "name": "#%%\n"
    }
   }
  },
  {
   "cell_type": "code",
   "execution_count": 65,
   "outputs": [],
   "source": [
    "new_df['match'] = np.where(new_df['true'] == new_df['predicted_label'], 1, 0)"
   ],
   "metadata": {
    "collapsed": false,
    "pycharm": {
     "name": "#%%\n"
    }
   }
  },
  {
   "cell_type": "code",
   "execution_count": 66,
   "outputs": [
    {
     "data": {
      "text/plain": "      predicted  true  predicted_label  match\n0      0.295488   1.0                0      0\n1      0.301741   1.0                0      0\n2      0.265984   1.0                0      0\n3      0.269281   1.0                0      0\n4      0.268448   1.0                0      0\n...         ...   ...              ...    ...\n3453   0.145447   1.0                0      0\n3454   0.074076   0.0                0      1\n3455   0.030575   0.0                0      1\n3456   0.066138   0.0                0      1\n3457   0.029368   0.0                0      1\n\n[3458 rows x 4 columns]",
      "text/html": "<div>\n<style scoped>\n    .dataframe tbody tr th:only-of-type {\n        vertical-align: middle;\n    }\n\n    .dataframe tbody tr th {\n        vertical-align: top;\n    }\n\n    .dataframe thead th {\n        text-align: right;\n    }\n</style>\n<table border=\"1\" class=\"dataframe\">\n  <thead>\n    <tr style=\"text-align: right;\">\n      <th></th>\n      <th>predicted</th>\n      <th>true</th>\n      <th>predicted_label</th>\n      <th>match</th>\n    </tr>\n  </thead>\n  <tbody>\n    <tr>\n      <th>0</th>\n      <td>0.295488</td>\n      <td>1.0</td>\n      <td>0</td>\n      <td>0</td>\n    </tr>\n    <tr>\n      <th>1</th>\n      <td>0.301741</td>\n      <td>1.0</td>\n      <td>0</td>\n      <td>0</td>\n    </tr>\n    <tr>\n      <th>2</th>\n      <td>0.265984</td>\n      <td>1.0</td>\n      <td>0</td>\n      <td>0</td>\n    </tr>\n    <tr>\n      <th>3</th>\n      <td>0.269281</td>\n      <td>1.0</td>\n      <td>0</td>\n      <td>0</td>\n    </tr>\n    <tr>\n      <th>4</th>\n      <td>0.268448</td>\n      <td>1.0</td>\n      <td>0</td>\n      <td>0</td>\n    </tr>\n    <tr>\n      <th>...</th>\n      <td>...</td>\n      <td>...</td>\n      <td>...</td>\n      <td>...</td>\n    </tr>\n    <tr>\n      <th>3453</th>\n      <td>0.145447</td>\n      <td>1.0</td>\n      <td>0</td>\n      <td>0</td>\n    </tr>\n    <tr>\n      <th>3454</th>\n      <td>0.074076</td>\n      <td>0.0</td>\n      <td>0</td>\n      <td>1</td>\n    </tr>\n    <tr>\n      <th>3455</th>\n      <td>0.030575</td>\n      <td>0.0</td>\n      <td>0</td>\n      <td>1</td>\n    </tr>\n    <tr>\n      <th>3456</th>\n      <td>0.066138</td>\n      <td>0.0</td>\n      <td>0</td>\n      <td>1</td>\n    </tr>\n    <tr>\n      <th>3457</th>\n      <td>0.029368</td>\n      <td>0.0</td>\n      <td>0</td>\n      <td>1</td>\n    </tr>\n  </tbody>\n</table>\n<p>3458 rows × 4 columns</p>\n</div>"
     },
     "execution_count": 66,
     "metadata": {},
     "output_type": "execute_result"
    }
   ],
   "source": [
    "new_df"
   ],
   "metadata": {
    "collapsed": false,
    "pycharm": {
     "name": "#%%\n"
    }
   }
  },
  {
   "cell_type": "code",
   "execution_count": 67,
   "outputs": [
    {
     "data": {
      "text/plain": "0.8513591671486408"
     },
     "execution_count": 67,
     "metadata": {},
     "output_type": "execute_result"
    }
   ],
   "source": [
    "new_df['match'].sum()\n",
    "accuracy = new_df['match'].sum() / new_df.shape[0]\n",
    "accuracy"
   ],
   "metadata": {
    "collapsed": false,
    "pycharm": {
     "name": "#%%\n"
    }
   }
  },
  {
   "cell_type": "code",
   "execution_count": 68,
   "outputs": [
    {
     "data": {
      "text/plain": "         predicted         true  predicted_label        match\ncount  3458.000000  3458.000000      3458.000000  3458.000000\nmean      0.238096     0.213418         0.160787     0.851359\nstd       0.252177     0.409780         0.367387     0.355786\nmin       0.008892     0.000000         0.000000     0.000000\n25%       0.049180     0.000000         0.000000     1.000000\n50%       0.133358     0.000000         0.000000     1.000000\n75%       0.310293     0.000000         0.000000     1.000000\nmax       0.858490     1.000000         1.000000     1.000000",
      "text/html": "<div>\n<style scoped>\n    .dataframe tbody tr th:only-of-type {\n        vertical-align: middle;\n    }\n\n    .dataframe tbody tr th {\n        vertical-align: top;\n    }\n\n    .dataframe thead th {\n        text-align: right;\n    }\n</style>\n<table border=\"1\" class=\"dataframe\">\n  <thead>\n    <tr style=\"text-align: right;\">\n      <th></th>\n      <th>predicted</th>\n      <th>true</th>\n      <th>predicted_label</th>\n      <th>match</th>\n    </tr>\n  </thead>\n  <tbody>\n    <tr>\n      <th>count</th>\n      <td>3458.000000</td>\n      <td>3458.000000</td>\n      <td>3458.000000</td>\n      <td>3458.000000</td>\n    </tr>\n    <tr>\n      <th>mean</th>\n      <td>0.238096</td>\n      <td>0.213418</td>\n      <td>0.160787</td>\n      <td>0.851359</td>\n    </tr>\n    <tr>\n      <th>std</th>\n      <td>0.252177</td>\n      <td>0.409780</td>\n      <td>0.367387</td>\n      <td>0.355786</td>\n    </tr>\n    <tr>\n      <th>min</th>\n      <td>0.008892</td>\n      <td>0.000000</td>\n      <td>0.000000</td>\n      <td>0.000000</td>\n    </tr>\n    <tr>\n      <th>25%</th>\n      <td>0.049180</td>\n      <td>0.000000</td>\n      <td>0.000000</td>\n      <td>1.000000</td>\n    </tr>\n    <tr>\n      <th>50%</th>\n      <td>0.133358</td>\n      <td>0.000000</td>\n      <td>0.000000</td>\n      <td>1.000000</td>\n    </tr>\n    <tr>\n      <th>75%</th>\n      <td>0.310293</td>\n      <td>0.000000</td>\n      <td>0.000000</td>\n      <td>1.000000</td>\n    </tr>\n    <tr>\n      <th>max</th>\n      <td>0.858490</td>\n      <td>1.000000</td>\n      <td>1.000000</td>\n      <td>1.000000</td>\n    </tr>\n  </tbody>\n</table>\n</div>"
     },
     "execution_count": 68,
     "metadata": {},
     "output_type": "execute_result"
    }
   ],
   "source": [
    "new_df.describe()"
   ],
   "metadata": {
    "collapsed": false,
    "pycharm": {
     "name": "#%%\n"
    }
   }
  },
  {
   "cell_type": "code",
   "execution_count": 69,
   "outputs": [],
   "source": [
    "df_one = new_df[new_df[\"true\"] == 1]"
   ],
   "metadata": {
    "collapsed": false,
    "pycharm": {
     "name": "#%%\n"
    }
   }
  },
  {
   "cell_type": "code",
   "execution_count": 70,
   "outputs": [
    {
     "data": {
      "text/plain": "      predicted  true  predicted_label  match\n0      0.295488   1.0                0      0\n1      0.301741   1.0                0      0\n2      0.265984   1.0                0      0\n3      0.269281   1.0                0      0\n4      0.268448   1.0                0      0\n...         ...   ...              ...    ...\n3411   0.090499   1.0                0      0\n3419   0.062535   1.0                0      0\n3424   0.018041   1.0                0      0\n3432   0.106757   1.0                0      0\n3453   0.145447   1.0                0      0\n\n[738 rows x 4 columns]",
      "text/html": "<div>\n<style scoped>\n    .dataframe tbody tr th:only-of-type {\n        vertical-align: middle;\n    }\n\n    .dataframe tbody tr th {\n        vertical-align: top;\n    }\n\n    .dataframe thead th {\n        text-align: right;\n    }\n</style>\n<table border=\"1\" class=\"dataframe\">\n  <thead>\n    <tr style=\"text-align: right;\">\n      <th></th>\n      <th>predicted</th>\n      <th>true</th>\n      <th>predicted_label</th>\n      <th>match</th>\n    </tr>\n  </thead>\n  <tbody>\n    <tr>\n      <th>0</th>\n      <td>0.295488</td>\n      <td>1.0</td>\n      <td>0</td>\n      <td>0</td>\n    </tr>\n    <tr>\n      <th>1</th>\n      <td>0.301741</td>\n      <td>1.0</td>\n      <td>0</td>\n      <td>0</td>\n    </tr>\n    <tr>\n      <th>2</th>\n      <td>0.265984</td>\n      <td>1.0</td>\n      <td>0</td>\n      <td>0</td>\n    </tr>\n    <tr>\n      <th>3</th>\n      <td>0.269281</td>\n      <td>1.0</td>\n      <td>0</td>\n      <td>0</td>\n    </tr>\n    <tr>\n      <th>4</th>\n      <td>0.268448</td>\n      <td>1.0</td>\n      <td>0</td>\n      <td>0</td>\n    </tr>\n    <tr>\n      <th>...</th>\n      <td>...</td>\n      <td>...</td>\n      <td>...</td>\n      <td>...</td>\n    </tr>\n    <tr>\n      <th>3411</th>\n      <td>0.090499</td>\n      <td>1.0</td>\n      <td>0</td>\n      <td>0</td>\n    </tr>\n    <tr>\n      <th>3419</th>\n      <td>0.062535</td>\n      <td>1.0</td>\n      <td>0</td>\n      <td>0</td>\n    </tr>\n    <tr>\n      <th>3424</th>\n      <td>0.018041</td>\n      <td>1.0</td>\n      <td>0</td>\n      <td>0</td>\n    </tr>\n    <tr>\n      <th>3432</th>\n      <td>0.106757</td>\n      <td>1.0</td>\n      <td>0</td>\n      <td>0</td>\n    </tr>\n    <tr>\n      <th>3453</th>\n      <td>0.145447</td>\n      <td>1.0</td>\n      <td>0</td>\n      <td>0</td>\n    </tr>\n  </tbody>\n</table>\n<p>738 rows × 4 columns</p>\n</div>"
     },
     "execution_count": 70,
     "metadata": {},
     "output_type": "execute_result"
    }
   ],
   "source": [
    "df_one"
   ],
   "metadata": {
    "collapsed": false,
    "pycharm": {
     "name": "#%%\n"
    }
   }
  },
  {
   "cell_type": "code",
   "execution_count": 71,
   "outputs": [
    {
     "data": {
      "text/plain": "        predicted   true  predicted_label       match\ncount  738.000000  738.0       738.000000  738.000000\nmean     0.520429    1.0         0.528455    0.528455\nstd      0.287927    0.0         0.499528    0.499528\nmin      0.009913    1.0         0.000000    0.000000\n25%      0.267011    1.0         0.000000    0.000000\n50%      0.568339    1.0         1.000000    1.000000\n75%      0.813660    1.0         1.000000    1.000000\nmax      0.858490    1.0         1.000000    1.000000",
      "text/html": "<div>\n<style scoped>\n    .dataframe tbody tr th:only-of-type {\n        vertical-align: middle;\n    }\n\n    .dataframe tbody tr th {\n        vertical-align: top;\n    }\n\n    .dataframe thead th {\n        text-align: right;\n    }\n</style>\n<table border=\"1\" class=\"dataframe\">\n  <thead>\n    <tr style=\"text-align: right;\">\n      <th></th>\n      <th>predicted</th>\n      <th>true</th>\n      <th>predicted_label</th>\n      <th>match</th>\n    </tr>\n  </thead>\n  <tbody>\n    <tr>\n      <th>count</th>\n      <td>738.000000</td>\n      <td>738.0</td>\n      <td>738.000000</td>\n      <td>738.000000</td>\n    </tr>\n    <tr>\n      <th>mean</th>\n      <td>0.520429</td>\n      <td>1.0</td>\n      <td>0.528455</td>\n      <td>0.528455</td>\n    </tr>\n    <tr>\n      <th>std</th>\n      <td>0.287927</td>\n      <td>0.0</td>\n      <td>0.499528</td>\n      <td>0.499528</td>\n    </tr>\n    <tr>\n      <th>min</th>\n      <td>0.009913</td>\n      <td>1.0</td>\n      <td>0.000000</td>\n      <td>0.000000</td>\n    </tr>\n    <tr>\n      <th>25%</th>\n      <td>0.267011</td>\n      <td>1.0</td>\n      <td>0.000000</td>\n      <td>0.000000</td>\n    </tr>\n    <tr>\n      <th>50%</th>\n      <td>0.568339</td>\n      <td>1.0</td>\n      <td>1.000000</td>\n      <td>1.000000</td>\n    </tr>\n    <tr>\n      <th>75%</th>\n      <td>0.813660</td>\n      <td>1.0</td>\n      <td>1.000000</td>\n      <td>1.000000</td>\n    </tr>\n    <tr>\n      <th>max</th>\n      <td>0.858490</td>\n      <td>1.0</td>\n      <td>1.000000</td>\n      <td>1.000000</td>\n    </tr>\n  </tbody>\n</table>\n</div>"
     },
     "execution_count": 71,
     "metadata": {},
     "output_type": "execute_result"
    }
   ],
   "source": [
    "df_zeros = new_df[new_df[\"true\"] == 0]\n",
    "df_one.describe()"
   ],
   "metadata": {
    "collapsed": false,
    "pycharm": {
     "name": "#%%\n"
    }
   }
  },
  {
   "cell_type": "code",
   "execution_count": null,
   "outputs": [],
   "source": [
    "df_zeros.describe()"
   ],
   "metadata": {
    "collapsed": false,
    "pycharm": {
     "name": "#%%\n"
    }
   }
  },
  {
   "cell_type": "markdown",
   "source": [],
   "metadata": {
    "collapsed": false
   }
  }
 ],
 "metadata": {
  "kernelspec": {
   "name": "conda-env-ExpAI-py",
   "language": "python",
   "display_name": "Python [conda env:ExpAI]"
  },
  "language_info": {
   "codemirror_mode": {
    "name": "ipython",
    "version": 3
   },
   "file_extension": ".py",
   "mimetype": "text/x-python",
   "name": "python",
   "nbconvert_exporter": "python",
   "pygments_lexer": "ipython3",
   "version": "3.8.12"
  },
  "varInspector": {
   "cols": {
    "lenName": 16,
    "lenType": 16,
    "lenVar": 40
   },
   "kernels_config": {
    "python": {
     "delete_cmd_postfix": "",
     "delete_cmd_prefix": "del ",
     "library": "var_list.py",
     "varRefreshCmd": "print(var_dic_list())"
    },
    "r": {
     "delete_cmd_postfix": ") ",
     "delete_cmd_prefix": "rm(",
     "library": "var_list.r",
     "varRefreshCmd": "cat(var_dic_list()) "
    }
   },
   "types_to_exclude": [
    "module",
    "function",
    "builtin_function_or_method",
    "instance",
    "_Feature"
   ],
   "window_display": false
  }
 },
 "nbformat": 4,
 "nbformat_minor": 4
}