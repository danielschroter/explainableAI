{
 "cells": [
  {
   "cell_type": "code",
   "execution_count": 1,
   "outputs": [],
   "source": [
    "import nltk\n",
    "import numpy as np\n",
    "import pandas as pd\n",
    "from tensorflow import keras\n",
    "from tensorflow.keras.layers import Dense\n",
    "from sentence_transformers import SentenceTransformer\n",
    "\n",
    "sbert_model = SentenceTransformer('bert-base-nli-mean-tokens')"
   ],
   "metadata": {
    "collapsed": false,
    "pycharm": {
     "name": "#%%\n"
    }
   }
  },
  {
   "cell_type": "code",
   "execution_count": 2,
   "outputs": [],
   "source": [
    "def cosine(u, v):\n",
    "    return np.dot(u, v) / (np.linalg.norm(u) * np.linalg.norm(v))"
   ],
   "metadata": {
    "collapsed": false,
    "pycharm": {
     "name": "#%%\n"
    }
   }
  },
  {
   "cell_type": "code",
   "execution_count": 3,
   "outputs": [],
   "source": [
    "# You have to adjust the\n",
    "df_arguments = pd.read_csv(\"kpm_data/arguments_train.csv\")\n",
    "df_keypoints = pd.read_csv(\"kpm_data/key_points_train.csv\")\n",
    "df_labels = pd.read_csv(\"kpm_data/labels_train.csv\")"
   ],
   "metadata": {
    "collapsed": false,
    "pycharm": {
     "name": "#%%\n"
    }
   }
  },
  {
   "cell_type": "code",
   "execution_count": 4,
   "outputs": [
    {
     "data": {
      "text/plain": "          arg_id                                           argument  \\\n0        arg_0_0  `people reach their limit when it comes to the...   \n1        arg_0_1  A patient should be able to decide when they h...   \n2        arg_0_2  a person has the right to end their suffering ...   \n3        arg_0_3  a person should have the dignity to choose how...   \n4        arg_0_4  a person should have the right to be able to c...   \n...          ...                                                ...   \n5578  arg_27_218  we should subsidize vocational education to en...   \n5579  arg_27_219  We should subsidize vocational education to su...   \n5580  arg_27_220  While many who graduate from universities stru...   \n5581  arg_27_221  with the rising cost of college tuition vocati...   \n5582  arg_27_222  yes, we should subsidize vocational education ...   \n\n                                              topic  stance  \n0     Assisted suicide should be a criminal offence      -1  \n1     Assisted suicide should be a criminal offence      -1  \n2     Assisted suicide should be a criminal offence      -1  \n3     Assisted suicide should be a criminal offence      -1  \n4     Assisted suicide should be a criminal offence      -1  \n...                                             ...     ...  \n5578       We should subsidize vocational education       1  \n5579       We should subsidize vocational education       1  \n5580       We should subsidize vocational education       1  \n5581       We should subsidize vocational education       1  \n5582       We should subsidize vocational education       1  \n\n[5583 rows x 4 columns]",
      "text/html": "<div>\n<style scoped>\n    .dataframe tbody tr th:only-of-type {\n        vertical-align: middle;\n    }\n\n    .dataframe tbody tr th {\n        vertical-align: top;\n    }\n\n    .dataframe thead th {\n        text-align: right;\n    }\n</style>\n<table border=\"1\" class=\"dataframe\">\n  <thead>\n    <tr style=\"text-align: right;\">\n      <th></th>\n      <th>arg_id</th>\n      <th>argument</th>\n      <th>topic</th>\n      <th>stance</th>\n    </tr>\n  </thead>\n  <tbody>\n    <tr>\n      <th>0</th>\n      <td>arg_0_0</td>\n      <td>`people reach their limit when it comes to the...</td>\n      <td>Assisted suicide should be a criminal offence</td>\n      <td>-1</td>\n    </tr>\n    <tr>\n      <th>1</th>\n      <td>arg_0_1</td>\n      <td>A patient should be able to decide when they h...</td>\n      <td>Assisted suicide should be a criminal offence</td>\n      <td>-1</td>\n    </tr>\n    <tr>\n      <th>2</th>\n      <td>arg_0_2</td>\n      <td>a person has the right to end their suffering ...</td>\n      <td>Assisted suicide should be a criminal offence</td>\n      <td>-1</td>\n    </tr>\n    <tr>\n      <th>3</th>\n      <td>arg_0_3</td>\n      <td>a person should have the dignity to choose how...</td>\n      <td>Assisted suicide should be a criminal offence</td>\n      <td>-1</td>\n    </tr>\n    <tr>\n      <th>4</th>\n      <td>arg_0_4</td>\n      <td>a person should have the right to be able to c...</td>\n      <td>Assisted suicide should be a criminal offence</td>\n      <td>-1</td>\n    </tr>\n    <tr>\n      <th>...</th>\n      <td>...</td>\n      <td>...</td>\n      <td>...</td>\n      <td>...</td>\n    </tr>\n    <tr>\n      <th>5578</th>\n      <td>arg_27_218</td>\n      <td>we should subsidize vocational education to en...</td>\n      <td>We should subsidize vocational education</td>\n      <td>1</td>\n    </tr>\n    <tr>\n      <th>5579</th>\n      <td>arg_27_219</td>\n      <td>We should subsidize vocational education to su...</td>\n      <td>We should subsidize vocational education</td>\n      <td>1</td>\n    </tr>\n    <tr>\n      <th>5580</th>\n      <td>arg_27_220</td>\n      <td>While many who graduate from universities stru...</td>\n      <td>We should subsidize vocational education</td>\n      <td>1</td>\n    </tr>\n    <tr>\n      <th>5581</th>\n      <td>arg_27_221</td>\n      <td>with the rising cost of college tuition vocati...</td>\n      <td>We should subsidize vocational education</td>\n      <td>1</td>\n    </tr>\n    <tr>\n      <th>5582</th>\n      <td>arg_27_222</td>\n      <td>yes, we should subsidize vocational education ...</td>\n      <td>We should subsidize vocational education</td>\n      <td>1</td>\n    </tr>\n  </tbody>\n</table>\n<p>5583 rows × 4 columns</p>\n</div>"
     },
     "execution_count": 4,
     "metadata": {},
     "output_type": "execute_result"
    }
   ],
   "source": [
    "df_arguments"
   ],
   "metadata": {
    "collapsed": false,
    "pycharm": {
     "name": "#%%\n"
    }
   }
  },
  {
   "cell_type": "code",
   "execution_count": 5,
   "outputs": [
    {
     "data": {
      "text/plain": "    key_point_id                                          key_point  \\\n0         kp_0_0  Assisted suicide gives dignity to the person t...   \n1         kp_0_1                 Assisted suicide reduces suffering   \n2         kp_0_2  People should have the freedom to choose to en...   \n3         kp_0_3  The terminally ill would benefit from assisted...   \n4         kp_0_4  Assisted suicide allows people to solicit some...   \n..           ...                                                ...   \n202      kp_27_3      subsidizing vocational education is expensive   \n203      kp_27_4  subsidizing vocational education promotes thos...   \n204      kp_27_5       vocational education is a good career choice   \n205      kp_27_6     vocational education better fits many students   \n206      kp_27_7  vocational education is beneficial for the ent...   \n\n                                             topic  stance  \n0    Assisted suicide should be a criminal offence      -1  \n1    Assisted suicide should be a criminal offence      -1  \n2    Assisted suicide should be a criminal offence      -1  \n3    Assisted suicide should be a criminal offence      -1  \n4    Assisted suicide should be a criminal offence       1  \n..                                             ...     ...  \n202       We should subsidize vocational education      -1  \n203       We should subsidize vocational education       1  \n204       We should subsidize vocational education       1  \n205       We should subsidize vocational education       1  \n206       We should subsidize vocational education       1  \n\n[207 rows x 4 columns]",
      "text/html": "<div>\n<style scoped>\n    .dataframe tbody tr th:only-of-type {\n        vertical-align: middle;\n    }\n\n    .dataframe tbody tr th {\n        vertical-align: top;\n    }\n\n    .dataframe thead th {\n        text-align: right;\n    }\n</style>\n<table border=\"1\" class=\"dataframe\">\n  <thead>\n    <tr style=\"text-align: right;\">\n      <th></th>\n      <th>key_point_id</th>\n      <th>key_point</th>\n      <th>topic</th>\n      <th>stance</th>\n    </tr>\n  </thead>\n  <tbody>\n    <tr>\n      <th>0</th>\n      <td>kp_0_0</td>\n      <td>Assisted suicide gives dignity to the person t...</td>\n      <td>Assisted suicide should be a criminal offence</td>\n      <td>-1</td>\n    </tr>\n    <tr>\n      <th>1</th>\n      <td>kp_0_1</td>\n      <td>Assisted suicide reduces suffering</td>\n      <td>Assisted suicide should be a criminal offence</td>\n      <td>-1</td>\n    </tr>\n    <tr>\n      <th>2</th>\n      <td>kp_0_2</td>\n      <td>People should have the freedom to choose to en...</td>\n      <td>Assisted suicide should be a criminal offence</td>\n      <td>-1</td>\n    </tr>\n    <tr>\n      <th>3</th>\n      <td>kp_0_3</td>\n      <td>The terminally ill would benefit from assisted...</td>\n      <td>Assisted suicide should be a criminal offence</td>\n      <td>-1</td>\n    </tr>\n    <tr>\n      <th>4</th>\n      <td>kp_0_4</td>\n      <td>Assisted suicide allows people to solicit some...</td>\n      <td>Assisted suicide should be a criminal offence</td>\n      <td>1</td>\n    </tr>\n    <tr>\n      <th>...</th>\n      <td>...</td>\n      <td>...</td>\n      <td>...</td>\n      <td>...</td>\n    </tr>\n    <tr>\n      <th>202</th>\n      <td>kp_27_3</td>\n      <td>subsidizing vocational education is expensive</td>\n      <td>We should subsidize vocational education</td>\n      <td>-1</td>\n    </tr>\n    <tr>\n      <th>203</th>\n      <td>kp_27_4</td>\n      <td>subsidizing vocational education promotes thos...</td>\n      <td>We should subsidize vocational education</td>\n      <td>1</td>\n    </tr>\n    <tr>\n      <th>204</th>\n      <td>kp_27_5</td>\n      <td>vocational education is a good career choice</td>\n      <td>We should subsidize vocational education</td>\n      <td>1</td>\n    </tr>\n    <tr>\n      <th>205</th>\n      <td>kp_27_6</td>\n      <td>vocational education better fits many students</td>\n      <td>We should subsidize vocational education</td>\n      <td>1</td>\n    </tr>\n    <tr>\n      <th>206</th>\n      <td>kp_27_7</td>\n      <td>vocational education is beneficial for the ent...</td>\n      <td>We should subsidize vocational education</td>\n      <td>1</td>\n    </tr>\n  </tbody>\n</table>\n<p>207 rows × 4 columns</p>\n</div>"
     },
     "execution_count": 5,
     "metadata": {},
     "output_type": "execute_result"
    }
   ],
   "source": [
    "df_keypoints"
   ],
   "metadata": {
    "collapsed": false,
    "pycharm": {
     "name": "#%%\n"
    }
   }
  },
  {
   "cell_type": "code",
   "execution_count": 6,
   "outputs": [
    {
     "data": {
      "text/plain": "           arg_id key_point_id  label\n0         arg_0_0       kp_0_0      0\n1       arg_0_121       kp_0_4      0\n2       arg_0_121       kp_0_5      0\n3       arg_0_121       kp_0_6      1\n4       arg_0_121       kp_0_7      0\n...           ...          ...    ...\n20630  arg_27_221      kp_27_6      0\n20631  arg_27_221      kp_27_7      0\n20632  arg_27_222      kp_27_4      0\n20633  arg_27_222      kp_27_5      1\n20634  arg_27_222      kp_27_7      0\n\n[20635 rows x 3 columns]",
      "text/html": "<div>\n<style scoped>\n    .dataframe tbody tr th:only-of-type {\n        vertical-align: middle;\n    }\n\n    .dataframe tbody tr th {\n        vertical-align: top;\n    }\n\n    .dataframe thead th {\n        text-align: right;\n    }\n</style>\n<table border=\"1\" class=\"dataframe\">\n  <thead>\n    <tr style=\"text-align: right;\">\n      <th></th>\n      <th>arg_id</th>\n      <th>key_point_id</th>\n      <th>label</th>\n    </tr>\n  </thead>\n  <tbody>\n    <tr>\n      <th>0</th>\n      <td>arg_0_0</td>\n      <td>kp_0_0</td>\n      <td>0</td>\n    </tr>\n    <tr>\n      <th>1</th>\n      <td>arg_0_121</td>\n      <td>kp_0_4</td>\n      <td>0</td>\n    </tr>\n    <tr>\n      <th>2</th>\n      <td>arg_0_121</td>\n      <td>kp_0_5</td>\n      <td>0</td>\n    </tr>\n    <tr>\n      <th>3</th>\n      <td>arg_0_121</td>\n      <td>kp_0_6</td>\n      <td>1</td>\n    </tr>\n    <tr>\n      <th>4</th>\n      <td>arg_0_121</td>\n      <td>kp_0_7</td>\n      <td>0</td>\n    </tr>\n    <tr>\n      <th>...</th>\n      <td>...</td>\n      <td>...</td>\n      <td>...</td>\n    </tr>\n    <tr>\n      <th>20630</th>\n      <td>arg_27_221</td>\n      <td>kp_27_6</td>\n      <td>0</td>\n    </tr>\n    <tr>\n      <th>20631</th>\n      <td>arg_27_221</td>\n      <td>kp_27_7</td>\n      <td>0</td>\n    </tr>\n    <tr>\n      <th>20632</th>\n      <td>arg_27_222</td>\n      <td>kp_27_4</td>\n      <td>0</td>\n    </tr>\n    <tr>\n      <th>20633</th>\n      <td>arg_27_222</td>\n      <td>kp_27_5</td>\n      <td>1</td>\n    </tr>\n    <tr>\n      <th>20634</th>\n      <td>arg_27_222</td>\n      <td>kp_27_7</td>\n      <td>0</td>\n    </tr>\n  </tbody>\n</table>\n<p>20635 rows × 3 columns</p>\n</div>"
     },
     "execution_count": 6,
     "metadata": {},
     "output_type": "execute_result"
    }
   ],
   "source": [
    "df_labels"
   ],
   "metadata": {
    "collapsed": false,
    "pycharm": {
     "name": "#%%\n"
    }
   }
  },
  {
   "cell_type": "code",
   "execution_count": 7,
   "outputs": [
    {
     "data": {
      "text/plain": "           arg_id key_point_id  label\n3       arg_0_121       kp_0_6      1\n9         arg_0_1       kp_0_2      1\n11        arg_0_2       kp_0_1      1\n14        arg_0_3       kp_0_2      1\n18        arg_0_4       kp_0_2      1\n...           ...          ...    ...\n20604   arg_27_89      kp_27_1      1\n20605   arg_27_90      kp_27_2      1\n20614   arg_27_92      kp_27_3      1\n20623  arg_27_220      kp_27_5      1\n20633  arg_27_222      kp_27_5      1\n\n[4260 rows x 3 columns]",
      "text/html": "<div>\n<style scoped>\n    .dataframe tbody tr th:only-of-type {\n        vertical-align: middle;\n    }\n\n    .dataframe tbody tr th {\n        vertical-align: top;\n    }\n\n    .dataframe thead th {\n        text-align: right;\n    }\n</style>\n<table border=\"1\" class=\"dataframe\">\n  <thead>\n    <tr style=\"text-align: right;\">\n      <th></th>\n      <th>arg_id</th>\n      <th>key_point_id</th>\n      <th>label</th>\n    </tr>\n  </thead>\n  <tbody>\n    <tr>\n      <th>3</th>\n      <td>arg_0_121</td>\n      <td>kp_0_6</td>\n      <td>1</td>\n    </tr>\n    <tr>\n      <th>9</th>\n      <td>arg_0_1</td>\n      <td>kp_0_2</td>\n      <td>1</td>\n    </tr>\n    <tr>\n      <th>11</th>\n      <td>arg_0_2</td>\n      <td>kp_0_1</td>\n      <td>1</td>\n    </tr>\n    <tr>\n      <th>14</th>\n      <td>arg_0_3</td>\n      <td>kp_0_2</td>\n      <td>1</td>\n    </tr>\n    <tr>\n      <th>18</th>\n      <td>arg_0_4</td>\n      <td>kp_0_2</td>\n      <td>1</td>\n    </tr>\n    <tr>\n      <th>...</th>\n      <td>...</td>\n      <td>...</td>\n      <td>...</td>\n    </tr>\n    <tr>\n      <th>20604</th>\n      <td>arg_27_89</td>\n      <td>kp_27_1</td>\n      <td>1</td>\n    </tr>\n    <tr>\n      <th>20605</th>\n      <td>arg_27_90</td>\n      <td>kp_27_2</td>\n      <td>1</td>\n    </tr>\n    <tr>\n      <th>20614</th>\n      <td>arg_27_92</td>\n      <td>kp_27_3</td>\n      <td>1</td>\n    </tr>\n    <tr>\n      <th>20623</th>\n      <td>arg_27_220</td>\n      <td>kp_27_5</td>\n      <td>1</td>\n    </tr>\n    <tr>\n      <th>20633</th>\n      <td>arg_27_222</td>\n      <td>kp_27_5</td>\n      <td>1</td>\n    </tr>\n  </tbody>\n</table>\n<p>4260 rows × 3 columns</p>\n</div>"
     },
     "execution_count": 7,
     "metadata": {},
     "output_type": "execute_result"
    }
   ],
   "source": [
    "df_labels_ones = df_labels[df_labels[\"label\"] == 1]\n",
    "df_labels_ones\n"
   ],
   "metadata": {
    "collapsed": false,
    "pycharm": {
     "name": "#%%\n"
    }
   }
  },
  {
   "cell_type": "code",
   "execution_count": 8,
   "outputs": [
    {
     "data": {
      "text/plain": "           arg_id key_point_id  label\n0         arg_0_0       kp_0_0      0\n1       arg_0_121       kp_0_4      0\n2       arg_0_121       kp_0_5      0\n4       arg_0_121       kp_0_7      0\n5       arg_0_121       kp_0_8      0\n...           ...          ...    ...\n20629  arg_27_221      kp_27_4      0\n20630  arg_27_221      kp_27_6      0\n20631  arg_27_221      kp_27_7      0\n20632  arg_27_222      kp_27_4      0\n20634  arg_27_222      kp_27_7      0\n\n[16375 rows x 3 columns]",
      "text/html": "<div>\n<style scoped>\n    .dataframe tbody tr th:only-of-type {\n        vertical-align: middle;\n    }\n\n    .dataframe tbody tr th {\n        vertical-align: top;\n    }\n\n    .dataframe thead th {\n        text-align: right;\n    }\n</style>\n<table border=\"1\" class=\"dataframe\">\n  <thead>\n    <tr style=\"text-align: right;\">\n      <th></th>\n      <th>arg_id</th>\n      <th>key_point_id</th>\n      <th>label</th>\n    </tr>\n  </thead>\n  <tbody>\n    <tr>\n      <th>0</th>\n      <td>arg_0_0</td>\n      <td>kp_0_0</td>\n      <td>0</td>\n    </tr>\n    <tr>\n      <th>1</th>\n      <td>arg_0_121</td>\n      <td>kp_0_4</td>\n      <td>0</td>\n    </tr>\n    <tr>\n      <th>2</th>\n      <td>arg_0_121</td>\n      <td>kp_0_5</td>\n      <td>0</td>\n    </tr>\n    <tr>\n      <th>4</th>\n      <td>arg_0_121</td>\n      <td>kp_0_7</td>\n      <td>0</td>\n    </tr>\n    <tr>\n      <th>5</th>\n      <td>arg_0_121</td>\n      <td>kp_0_8</td>\n      <td>0</td>\n    </tr>\n    <tr>\n      <th>...</th>\n      <td>...</td>\n      <td>...</td>\n      <td>...</td>\n    </tr>\n    <tr>\n      <th>20629</th>\n      <td>arg_27_221</td>\n      <td>kp_27_4</td>\n      <td>0</td>\n    </tr>\n    <tr>\n      <th>20630</th>\n      <td>arg_27_221</td>\n      <td>kp_27_6</td>\n      <td>0</td>\n    </tr>\n    <tr>\n      <th>20631</th>\n      <td>arg_27_221</td>\n      <td>kp_27_7</td>\n      <td>0</td>\n    </tr>\n    <tr>\n      <th>20632</th>\n      <td>arg_27_222</td>\n      <td>kp_27_4</td>\n      <td>0</td>\n    </tr>\n    <tr>\n      <th>20634</th>\n      <td>arg_27_222</td>\n      <td>kp_27_7</td>\n      <td>0</td>\n    </tr>\n  </tbody>\n</table>\n<p>16375 rows × 3 columns</p>\n</div>"
     },
     "execution_count": 8,
     "metadata": {},
     "output_type": "execute_result"
    }
   ],
   "source": [
    "df_labels_zeros = df_labels[df_labels[\"label\"] == 0]\n",
    "df_labels_zeros"
   ],
   "metadata": {
    "collapsed": false,
    "pycharm": {
     "name": "#%%\n"
    }
   }
  },
  {
   "cell_type": "code",
   "execution_count": 9,
   "outputs": [
    {
     "data": {
      "text/plain": "           arg_id key_point_id  label\n1310    arg_1_157       kp_1_8      0\n2953     arg_2_83       kp_2_5      0\n3714     arg_3_58       kp_3_4      0\n13003  arg_19_159      kp_19_4      0\n11129  arg_14_109      kp_14_2      0\n...           ...          ...    ...\n1474    arg_1_177       kp_1_6      0\n1703     arg_1_76       kp_1_2      0\n4804    arg_5_198       kp_5_5      0\n11417   arg_16_44      kp_16_1      0\n9263    arg_13_15      kp_13_2      0\n\n[4260 rows x 3 columns]",
      "text/html": "<div>\n<style scoped>\n    .dataframe tbody tr th:only-of-type {\n        vertical-align: middle;\n    }\n\n    .dataframe tbody tr th {\n        vertical-align: top;\n    }\n\n    .dataframe thead th {\n        text-align: right;\n    }\n</style>\n<table border=\"1\" class=\"dataframe\">\n  <thead>\n    <tr style=\"text-align: right;\">\n      <th></th>\n      <th>arg_id</th>\n      <th>key_point_id</th>\n      <th>label</th>\n    </tr>\n  </thead>\n  <tbody>\n    <tr>\n      <th>1310</th>\n      <td>arg_1_157</td>\n      <td>kp_1_8</td>\n      <td>0</td>\n    </tr>\n    <tr>\n      <th>2953</th>\n      <td>arg_2_83</td>\n      <td>kp_2_5</td>\n      <td>0</td>\n    </tr>\n    <tr>\n      <th>3714</th>\n      <td>arg_3_58</td>\n      <td>kp_3_4</td>\n      <td>0</td>\n    </tr>\n    <tr>\n      <th>13003</th>\n      <td>arg_19_159</td>\n      <td>kp_19_4</td>\n      <td>0</td>\n    </tr>\n    <tr>\n      <th>11129</th>\n      <td>arg_14_109</td>\n      <td>kp_14_2</td>\n      <td>0</td>\n    </tr>\n    <tr>\n      <th>...</th>\n      <td>...</td>\n      <td>...</td>\n      <td>...</td>\n    </tr>\n    <tr>\n      <th>1474</th>\n      <td>arg_1_177</td>\n      <td>kp_1_6</td>\n      <td>0</td>\n    </tr>\n    <tr>\n      <th>1703</th>\n      <td>arg_1_76</td>\n      <td>kp_1_2</td>\n      <td>0</td>\n    </tr>\n    <tr>\n      <th>4804</th>\n      <td>arg_5_198</td>\n      <td>kp_5_5</td>\n      <td>0</td>\n    </tr>\n    <tr>\n      <th>11417</th>\n      <td>arg_16_44</td>\n      <td>kp_16_1</td>\n      <td>0</td>\n    </tr>\n    <tr>\n      <th>9263</th>\n      <td>arg_13_15</td>\n      <td>kp_13_2</td>\n      <td>0</td>\n    </tr>\n  </tbody>\n</table>\n<p>4260 rows × 3 columns</p>\n</div>"
     },
     "execution_count": 9,
     "metadata": {},
     "output_type": "execute_result"
    }
   ],
   "source": [
    "df_labels_zeros_reduced = df_labels_zeros.sample(n=4260, random_state=1)\n",
    "df_labels_zeros_reduced"
   ],
   "metadata": {
    "collapsed": false,
    "pycharm": {
     "name": "#%%\n"
    }
   }
  },
  {
   "cell_type": "code",
   "execution_count": 10,
   "outputs": [],
   "source": [
    "df_labels_merged = np.vstack((df_labels_ones, df_labels_zeros_reduced))\n"
   ],
   "metadata": {
    "collapsed": false,
    "pycharm": {
     "name": "#%%\n"
    }
   }
  },
  {
   "cell_type": "code",
   "execution_count": 11,
   "outputs": [],
   "source": [
    "np.random.shuffle(df_labels_merged)\n",
    "df_labels_merged = pd.DataFrame(df_labels_merged)\n",
    "df_labels_merged.columns = [\"arg_id\", \"key_point_id\", \"label\"]\n",
    "df_labels_merged\n",
    "df_labels_merged_labels = df_labels_merged[\"label\"]"
   ],
   "metadata": {
    "collapsed": false,
    "pycharm": {
     "name": "#%%\n"
    }
   }
  },
  {
   "cell_type": "code",
   "execution_count": 12,
   "outputs": [
    {
     "data": {
      "text/plain": "          arg_id key_point_id label  \\\n0     arg_25_212      kp_25_6     0   \n1     arg_25_213      kp_25_6     0   \n2     arg_25_124      kp_25_6     0   \n3     arg_25_159      kp_25_6     0   \n4     arg_25_157      kp_25_6     0   \n...          ...          ...   ...   \n8515   arg_9_123       kp_9_3     0   \n8516   arg_9_202       kp_9_3     0   \n8517   arg_9_147       kp_9_3     0   \n8518   arg_9_137       kp_9_3     0   \n8519   arg_9_189       kp_9_3     0   \n\n                                               argument  \\\n0     We should subsidize journalism because informa...   \n1     we should subsidize journalism because it can ...   \n2     journalism and free press are essential for tr...   \n3     journalism should be subsidize to promote impa...   \n4     journalism should be funded by the government ...   \n...                                                 ...   \n8515  adopting atheism will help to end senseless wa...   \n8516  there is no true god therefore atheism is the ...   \n8517  atheism is the way to go away from religion co...   \n8518  atheism is a concept to adopt because no relig...   \n8519  religion has been the underlying cause of so m...   \n\n                             topic_x  stance_x  \\\n0     We should subsidize journalism         1   \n1     We should subsidize journalism         1   \n2     We should subsidize journalism         1   \n3     We should subsidize journalism         1   \n4     We should subsidize journalism         1   \n...                              ...       ...   \n8515         We should adopt atheism         1   \n8516         We should adopt atheism         1   \n8517         We should adopt atheism         1   \n8518         We should adopt atheism         1   \n8519         We should adopt atheism         1   \n\n                                              key_point  \\\n0      A subsidy is important to make journalism viable   \n1      A subsidy is important to make journalism viable   \n2      A subsidy is important to make journalism viable   \n3      A subsidy is important to make journalism viable   \n4      A subsidy is important to make journalism viable   \n...                                                 ...   \n8515  Atheism is beneficial to the person that adopt...   \n8516  Atheism is beneficial to the person that adopt...   \n8517  Atheism is beneficial to the person that adopt...   \n8518  Atheism is beneficial to the person that adopt...   \n8519  Atheism is beneficial to the person that adopt...   \n\n                             topic_y  stance_y  \n0     We should subsidize journalism         1  \n1     We should subsidize journalism         1  \n2     We should subsidize journalism         1  \n3     We should subsidize journalism         1  \n4     We should subsidize journalism         1  \n...                              ...       ...  \n8515         We should adopt atheism         1  \n8516         We should adopt atheism         1  \n8517         We should adopt atheism         1  \n8518         We should adopt atheism         1  \n8519         We should adopt atheism         1  \n\n[8520 rows x 9 columns]",
      "text/html": "<div>\n<style scoped>\n    .dataframe tbody tr th:only-of-type {\n        vertical-align: middle;\n    }\n\n    .dataframe tbody tr th {\n        vertical-align: top;\n    }\n\n    .dataframe thead th {\n        text-align: right;\n    }\n</style>\n<table border=\"1\" class=\"dataframe\">\n  <thead>\n    <tr style=\"text-align: right;\">\n      <th></th>\n      <th>arg_id</th>\n      <th>key_point_id</th>\n      <th>label</th>\n      <th>argument</th>\n      <th>topic_x</th>\n      <th>stance_x</th>\n      <th>key_point</th>\n      <th>topic_y</th>\n      <th>stance_y</th>\n    </tr>\n  </thead>\n  <tbody>\n    <tr>\n      <th>0</th>\n      <td>arg_25_212</td>\n      <td>kp_25_6</td>\n      <td>0</td>\n      <td>We should subsidize journalism because informa...</td>\n      <td>We should subsidize journalism</td>\n      <td>1</td>\n      <td>A subsidy is important to make journalism viable</td>\n      <td>We should subsidize journalism</td>\n      <td>1</td>\n    </tr>\n    <tr>\n      <th>1</th>\n      <td>arg_25_213</td>\n      <td>kp_25_6</td>\n      <td>0</td>\n      <td>we should subsidize journalism because it can ...</td>\n      <td>We should subsidize journalism</td>\n      <td>1</td>\n      <td>A subsidy is important to make journalism viable</td>\n      <td>We should subsidize journalism</td>\n      <td>1</td>\n    </tr>\n    <tr>\n      <th>2</th>\n      <td>arg_25_124</td>\n      <td>kp_25_6</td>\n      <td>0</td>\n      <td>journalism and free press are essential for tr...</td>\n      <td>We should subsidize journalism</td>\n      <td>1</td>\n      <td>A subsidy is important to make journalism viable</td>\n      <td>We should subsidize journalism</td>\n      <td>1</td>\n    </tr>\n    <tr>\n      <th>3</th>\n      <td>arg_25_159</td>\n      <td>kp_25_6</td>\n      <td>0</td>\n      <td>journalism should be subsidize to promote impa...</td>\n      <td>We should subsidize journalism</td>\n      <td>1</td>\n      <td>A subsidy is important to make journalism viable</td>\n      <td>We should subsidize journalism</td>\n      <td>1</td>\n    </tr>\n    <tr>\n      <th>4</th>\n      <td>arg_25_157</td>\n      <td>kp_25_6</td>\n      <td>0</td>\n      <td>journalism should be funded by the government ...</td>\n      <td>We should subsidize journalism</td>\n      <td>1</td>\n      <td>A subsidy is important to make journalism viable</td>\n      <td>We should subsidize journalism</td>\n      <td>1</td>\n    </tr>\n    <tr>\n      <th>...</th>\n      <td>...</td>\n      <td>...</td>\n      <td>...</td>\n      <td>...</td>\n      <td>...</td>\n      <td>...</td>\n      <td>...</td>\n      <td>...</td>\n      <td>...</td>\n    </tr>\n    <tr>\n      <th>8515</th>\n      <td>arg_9_123</td>\n      <td>kp_9_3</td>\n      <td>0</td>\n      <td>adopting atheism will help to end senseless wa...</td>\n      <td>We should adopt atheism</td>\n      <td>1</td>\n      <td>Atheism is beneficial to the person that adopt...</td>\n      <td>We should adopt atheism</td>\n      <td>1</td>\n    </tr>\n    <tr>\n      <th>8516</th>\n      <td>arg_9_202</td>\n      <td>kp_9_3</td>\n      <td>0</td>\n      <td>there is no true god therefore atheism is the ...</td>\n      <td>We should adopt atheism</td>\n      <td>1</td>\n      <td>Atheism is beneficial to the person that adopt...</td>\n      <td>We should adopt atheism</td>\n      <td>1</td>\n    </tr>\n    <tr>\n      <th>8517</th>\n      <td>arg_9_147</td>\n      <td>kp_9_3</td>\n      <td>0</td>\n      <td>atheism is the way to go away from religion co...</td>\n      <td>We should adopt atheism</td>\n      <td>1</td>\n      <td>Atheism is beneficial to the person that adopt...</td>\n      <td>We should adopt atheism</td>\n      <td>1</td>\n    </tr>\n    <tr>\n      <th>8518</th>\n      <td>arg_9_137</td>\n      <td>kp_9_3</td>\n      <td>0</td>\n      <td>atheism is a concept to adopt because no relig...</td>\n      <td>We should adopt atheism</td>\n      <td>1</td>\n      <td>Atheism is beneficial to the person that adopt...</td>\n      <td>We should adopt atheism</td>\n      <td>1</td>\n    </tr>\n    <tr>\n      <th>8519</th>\n      <td>arg_9_189</td>\n      <td>kp_9_3</td>\n      <td>0</td>\n      <td>religion has been the underlying cause of so m...</td>\n      <td>We should adopt atheism</td>\n      <td>1</td>\n      <td>Atheism is beneficial to the person that adopt...</td>\n      <td>We should adopt atheism</td>\n      <td>1</td>\n    </tr>\n  </tbody>\n</table>\n<p>8520 rows × 9 columns</p>\n</div>"
     },
     "execution_count": 12,
     "metadata": {},
     "output_type": "execute_result"
    }
   ],
   "source": [
    "merged_dataset=df_labels_merged.merge(df_arguments, left_on=\"arg_id\", right_on=\"arg_id\")\n",
    "# df_arguments.loc[df_arguments['arg_id'] == \"arg_4_121\"]\n",
    "full_dataset=merged_dataset.merge(df_keypoints, left_on=\"key_point_id\", right_on=\"key_point_id\")\n",
    "full_dataset"
   ],
   "metadata": {
    "collapsed": false,
    "pycharm": {
     "name": "#%%\n"
    }
   }
  },
  {
   "cell_type": "code",
   "execution_count": 15,
   "outputs": [
    {
     "data": {
      "text/plain": "array([[-0.2670554 ,  0.23807876,  0.7331662 , ..., -0.63051814,\n        -1.3877122 , -0.12489822],\n       [-0.13160288,  0.17808898,  1.1157659 , ..., -0.63051814,\n        -1.3877122 , -0.12489822],\n       [-0.02032149,  0.12400538,  0.47286725, ..., -0.63051814,\n        -1.3877122 , -0.12489822],\n       ...,\n       [-0.10121359,  0.70776415,  1.1980507 , ...,  0.2339278 ,\n        -0.7205468 ,  0.07368473],\n       [ 0.66733336,  1.1395385 ,  1.1271716 , ...,  0.2339278 ,\n        -0.7205468 ,  0.07368473],\n       [-0.05617074,  0.6022745 ,  0.2703439 , ...,  0.23392768,\n        -0.7205468 ,  0.07368479]], dtype=float32)"
     },
     "execution_count": 15,
     "metadata": {},
     "output_type": "execute_result"
    }
   ],
   "source": [
    "altdata_arguments = sbert_model.encode(full_dataset[\"argument\"])\n",
    "# altdata_arguments\n",
    "altdata_keypoints = sbert_model.encode(full_dataset[\"key_point\"])\n",
    "# altdata_keypoints\n",
    "training = np.array(np.hstack((altdata_arguments, altdata_keypoints)))\n",
    "training"
   ],
   "metadata": {
    "collapsed": false,
    "pycharm": {
     "name": "#%%\n"
    }
   }
  },
  {
   "cell_type": "code",
   "execution_count": 24,
   "outputs": [
    {
     "data": {
      "text/plain": "array([0, 0, 0, ..., 0, 0, 0])"
     },
     "execution_count": 24,
     "metadata": {},
     "output_type": "execute_result"
    }
   ],
   "source": [
    "labels = np.array(full_dataset[\"label\"])\n",
    "labels.dtype\n",
    "labels=np.asarray(labels).astype(int)\n",
    "labels\n",
    "# training.dtype\n",
    "# training.dtypes"
   ],
   "metadata": {
    "collapsed": false,
    "pycharm": {
     "name": "#%%\n"
    }
   }
  },
  {
   "cell_type": "code",
   "execution_count": 58,
   "outputs": [
    {
     "name": "stdout",
     "output_type": "stream",
     "text": [
      "Epoch 1/5\n",
      "8520/8520 [==============================] - 52s 6ms/step - loss: 0.2539\n",
      "Epoch 2/5\n",
      "8520/8520 [==============================] - 53s 6ms/step - loss: 0.2507\n",
      "Epoch 3/5\n",
      "8520/8520 [==============================] - 54s 6ms/step - loss: 0.2504\n",
      "Epoch 4/5\n",
      "8520/8520 [==============================] - 54s 6ms/step - loss: 0.2506\n",
      "Epoch 5/5\n",
      "8520/8520 [==============================] - 52s 6ms/step - loss: 0.2506\n",
      "Model: \"sequential_6\"\n",
      "_________________________________________________________________\n",
      " Layer (type)                Output Shape              Param #   \n",
      "=================================================================\n",
      " dense_12 (Dense)            (None, 768)               1180416   \n",
      "                                                                 \n",
      " dense_13 (Dense)            (None, 1)                 769       \n",
      "                                                                 \n",
      "=================================================================\n",
      "Total params: 1,181,185\n",
      "Trainable params: 1,181,185\n",
      "Non-trainable params: 0\n",
      "_________________________________________________________________\n"
     ]
    }
   ],
   "source": [
    "model = keras.Sequential()\n",
    "model.add(Dense(768, activation='softmax', input_dim=(1536)))\n",
    "model.add(Dense(1, activation='linear'))\n",
    "model.compile(optimizer='sgd', loss='mse')\n",
    "model.fit(training, labels, epochs=5, verbose=1, batch_size = 1)\n",
    "model.summary()"
   ],
   "metadata": {
    "collapsed": false,
    "pycharm": {
     "name": "#%%\n"
    }
   }
  },
  {
   "cell_type": "code",
   "execution_count": 38,
   "outputs": [],
   "source": [
    "model.save('RegressionNNtest.h5')"
   ],
   "metadata": {
    "collapsed": false,
    "pycharm": {
     "name": "#%%\n"
    }
   }
  },
  {
   "cell_type": "code",
   "execution_count": 59,
   "outputs": [
    {
     "data": {
      "text/plain": "array([[0.5074525],\n       [0.5074525],\n       [0.5074525],\n       ...,\n       [0.5074525],\n       [0.5074525],\n       [0.5074525]], dtype=float32)"
     },
     "execution_count": 59,
     "metadata": {},
     "output_type": "execute_result"
    }
   ],
   "source": [
    "pred = model.predict(training)\n",
    "pred"
   ],
   "metadata": {
    "collapsed": false,
    "pycharm": {
     "name": "#%%\n"
    }
   }
  },
  {
   "cell_type": "code",
   "execution_count": 60,
   "outputs": [
    {
     "data": {
      "text/plain": "(8520,)"
     },
     "execution_count": 60,
     "metadata": {},
     "output_type": "execute_result"
    }
   ],
   "source": [
    "labels.shape"
   ],
   "metadata": {
    "collapsed": false,
    "pycharm": {
     "name": "#%%\n"
    }
   }
  },
  {
   "cell_type": "code",
   "execution_count": 61,
   "outputs": [
    {
     "data": {
      "text/plain": "0.5"
     },
     "execution_count": 61,
     "metadata": {},
     "output_type": "execute_result"
    }
   ],
   "source": [
    "pred = pred.flatten()\n",
    "\n",
    "res = np.vstack((pred, labels))\n",
    "df_res = pd.DataFrame(res)\n",
    "df_res = df_res.transpose()\n",
    "df_res.columns = [\"predicted\", \"true\"]\n",
    "df_res['predicted_label'] = np.where(df_res['predicted'] >= 0.5, 1, 0)\n",
    "df_res['match'] = np.where(df_res['true'] == df_res['predicted_label'], 1, 0)\n",
    "\n",
    "df_res['match'].sum()\n",
    "accuracy = df_res['match'].sum() / df_res.shape[0]\n",
    "accuracy"
   ],
   "metadata": {
    "collapsed": false,
    "pycharm": {
     "name": "#%%\n"
    }
   }
  },
  {
   "cell_type": "code",
   "execution_count": 29,
   "outputs": [
    {
     "data": {
      "text/plain": "         predicted         true  predicted_label        match\ncount  8520.000000  8520.000000      8520.000000  8520.000000\nmean      0.538504     0.500000         0.463380     0.771362\nstd       0.288646     0.500029         0.498686     0.419981\nmin      -0.038068     0.000000         0.000000     0.000000\n25%       0.315202     0.000000         0.000000     1.000000\n50%       0.453401     0.500000         0.000000     1.000000\n75%       0.843960     1.000000         1.000000     1.000000\nmax       0.993901     1.000000         1.000000     1.000000",
      "text/html": "<div>\n<style scoped>\n    .dataframe tbody tr th:only-of-type {\n        vertical-align: middle;\n    }\n\n    .dataframe tbody tr th {\n        vertical-align: top;\n    }\n\n    .dataframe thead th {\n        text-align: right;\n    }\n</style>\n<table border=\"1\" class=\"dataframe\">\n  <thead>\n    <tr style=\"text-align: right;\">\n      <th></th>\n      <th>predicted</th>\n      <th>true</th>\n      <th>predicted_label</th>\n      <th>match</th>\n    </tr>\n  </thead>\n  <tbody>\n    <tr>\n      <th>count</th>\n      <td>8520.000000</td>\n      <td>8520.000000</td>\n      <td>8520.000000</td>\n      <td>8520.000000</td>\n    </tr>\n    <tr>\n      <th>mean</th>\n      <td>0.538504</td>\n      <td>0.500000</td>\n      <td>0.463380</td>\n      <td>0.771362</td>\n    </tr>\n    <tr>\n      <th>std</th>\n      <td>0.288646</td>\n      <td>0.500029</td>\n      <td>0.498686</td>\n      <td>0.419981</td>\n    </tr>\n    <tr>\n      <th>min</th>\n      <td>-0.038068</td>\n      <td>0.000000</td>\n      <td>0.000000</td>\n      <td>0.000000</td>\n    </tr>\n    <tr>\n      <th>25%</th>\n      <td>0.315202</td>\n      <td>0.000000</td>\n      <td>0.000000</td>\n      <td>1.000000</td>\n    </tr>\n    <tr>\n      <th>50%</th>\n      <td>0.453401</td>\n      <td>0.500000</td>\n      <td>0.000000</td>\n      <td>1.000000</td>\n    </tr>\n    <tr>\n      <th>75%</th>\n      <td>0.843960</td>\n      <td>1.000000</td>\n      <td>1.000000</td>\n      <td>1.000000</td>\n    </tr>\n    <tr>\n      <th>max</th>\n      <td>0.993901</td>\n      <td>1.000000</td>\n      <td>1.000000</td>\n      <td>1.000000</td>\n    </tr>\n  </tbody>\n</table>\n</div>"
     },
     "execution_count": 29,
     "metadata": {},
     "output_type": "execute_result"
    }
   ],
   "source": [
    "df_res.describe()"
   ],
   "metadata": {
    "collapsed": false,
    "pycharm": {
     "name": "#%%\n"
    }
   }
  },
  {
   "cell_type": "code",
   "execution_count": 30,
   "outputs": [
    {
     "data": {
      "text/plain": "         predicted    true  predicted_label        match\ncount  4260.000000  4260.0      4260.000000  4260.000000\nmean      0.712820     1.0         0.734742     0.734742\nstd       0.246643     0.0         0.441522     0.441522\nmin       0.039602     1.0         0.000000     0.000000\n25%       0.478523     1.0         0.000000     0.000000\n50%       0.809449     1.0         1.000000     1.000000\n75%       0.928725     1.0         1.000000     1.000000\nmax       0.993763     1.0         1.000000     1.000000",
      "text/html": "<div>\n<style scoped>\n    .dataframe tbody tr th:only-of-type {\n        vertical-align: middle;\n    }\n\n    .dataframe tbody tr th {\n        vertical-align: top;\n    }\n\n    .dataframe thead th {\n        text-align: right;\n    }\n</style>\n<table border=\"1\" class=\"dataframe\">\n  <thead>\n    <tr style=\"text-align: right;\">\n      <th></th>\n      <th>predicted</th>\n      <th>true</th>\n      <th>predicted_label</th>\n      <th>match</th>\n    </tr>\n  </thead>\n  <tbody>\n    <tr>\n      <th>count</th>\n      <td>4260.000000</td>\n      <td>4260.0</td>\n      <td>4260.000000</td>\n      <td>4260.000000</td>\n    </tr>\n    <tr>\n      <th>mean</th>\n      <td>0.712820</td>\n      <td>1.0</td>\n      <td>0.734742</td>\n      <td>0.734742</td>\n    </tr>\n    <tr>\n      <th>std</th>\n      <td>0.246643</td>\n      <td>0.0</td>\n      <td>0.441522</td>\n      <td>0.441522</td>\n    </tr>\n    <tr>\n      <th>min</th>\n      <td>0.039602</td>\n      <td>1.0</td>\n      <td>0.000000</td>\n      <td>0.000000</td>\n    </tr>\n    <tr>\n      <th>25%</th>\n      <td>0.478523</td>\n      <td>1.0</td>\n      <td>0.000000</td>\n      <td>0.000000</td>\n    </tr>\n    <tr>\n      <th>50%</th>\n      <td>0.809449</td>\n      <td>1.0</td>\n      <td>1.000000</td>\n      <td>1.000000</td>\n    </tr>\n    <tr>\n      <th>75%</th>\n      <td>0.928725</td>\n      <td>1.0</td>\n      <td>1.000000</td>\n      <td>1.000000</td>\n    </tr>\n    <tr>\n      <th>max</th>\n      <td>0.993763</td>\n      <td>1.0</td>\n      <td>1.000000</td>\n      <td>1.000000</td>\n    </tr>\n  </tbody>\n</table>\n</div>"
     },
     "execution_count": 30,
     "metadata": {},
     "output_type": "execute_result"
    }
   ],
   "source": [
    "df_one = df_res[df_res[\"true\"] == 1]\n",
    "df_one.describe()"
   ],
   "metadata": {
    "collapsed": false,
    "pycharm": {
     "name": "#%%\n"
    }
   }
  },
  {
   "cell_type": "code",
   "execution_count": null,
   "outputs": [],
   "source": [
    "df_zeros = df_res[df_res[\"true\"] == 0]\n",
    "df_zeros.describe()"
   ],
   "metadata": {
    "collapsed": false,
    "pycharm": {
     "name": "#%%\n",
     "is_executing": true
    }
   }
  },
  {
   "cell_type": "code",
   "execution_count": null,
   "outputs": [],
   "source": [],
   "metadata": {
    "collapsed": false,
    "pycharm": {
     "name": "#%%\n",
     "is_executing": true
    }
   }
  },
  {
   "cell_type": "code",
   "execution_count": 31,
   "outputs": [],
   "source": [
    "df_arguments_test = pd.read_csv(\"kpm_data/arguments_test.csv\")\n",
    "df_keypoints_test = pd.read_csv(\"kpm_data/key_points_test.csv\")\n",
    "df_labels_test = pd.read_csv(\"kpm_data/labels_test.csv\")"
   ],
   "metadata": {
    "collapsed": false,
    "pycharm": {
     "name": "#%%\n"
    }
   }
  },
  {
   "cell_type": "code",
   "execution_count": 32,
   "outputs": [
    {
     "data": {
      "text/plain": "         arg_id key_point_id  label\n0     arg_0_112       kp_0_4      0\n1     arg_0_112       kp_0_5      0\n2     arg_0_112       kp_0_6      0\n3     arg_0_112       kp_0_7      1\n4       arg_0_0       kp_0_0      0\n...         ...          ...    ...\n3421  arg_1_232       kp_1_9      0\n3422  arg_0_111       kp_0_3      0\n3423  arg_0_111       kp_0_0      1\n3424  arg_0_111       kp_0_1      0\n3425  arg_0_111       kp_0_2      0\n\n[3426 rows x 3 columns]",
      "text/html": "<div>\n<style scoped>\n    .dataframe tbody tr th:only-of-type {\n        vertical-align: middle;\n    }\n\n    .dataframe tbody tr th {\n        vertical-align: top;\n    }\n\n    .dataframe thead th {\n        text-align: right;\n    }\n</style>\n<table border=\"1\" class=\"dataframe\">\n  <thead>\n    <tr style=\"text-align: right;\">\n      <th></th>\n      <th>arg_id</th>\n      <th>key_point_id</th>\n      <th>label</th>\n    </tr>\n  </thead>\n  <tbody>\n    <tr>\n      <th>0</th>\n      <td>arg_0_112</td>\n      <td>kp_0_4</td>\n      <td>0</td>\n    </tr>\n    <tr>\n      <th>1</th>\n      <td>arg_0_112</td>\n      <td>kp_0_5</td>\n      <td>0</td>\n    </tr>\n    <tr>\n      <th>2</th>\n      <td>arg_0_112</td>\n      <td>kp_0_6</td>\n      <td>0</td>\n    </tr>\n    <tr>\n      <th>3</th>\n      <td>arg_0_112</td>\n      <td>kp_0_7</td>\n      <td>1</td>\n    </tr>\n    <tr>\n      <th>4</th>\n      <td>arg_0_0</td>\n      <td>kp_0_0</td>\n      <td>0</td>\n    </tr>\n    <tr>\n      <th>...</th>\n      <td>...</td>\n      <td>...</td>\n      <td>...</td>\n    </tr>\n    <tr>\n      <th>3421</th>\n      <td>arg_1_232</td>\n      <td>kp_1_9</td>\n      <td>0</td>\n    </tr>\n    <tr>\n      <th>3422</th>\n      <td>arg_0_111</td>\n      <td>kp_0_3</td>\n      <td>0</td>\n    </tr>\n    <tr>\n      <th>3423</th>\n      <td>arg_0_111</td>\n      <td>kp_0_0</td>\n      <td>1</td>\n    </tr>\n    <tr>\n      <th>3424</th>\n      <td>arg_0_111</td>\n      <td>kp_0_1</td>\n      <td>0</td>\n    </tr>\n    <tr>\n      <th>3425</th>\n      <td>arg_0_111</td>\n      <td>kp_0_2</td>\n      <td>0</td>\n    </tr>\n  </tbody>\n</table>\n<p>3426 rows × 3 columns</p>\n</div>"
     },
     "execution_count": 32,
     "metadata": {},
     "output_type": "execute_result"
    }
   ],
   "source": [
    "df_labels_test"
   ],
   "metadata": {
    "collapsed": false,
    "pycharm": {
     "name": "#%%\n"
    }
   }
  },
  {
   "cell_type": "code",
   "execution_count": 33,
   "outputs": [
    {
     "data": {
      "text/plain": "         arg_id key_point_id label  \\\n0      arg_0_59       kp_0_1     1   \n1      arg_0_34       kp_0_1     1   \n2      arg_0_24       kp_0_1     1   \n3     arg_0_100       kp_0_1     1   \n4      arg_0_57       kp_0_1     1   \n...         ...          ...   ...   \n1260   arg_2_26       kp_2_2     0   \n1261   arg_2_13       kp_2_2     1   \n1262   arg_2_11       kp_2_2     0   \n1263   arg_2_53       kp_2_2     0   \n1264   arg_2_16       kp_2_2     1   \n\n                                               argument  \\\n0     assited suicide allows those with a painful an...   \n1     assisted suicide should not be a criminal defe...   \n2     assisted suicide is necessary in our modern wo...   \n3     people who are terminally ill and suffering gr...   \n4     assisted suicides are less painful and are an ...   \n...                                                 ...   \n1260  it is a proper choice of each person who choos...   \n1261  celibacy is a state of purity the church shoul...   \n1262  celibacy is a personal choice. it is up to the...   \n1263  the vow of celibacy is a safe-guard that a per...   \n1264  Celibacy is an important part of priesthood an...   \n\n                                            topic_x  stance_x  \\\n0     Assisted suicide should be a criminal offence        -1   \n1     Assisted suicide should be a criminal offence        -1   \n2     Assisted suicide should be a criminal offence        -1   \n3     Assisted suicide should be a criminal offence        -1   \n4     Assisted suicide should be a criminal offence        -1   \n...                                             ...       ...   \n1260        The vow of celibacy should be abandoned        -1   \n1261        The vow of celibacy should be abandoned        -1   \n1262        The vow of celibacy should be abandoned        -1   \n1263        The vow of celibacy should be abandoned        -1   \n1264        The vow of celibacy should be abandoned        -1   \n\n                                           key_point  \\\n0     Mandatory vaccination contradicts basic rights   \n1     Mandatory vaccination contradicts basic rights   \n2     Mandatory vaccination contradicts basic rights   \n3     Mandatory vaccination contradicts basic rights   \n4     Mandatory vaccination contradicts basic rights   \n...                                              ...   \n1260   The US has high taxation/high costs of living   \n1261   The US has high taxation/high costs of living   \n1262   The US has high taxation/high costs of living   \n1263   The US has high taxation/high costs of living   \n1264   The US has high taxation/high costs of living   \n\n                                             topic_y  stance_y  \n0     Routine child vaccinations should be mandatory        -1  \n1     Routine child vaccinations should be mandatory        -1  \n2     Routine child vaccinations should be mandatory        -1  \n3     Routine child vaccinations should be mandatory        -1  \n4     Routine child vaccinations should be mandatory        -1  \n...                                              ...       ...  \n1260            The USA is a good country to live in        -1  \n1261            The USA is a good country to live in        -1  \n1262            The USA is a good country to live in        -1  \n1263            The USA is a good country to live in        -1  \n1264            The USA is a good country to live in        -1  \n\n[1265 rows x 9 columns]",
      "text/html": "<div>\n<style scoped>\n    .dataframe tbody tr th:only-of-type {\n        vertical-align: middle;\n    }\n\n    .dataframe tbody tr th {\n        vertical-align: top;\n    }\n\n    .dataframe thead th {\n        text-align: right;\n    }\n</style>\n<table border=\"1\" class=\"dataframe\">\n  <thead>\n    <tr style=\"text-align: right;\">\n      <th></th>\n      <th>arg_id</th>\n      <th>key_point_id</th>\n      <th>label</th>\n      <th>argument</th>\n      <th>topic_x</th>\n      <th>stance_x</th>\n      <th>key_point</th>\n      <th>topic_y</th>\n      <th>stance_y</th>\n    </tr>\n  </thead>\n  <tbody>\n    <tr>\n      <th>0</th>\n      <td>arg_0_59</td>\n      <td>kp_0_1</td>\n      <td>1</td>\n      <td>assited suicide allows those with a painful an...</td>\n      <td>Assisted suicide should be a criminal offence</td>\n      <td>-1</td>\n      <td>Mandatory vaccination contradicts basic rights</td>\n      <td>Routine child vaccinations should be mandatory</td>\n      <td>-1</td>\n    </tr>\n    <tr>\n      <th>1</th>\n      <td>arg_0_34</td>\n      <td>kp_0_1</td>\n      <td>1</td>\n      <td>assisted suicide should not be a criminal defe...</td>\n      <td>Assisted suicide should be a criminal offence</td>\n      <td>-1</td>\n      <td>Mandatory vaccination contradicts basic rights</td>\n      <td>Routine child vaccinations should be mandatory</td>\n      <td>-1</td>\n    </tr>\n    <tr>\n      <th>2</th>\n      <td>arg_0_24</td>\n      <td>kp_0_1</td>\n      <td>1</td>\n      <td>assisted suicide is necessary in our modern wo...</td>\n      <td>Assisted suicide should be a criminal offence</td>\n      <td>-1</td>\n      <td>Mandatory vaccination contradicts basic rights</td>\n      <td>Routine child vaccinations should be mandatory</td>\n      <td>-1</td>\n    </tr>\n    <tr>\n      <th>3</th>\n      <td>arg_0_100</td>\n      <td>kp_0_1</td>\n      <td>1</td>\n      <td>people who are terminally ill and suffering gr...</td>\n      <td>Assisted suicide should be a criminal offence</td>\n      <td>-1</td>\n      <td>Mandatory vaccination contradicts basic rights</td>\n      <td>Routine child vaccinations should be mandatory</td>\n      <td>-1</td>\n    </tr>\n    <tr>\n      <th>4</th>\n      <td>arg_0_57</td>\n      <td>kp_0_1</td>\n      <td>1</td>\n      <td>assisted suicides are less painful and are an ...</td>\n      <td>Assisted suicide should be a criminal offence</td>\n      <td>-1</td>\n      <td>Mandatory vaccination contradicts basic rights</td>\n      <td>Routine child vaccinations should be mandatory</td>\n      <td>-1</td>\n    </tr>\n    <tr>\n      <th>...</th>\n      <td>...</td>\n      <td>...</td>\n      <td>...</td>\n      <td>...</td>\n      <td>...</td>\n      <td>...</td>\n      <td>...</td>\n      <td>...</td>\n      <td>...</td>\n    </tr>\n    <tr>\n      <th>1260</th>\n      <td>arg_2_26</td>\n      <td>kp_2_2</td>\n      <td>0</td>\n      <td>it is a proper choice of each person who choos...</td>\n      <td>The vow of celibacy should be abandoned</td>\n      <td>-1</td>\n      <td>The US has high taxation/high costs of living</td>\n      <td>The USA is a good country to live in</td>\n      <td>-1</td>\n    </tr>\n    <tr>\n      <th>1261</th>\n      <td>arg_2_13</td>\n      <td>kp_2_2</td>\n      <td>1</td>\n      <td>celibacy is a state of purity the church shoul...</td>\n      <td>The vow of celibacy should be abandoned</td>\n      <td>-1</td>\n      <td>The US has high taxation/high costs of living</td>\n      <td>The USA is a good country to live in</td>\n      <td>-1</td>\n    </tr>\n    <tr>\n      <th>1262</th>\n      <td>arg_2_11</td>\n      <td>kp_2_2</td>\n      <td>0</td>\n      <td>celibacy is a personal choice. it is up to the...</td>\n      <td>The vow of celibacy should be abandoned</td>\n      <td>-1</td>\n      <td>The US has high taxation/high costs of living</td>\n      <td>The USA is a good country to live in</td>\n      <td>-1</td>\n    </tr>\n    <tr>\n      <th>1263</th>\n      <td>arg_2_53</td>\n      <td>kp_2_2</td>\n      <td>0</td>\n      <td>the vow of celibacy is a safe-guard that a per...</td>\n      <td>The vow of celibacy should be abandoned</td>\n      <td>-1</td>\n      <td>The US has high taxation/high costs of living</td>\n      <td>The USA is a good country to live in</td>\n      <td>-1</td>\n    </tr>\n    <tr>\n      <th>1264</th>\n      <td>arg_2_16</td>\n      <td>kp_2_2</td>\n      <td>1</td>\n      <td>Celibacy is an important part of priesthood an...</td>\n      <td>The vow of celibacy should be abandoned</td>\n      <td>-1</td>\n      <td>The US has high taxation/high costs of living</td>\n      <td>The USA is a good country to live in</td>\n      <td>-1</td>\n    </tr>\n  </tbody>\n</table>\n<p>1265 rows × 9 columns</p>\n</div>"
     },
     "execution_count": 33,
     "metadata": {},
     "output_type": "execute_result"
    }
   ],
   "source": [
    "merged_dataset_test=df_labels.merge(df_arguments_test, left_on=\"arg_id\", right_on=\"arg_id\")\n",
    "# df_arguments.loc[df_arguments['arg_id'] == \"arg_4_121\"]\n",
    "full_dataset_test=merged_dataset.merge(df_keypoints_test, left_on=\"key_point_id\", right_on=\"key_point_id\")\n",
    "full_dataset_test"
   ],
   "metadata": {
    "collapsed": false,
    "pycharm": {
     "name": "#%%\n"
    }
   }
  },
  {
   "cell_type": "code",
   "execution_count": 34,
   "outputs": [
    {
     "data": {
      "text/plain": "array([[-0.24850523,  0.19954897,  1.124284  , ..., -0.17297818,\n        -0.91488683,  0.5066472 ],\n       [-0.06659681,  0.65394026,  0.5140067 , ..., -0.17297818,\n        -0.91488683,  0.5066472 ],\n       [-0.0396717 ,  0.6117953 ,  0.7496689 , ..., -0.17297818,\n        -0.91488683,  0.5066472 ],\n       ...,\n       [-0.33892244,  0.2477396 ,  0.75089955, ..., -0.5594947 ,\n        -0.32103527, -0.7785235 ],\n       [-0.12383575,  0.8471346 ,  1.028576  , ..., -0.5594947 ,\n        -0.32103527, -0.7785235 ],\n       [ 0.00511938,  0.58187443,  0.69142115, ..., -0.5594947 ,\n        -0.32103527, -0.7785235 ]], dtype=float32)"
     },
     "execution_count": 34,
     "metadata": {},
     "output_type": "execute_result"
    }
   ],
   "source": [
    "altdata_arguments_test = sbert_model.encode(full_dataset_test[\"argument\"])\n",
    "# altdata_arguments\n",
    "altdata_keypoints_test = sbert_model.encode(full_dataset_test[\"key_point\"])\n",
    "# altdata_keypoints\n",
    "training_test = np.hstack((altdata_arguments_test, altdata_keypoints_test))\n",
    "training_test"
   ],
   "metadata": {
    "collapsed": false,
    "pycharm": {
     "name": "#%%\n"
    }
   }
  },
  {
   "cell_type": "markdown",
   "source": [],
   "metadata": {
    "collapsed": false
   }
  },
  {
   "cell_type": "code",
   "execution_count": 44,
   "outputs": [],
   "source": [
    "labels_test = np.array(full_dataset_test[\"label\"])"
   ],
   "metadata": {
    "collapsed": false,
    "pycharm": {
     "name": "#%%\n"
    }
   }
  },
  {
   "cell_type": "code",
   "execution_count": 56,
   "outputs": [
    {
     "data": {
      "text/plain": "array([[0.4293753 ],\n       [0.92215025],\n       [0.74049145],\n       ...,\n       [0.02054828],\n       [0.02099776],\n       [0.05051783]], dtype=float32)"
     },
     "execution_count": 56,
     "metadata": {},
     "output_type": "execute_result"
    }
   ],
   "source": [
    "pred = model.predict(training_test)\n",
    "pred"
   ],
   "metadata": {
    "collapsed": false,
    "pycharm": {
     "name": "#%%\n"
    }
   }
  },
  {
   "cell_type": "code",
   "execution_count": 57,
   "outputs": [
    {
     "data": {
      "text/plain": "0.4972332015810277"
     },
     "execution_count": 57,
     "metadata": {},
     "output_type": "execute_result"
    }
   ],
   "source": [
    "pred = pred.flatten()\n",
    "\n",
    "res = np.vstack((pred, labels_test))\n",
    "df_res = pd.DataFrame(res)\n",
    "df_res = df_res.transpose()\n",
    "df_res.columns = [\"predicted\", \"true\"]\n",
    "df_res['predicted_label'] = np.where(df_res['predicted'] >= 0.5, 1, 0)\n",
    "df_res['match'] = np.where(df_res['true'] == df_res['predicted_label'], 1, 0)\n",
    "\n",
    "df_res['match'].sum()\n",
    "accuracy = df_res['match'].sum() / df_res.shape[0]\n",
    "accuracy"
   ],
   "metadata": {
    "collapsed": false,
    "pycharm": {
     "name": "#%%\n"
    }
   }
  },
  {
   "cell_type": "code",
   "execution_count": null,
   "outputs": [],
   "source": [],
   "metadata": {
    "collapsed": false,
    "pycharm": {
     "name": "#%%\n",
     "is_executing": true
    }
   }
  },
  {
   "cell_type": "code",
   "execution_count": null,
   "outputs": [],
   "source": [
    "import sklearn as skl"
   ],
   "metadata": {
    "collapsed": false,
    "pycharm": {
     "name": "#%%\n",
     "is_executing": true
    }
   }
  },
  {
   "cell_type": "code",
   "execution_count": null,
   "outputs": [],
   "source": [
    "df_res[\"true\"]"
   ],
   "metadata": {
    "collapsed": false,
    "pycharm": {
     "name": "#%%\n",
     "is_executing": true
    }
   }
  },
  {
   "cell_type": "code",
   "execution_count": null,
   "outputs": [],
   "source": [
    "skl.metrics.f1_score(np.asarray(df_res[\"true\"]).astype(float), np.asarray(df_res[\"predicted_label\"]).astype(float))"
   ],
   "metadata": {
    "collapsed": false,
    "pycharm": {
     "name": "#%%\n",
     "is_executing": true
    }
   }
  },
  {
   "cell_type": "code",
   "execution_count": null,
   "outputs": [],
   "source": [
    "df_res"
   ],
   "metadata": {
    "collapsed": false,
    "pycharm": {
     "name": "#%%\n",
     "is_executing": true
    }
   }
  },
  {
   "cell_type": "code",
   "execution_count": null,
   "outputs": [],
   "source": [
    "df_res.describe()\n"
   ],
   "metadata": {
    "collapsed": false,
    "pycharm": {
     "name": "#%%\n",
     "is_executing": true
    }
   }
  },
  {
   "cell_type": "code",
   "execution_count": null,
   "outputs": [],
   "source": [
    "df_one = df_res[df_res[\"true\"] == 1]\n",
    "df_one.describe()"
   ],
   "metadata": {
    "collapsed": false,
    "pycharm": {
     "name": "#%%\n",
     "is_executing": true
    }
   }
  },
  {
   "cell_type": "code",
   "execution_count": null,
   "outputs": [],
   "source": [
    "df_zeros = df_res[df_res[\"true\"] == 0]\n",
    "df_zeros.describe()"
   ],
   "metadata": {
    "collapsed": false,
    "pycharm": {
     "name": "#%%\n",
     "is_executing": true
    }
   }
  },
  {
   "cell_type": "markdown",
   "source": [],
   "metadata": {
    "collapsed": false
   }
  }
 ],
 "metadata": {
  "kernelspec": {
   "name": "conda-env-ExpAI-py",
   "language": "python",
   "display_name": "Python [conda env:ExpAI]"
  },
  "language_info": {
   "codemirror_mode": {
    "name": "ipython",
    "version": 3
   },
   "file_extension": ".py",
   "mimetype": "text/x-python",
   "name": "python",
   "nbconvert_exporter": "python",
   "pygments_lexer": "ipython3",
   "version": "3.8.12"
  },
  "varInspector": {
   "cols": {
    "lenName": 16,
    "lenType": 16,
    "lenVar": 40
   },
   "kernels_config": {
    "python": {
     "delete_cmd_postfix": "",
     "delete_cmd_prefix": "del ",
     "library": "var_list.py",
     "varRefreshCmd": "print(var_dic_list())"
    },
    "r": {
     "delete_cmd_postfix": ") ",
     "delete_cmd_prefix": "rm(",
     "library": "var_list.r",
     "varRefreshCmd": "cat(var_dic_list()) "
    }
   },
   "types_to_exclude": [
    "module",
    "function",
    "builtin_function_or_method",
    "instance",
    "_Feature"
   ],
   "window_display": false
  }
 },
 "nbformat": 4,
 "nbformat_minor": 4
}